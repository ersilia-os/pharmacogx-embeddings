{
 "cells": [
  {
   "cell_type": "markdown",
   "metadata": {},
   "source": [
    "# Figure 1: Data overview\n",
    "\n",
    "Focus on PGx information available in general and compare it to the available information in Africa. For all drugs and then also a focus on our drugs of interest and ADME genes."
   ]
  },
  {
   "cell_type": "code",
   "execution_count": 20,
   "metadata": {},
   "outputs": [],
   "source": [
    "import os\n",
    "import pandas as pd\n",
    "import matplotlib.pyplot as plt\n",
    "import stylia as st\n",
    "from stylia import NamedColors, ContinuousColorMap, ONE_COLUMN_WIDTH, TWO_COLUMNS_WIDTH\n",
    "\n",
    "DATAPATH = \"../data\"\n",
    "RESULTSPATH = \"../results\"\n",
    "\n",
    "colors = NamedColors()\n",
    "red = colors.get(\"red\")\n",
    "blue = colors.get(\"blue\")\n",
    "purple = colors.get(\"purple\")\n",
    "yellow = colors.get(\"yellow\")\n",
    "green = colors.get(\"green\")\n",
    "gray = colors.get(\"gray\")"
   ]
  },
  {
   "cell_type": "markdown",
   "metadata": {},
   "source": [
    "## Figure 1A\n",
    "Drug annotations for infectious vs non-infectious diseases in PharmGKB\n",
    "\n",
    "Problem: diseases in PharmGKB are not grouped in Infectious vs Non Infectious, we have a list of ~3500 conditions. Add a column to diseases.csv using ChatGPT and revise manually\n",
    "We can do only malaria and TB vs the rest, but it would be quite misrrepresentative.\n",
    "\n",
    "Also, many drugs do not have the disease correctly associated (it was missing in the clinical_annotations.csv file originally, so the fields have been left empty). Even if we annotate them manually, how do we know if one annotation is for a specific disease or for another? many drugs are associated to more than one disease."
   ]
  },
  {
   "cell_type": "code",
   "execution_count": 2,
   "metadata": {},
   "outputs": [
    {
     "name": "stdout",
     "output_type": "stream",
     "text": [
      "1116 1116 1116\n"
     ]
    },
    {
     "name": "stderr",
     "output_type": "stream",
     "text": [
      "/var/folders/rx/fqf_ssrj14q0h5dmx8vgdvpm0000gn/T/ipykernel_77476/3123038068.py:8: SettingWithCopyWarning: \n",
      "A value is trying to be set on a copy of a slice from a DataFrame\n",
      "\n",
      "See the caveats in the documentation: https://pandas.pydata.org/pandas-docs/stable/user_guide/indexing.html#returning-a-view-versus-a-copy\n",
      "  df2d.drop_duplicates(keep=\"first\", inplace=True)\n",
      "/var/folders/rx/fqf_ssrj14q0h5dmx8vgdvpm0000gn/T/ipykernel_77476/3123038068.py:9: SettingWithCopyWarning: \n",
      "A value is trying to be set on a copy of a slice from a DataFrame\n",
      "\n",
      "See the caveats in the documentation: https://pandas.pydata.org/pandas-docs/stable/user_guide/indexing.html#returning-a-view-versus-a-copy\n",
      "  df2d.sort_values(by=\"cid\", inplace=True)\n"
     ]
    }
   ],
   "source": [
    "df = pd.read_csv(os.path.join(DATAPATH,\"pharmgkb_processed\", \"13_pgkb_merged.csv\"), low_memory=False)\n",
    "d2d = pd.read_csv(os.path.join(DATAPATH, \"drugbank\", \"drugbank_atc_codes.csv\"))\n",
    "len(set(df[\"cid\"])-set(d2d[\"pharmgkb_id\"]))\n",
    "\n",
    "df_ = df.merge(d2d, how='left', left_on='cid', right_on='pharmgkb_id')\n",
    "df_.drop(columns=[\"pharmgkb_id\"], inplace=True)\n",
    "df2d = df_[[\"cid\", \"chemical\", \"atc_codes\", \"disease\", \"is_infectious\", \"is_noncommunicable\"]]\n",
    "df2d.drop_duplicates(keep=\"first\", inplace=True)\n",
    "df2d.sort_values(by=\"cid\", inplace=True)\n",
    "df2d.to_csv(os.path.join(\"data\", \"drugs2disease.csv\"), index=False)\n",
    "print(len(set(df[\"cid\"])), len(set(df_[\"cid\"])), len(set(df2d[\"cid\"])))"
   ]
  },
  {
   "cell_type": "code",
   "execution_count": 3,
   "metadata": {},
   "outputs": [
    {
     "name": "stdout",
     "output_type": "stream",
     "text": [
      "1116\n",
      "(1116, 5)\n",
      "(88784, 12) (88784, 15)\n"
     ]
    }
   ],
   "source": [
    "d2d = pd.read_csv(\"data/drugs2disease_manual.csv\")\n",
    "print(len(set(d2d[\"cid\"])))\n",
    "d2d = d2d[['cid', 'chemical', 'atc_codes', 'is_infectious','is_noncommunicable']]\n",
    "d2d = d2d.drop_duplicates(keep=\"first\")\n",
    "print(d2d.shape)\n",
    "df_ = df.merge(d2d, how='left', on=['cid', 'chemical'])\n",
    "print(df.shape, df_.shape)"
   ]
  },
  {
   "cell_type": "code",
   "execution_count": 21,
   "metadata": {},
   "outputs": [
    {
     "data": {
      "text/plain": [
       "Text(0.5, 1.0, 'PharmGKB annotations by disease class')"
      ]
     },
     "execution_count": 21,
     "metadata": {},
     "output_type": "execute_result"
    },
    {
     "data": {
      "image/png": "[encoded data removed]",
      "text/plain": [
       "<Figure size 345x345 with 1 Axes>"
      ]
     },
     "metadata": {},
     "output_type": "display_data"
    }
   ],
   "source": [
    "ncom = df_[df_[\"is_noncommunicable\"]==1]\n",
    "com = df_[df_[\"is_infectious\"]==1]\n",
    "\n",
    "ncom_counts = ncom['cid'].value_counts().reset_index()\n",
    "com_counts = com['cid'].value_counts().reset_index()\n",
    "\n",
    "fig, axs = st.create_figure(1,1)\n",
    "ax = axs.next()\n",
    "plt.boxplot([com_counts['count'], ncom_counts['count']], labels=['Com', 'Non-Com'], showfliers=False)\n",
    "ax.set_ylabel(\"Total annotation counts per drug\")\n",
    "ax.set_xlabel(\"\")\n",
    "ax.set_title(\"PharmGKB annotations by disease class\")"
   ]
  },
  {
   "cell_type": "code",
   "execution_count": 77,
   "metadata": {},
   "outputs": [
    {
     "data": {
      "text/plain": [
       "{'bedaquiline',\n",
       " 'capreomycin',\n",
       " 'clofazimine',\n",
       " 'cycloserine',\n",
       " 'delamanid',\n",
       " 'dihydroartemisinin',\n",
       " 'doxycycline',\n",
       " 'linezolide',\n",
       " 'p-aminosalicylic acid',\n",
       " 'piperaquine',\n",
       " 'pretomanid',\n",
       " 'rifampicin',\n",
       " 'rifapentine',\n",
       " 'strepomycin',\n",
       " 'terizidone'}"
      ]
     },
     "execution_count": 77,
     "metadata": {},
     "output_type": "execute_result"
    }
   ],
   "source": [
    "# our drugs of interest\n",
    "drugs = pd.read_csv(os.path.join(DATAPATH, \"of_interest\", \"curated_drugs_for_gradient.tsv\"), sep=\"\\t\")\n",
    "df = pd.read_csv(os.path.join(DATAPATH,\"pharmgkb_processed\", \"13_pgkb_merged.csv\"), low_memory=False)\n",
    "set([x.lower() for x in drugs[\"Drug\"]])-set(df[\"chemical\"]) "
   ]
  },
  {
   "cell_type": "code",
   "execution_count": 79,
   "metadata": {},
   "outputs": [
    {
     "data": {
      "text/plain": [
       "Text(0.5, 1.0, 'PharmGKB annotations by disease class')"
      ]
     },
     "execution_count": 79,
     "metadata": {},
     "output_type": "execute_result"
    },
    {
     "data": {
      "image/png": "[encoded data removed]",
      "text/plain": [
       "<Figure size 345x345 with 1 Axes>"
      ]
     },
     "metadata": {},
     "output_type": "display_data"
    }
   ],
   "source": [
    "drugs_ann = df[df[\"chemical\"].isin([x.lower() for x in drugs[\"Drug\"]])]\n",
    "drugs_counts = drugs_ann[\"cid\"].value_counts().reset_index()\n",
    "\n",
    "fig, axs = st.create_figure(1,1)\n",
    "ax = axs.next()\n",
    "plt.boxplot([com_counts['count'], ncom_counts['count'], drugs_counts[\"count\"]], labels=['Com', 'Non-Com', 'Selected'], showfliers=False)\n",
    "ax.set_ylabel(\"Total annotation counts per drug\")\n",
    "ax.set_xlabel(\"\")\n",
    "ax.set_title(\"PharmGKB annotations by disease class\")"
   ]
  },
  {
   "cell_type": "markdown",
   "metadata": {},
   "source": [
    "## Figure 1B\n",
    "All genes vs ADME genes.\n",
    "In pharmgkb or in the 1000Genomes curation?\n",
    "\n",
    "Why are adme genes not in 1000Genomes"
   ]
  },
  {
   "cell_type": "code",
   "execution_count": 17,
   "metadata": {},
   "outputs": [
    {
     "name": "stdout",
     "output_type": "stream",
     "text": [
      "283\n",
      "127\n"
     ]
    },
    {
     "data": {
      "text/plain": [
       "{'whiskers': [<matplotlib.lines.Line2D at 0x3273ecfd0>,\n",
       "  <matplotlib.lines.Line2D at 0x3273ed290>,\n",
       "  <matplotlib.lines.Line2D at 0x3273fc890>,\n",
       "  <matplotlib.lines.Line2D at 0x3273fead0>],\n",
       " 'caps': [<matplotlib.lines.Line2D at 0x3273ec610>,\n",
       "  <matplotlib.lines.Line2D at 0x3273fc8d0>,\n",
       "  <matplotlib.lines.Line2D at 0x3273fdd10>,\n",
       "  <matplotlib.lines.Line2D at 0x3273bf890>],\n",
       " 'boxes': [<matplotlib.lines.Line2D at 0x32748c850>,\n",
       "  <matplotlib.lines.Line2D at 0x3273fe810>],\n",
       " 'medians': [<matplotlib.lines.Line2D at 0x3273ffb10>,\n",
       "  <matplotlib.lines.Line2D at 0x3273bca50>],\n",
       " 'fliers': [],\n",
       " 'means': []}"
      ]
     },
     "execution_count": 17,
     "metadata": {},
     "output_type": "execute_result"
    },
    {
     "data": {
      "image/png": "[encoded data removed]",
      "text/plain": [
       "<Figure size 345x345 with 1 Axes>"
      ]
     },
     "metadata": {},
     "output_type": "display_data"
    }
   ],
   "source": [
    "# In PHARMGKB\n",
    "df = pd.read_csv(os.path.join(DATAPATH, \"pharmgkb_processed\", \"13_pgkb_merged.csv\"), low_memory=False)\n",
    "admegenes = pd.read_csv(os.path.join(DATAPATH, \"of_interest\", \"adme_gene_list.tsv\"), sep=\"\\t\")\n",
    "genes = admegenes[\"Gene Symbol\"].tolist()\n",
    "print(len(set(genes))) #CYP20A1 is repeated!\n",
    "\n",
    "genesmissing = list(set(genes)-set(df[\"gene\"]))\n",
    "print(len(set(genesmissing)))\n",
    "\n",
    "admevars = df[df[\"gene\"].isin(genes)]\n",
    "nonadmevars = df[~df[\"gene\"].isin(genes)]\n",
    "\n",
    "admevars_counts = admevars['gene'].value_counts().reset_index()\n",
    "admevars_counts.columns = ['gene', 'frequency']\n",
    "nonadmevars_counts = nonadmevars['gene'].value_counts().reset_index()\n",
    "nonadmevars_counts.columns = ['gene', 'frequency']\n",
    "\n",
    "missing_admevars_df = pd.DataFrame({'gene': list(genesmissing), 'frequency': 0})\n",
    "admevars_counts = pd.concat([admevars_counts, missing_admevars_df], ignore_index=True)\n",
    "\n",
    "fig, axs = st.create_figure(1,1)\n",
    "ax = axs.next()\n",
    "plt.boxplot([admevars_counts['frequency'], nonadmevars_counts['frequency']], labels=['ADME Genes', 'Non-ADME Genes'], showfliers=False)"
   ]
  },
  {
   "cell_type": "code",
   "execution_count": 45,
   "metadata": {},
   "outputs": [
    {
     "name": "stdout",
     "output_type": "stream",
     "text": [
      "13\n"
     ]
    },
    {
     "data": {
      "image/png": "[encoded data removed]",
      "text/plain": [
       "<Figure size 345x345 with 1 Axes>"
      ]
     },
     "metadata": {},
     "output_type": "display_data"
    }
   ],
   "source": [
    "# in 1000 Genomes\n",
    "df = pd.read_csv(os.path.join(DATAPATH, \"variants\", \"1000_Genomes\", \"subset_snvs_protein_coding_1kGPhg38_gene_level.tsv\"), sep=\"\\t\")\n",
    "genesmissing = list(set(genes)-set(df[\"gene\"]))\n",
    "print(len(set(genesmissing)))\n",
    "\n",
    "admevars = df[df[\"gene\"].isin(genes)]\n",
    "nonadmevars = df[~df[\"gene\"].isin(genes)]\n",
    "\n",
    "admevars_counts = admevars[['gene', 'total_variants']]\n",
    "nonadmevars_counts = nonadmevars[['gene', 'total_variants']]\n",
    "\n",
    "missing_admevars_df = pd.DataFrame({'gene': list(genesmissing), 'total_variants': 0})\n",
    "admevars_counts = pd.concat([admevars_counts, missing_admevars_df], ignore_index=True)\n",
    "\n",
    "fig, axs = st.create_figure(1,1)\n",
    "ax = axs.next()\n",
    "colors = [red,blue]\n",
    "medianprops = dict(color=\"black\")\n",
    "bp = ax.boxplot([admevars_counts['total_variants'], nonadmevars_counts['total_variants']], patch_artist=True, labels=['ADME Genes', 'Non-ADME Genes'], medianprops= medianprops,showfliers=False)\n",
    "for patch, color in zip(bp[\"boxes\"], colors):\n",
    "    patch.set_facecolor(color)"
   ]
  },
  {
   "cell_type": "code",
   "execution_count": 43,
   "metadata": {},
   "outputs": [
    {
     "data": {
      "text/plain": [
       "(array([21., 41., 42., 40., 24., 20., 15., 15., 10.,  8.,  2.,  7.,  2.,\n",
       "         6.,  5.,  1.,  3.,  2.,  1.,  2.,  1.,  4.,  2.,  1.,  0.,  0.,\n",
       "         0.,  0.,  0.,  1.,  0.,  0.,  0.,  0.,  1.,  0.,  1.,  0.,  0.,\n",
       "         0.,  2.,  0.,  0.,  1.,  0.,  0.,  0.,  1.,  0.,  0.,  0.,  0.,\n",
       "         0.,  0.,  0.,  0.,  0.,  0.,  0.,  0.,  0.,  0.,  0.,  0.,  0.,\n",
       "         0.,  0.,  0.,  0.,  0.,  0.,  0.,  0.,  0.,  0.,  0.,  0.,  0.,\n",
       "         0.,  0.,  0.,  0.,  0.,  0.,  0.,  0.,  0.,  0.,  0.,  0.,  0.,\n",
       "         0.,  0.,  0.,  0.,  0.,  0.,  0.,  0.,  1.]),\n",
       " array([    0.  ,   213.41,   426.82,   640.23,   853.64,  1067.05,\n",
       "         1280.46,  1493.87,  1707.28,  1920.69,  2134.1 ,  2347.51,\n",
       "         2560.92,  2774.33,  2987.74,  3201.15,  3414.56,  3627.97,\n",
       "         3841.38,  4054.79,  4268.2 ,  4481.61,  4695.02,  4908.43,\n",
       "         5121.84,  5335.25,  5548.66,  5762.07,  5975.48,  6188.89,\n",
       "         6402.3 ,  6615.71,  6829.12,  7042.53,  7255.94,  7469.35,\n",
       "         7682.76,  7896.17,  8109.58,  8322.99,  8536.4 ,  8749.81,\n",
       "         8963.22,  9176.63,  9390.04,  9603.45,  9816.86, 10030.27,\n",
       "        10243.68, 10457.09, 10670.5 , 10883.91, 11097.32, 11310.73,\n",
       "        11524.14, 11737.55, 11950.96, 12164.37, 12377.78, 12591.19,\n",
       "        12804.6 , 13018.01, 13231.42, 13444.83, 13658.24, 13871.65,\n",
       "        14085.06, 14298.47, 14511.88, 14725.29, 14938.7 , 15152.11,\n",
       "        15365.52, 15578.93, 15792.34, 16005.75, 16219.16, 16432.57,\n",
       "        16645.98, 16859.39, 17072.8 , 17286.21, 17499.62, 17713.03,\n",
       "        17926.44, 18139.85, 18353.26, 18566.67, 18780.08, 18993.49,\n",
       "        19206.9 , 19420.31, 19633.72, 19847.13, 20060.54, 20273.95,\n",
       "        20487.36, 20700.77, 20914.18, 21127.59, 21341.  ]),\n",
       " <BarContainer object of 100 artists>)"
      ]
     },
     "execution_count": 43,
     "metadata": {},
     "output_type": "execute_result"
    },
    {
     "data": {
      "image/png": "[encoded data removed]",
      "text/plain": [
       "<Figure size 640x480 with 1 Axes>"
      ]
     },
     "metadata": {},
     "output_type": "display_data"
    }
   ],
   "source": [
    "plt.hist(admevars_counts[\"total_variants\"], bins=100, color=red)\n",
    "#plt.hist(nonadmevars_counts[\"total_variants\"], bins=100, color=blue, alpha=0.5)"
   ]
  },
  {
   "cell_type": "markdown",
   "metadata": {},
   "source": [
    "## Figure 1C\n",
    "\n",
    "Origin of variants in ADME Genes. Plot a stacked barplot"
   ]
  },
  {
   "cell_type": "code",
   "execution_count": 70,
   "metadata": {},
   "outputs": [
    {
     "data": {
      "image/png": "[encoded data removed]",
      "text/plain": [
       "<Figure size 345x345 with 1 Axes>"
      ]
     },
     "metadata": {},
     "output_type": "display_data"
    }
   ],
   "source": [
    "# Summing the columns\n",
    "afr_ab_adme = admevars[\"afr_abundant_variants\"].sum()\n",
    "afr_sp_adme = admevars[\"afr_specific_variants\"].sum()\n",
    "total_adme = admevars[\"total_variants\"].sum()\n",
    "rest_adme = total_adme - afr_ab_adme - afr_sp_adme\n",
    "\n",
    "afr_ab = nonadmevars[\"afr_abundant_variants\"].sum()\n",
    "afr_sp = nonadmevars[\"afr_specific_variants\"].sum()\n",
    "total = nonadmevars[\"total_variants\"].sum()\n",
    "rest = total - afr_ab - afr_sp\n",
    "\n",
    "y1=[afr_sp_adme, afr_sp]\n",
    "y2=[afr_ab_adme, afr_ab]\n",
    "y3=[rest_adme, rest]\n",
    "\n",
    "fig, axs = st.create_figure(1,1)\n",
    "ax=axs.next()\n",
    "ax.bar([\"ADME Genes\", \"Non ADME Genes\"], y1, color=purple)\n",
    "ax.bar([\"ADME Genes\", \"Non ADME Genes\"], y2, bottom=y1, color=yellow)\n",
    "ax.bar([\"ADME Genes\", \"Non ADME Genes\"], y3,bottom=[x+y for x,y in zip(y1,y2)], color=gray)\n",
    "ax.set_xlabel('')\n",
    "ax.set_ylabel('Total Counts')\n",
    "ax.set_title('Stacked Bar Plot of Variant Counts')\n",
    "\n",
    "plt.show()"
   ]
  },
  {
   "cell_type": "code",
   "execution_count": 71,
   "metadata": {},
   "outputs": [
    {
     "data": {
      "image/png": "[encoded data removed]",
      "text/plain": [
       "<Figure size 345x345 with 1 Axes>"
      ]
     },
     "metadata": {},
     "output_type": "display_data"
    }
   ],
   "source": [
    "# Summing the columns\n",
    "afr_ab_adme = admevars[\"afr_abundant_variants\"].sum()\n",
    "afr_sp_adme = admevars[\"afr_specific_variants\"].sum()\n",
    "total_adme = admevars[\"total_variants\"].sum()\n",
    "rest_adme = total_adme - afr_ab_adme - afr_sp_adme\n",
    "\n",
    "y1=[afr_sp_adme]\n",
    "y2=[afr_ab_adme]\n",
    "y3=[rest_adme]\n",
    "\n",
    "# Plotting\n",
    "fig, axs = st.create_figure(1,1)\n",
    "ax=axs.next()\n",
    "ax.bar([\"ADME Genes\"], y1, color=purple)\n",
    "ax.bar([\"ADME Genes\"], y2, bottom = y1, color=yellow)\n",
    "ax.bar([\"ADME Genes\"], y3, bottom = [x+y for x,y in zip(y1,y2)], color=gray)\n",
    "ax.set_xlabel('')\n",
    "ax.set_ylabel('Total Counts')\n",
    "ax.set_title('Stacked Bar Plot of Variant Counts')\n",
    "ax.legend([\"AFR SP\", \"AFR AB\", \"Rest\"])\n",
    "\n",
    "plt.show()"
   ]
  },
  {
   "cell_type": "code",
   "execution_count": 74,
   "metadata": {},
   "outputs": [
    {
     "data": {
      "image/png": "[encoded data removed]",
      "text/plain": [
       "<Figure size 345x345 with 1 Axes>"
      ]
     },
     "metadata": {},
     "output_type": "display_data"
    }
   ],
   "source": [
    "# Summing the columns\n",
    "afr_ab_adme = admevars[\"afr_abundant_variants\"].sum()\n",
    "afr_sp_adme = admevars[\"afr_specific_variants\"].sum()\n",
    "total_adme = admevars[\"total_variants\"].sum()\n",
    "rest_adme = total_adme - afr_ab_adme - afr_sp_adme\n",
    "\n",
    "y1=[afr_sp_adme]\n",
    "y2=[afr_ab_adme]\n",
    "y3=[rest_adme]\n",
    "\n",
    "# Plotting\n",
    "fig, axs = st.create_figure(1,1)\n",
    "ax=axs.next()\n",
    "ax.bar([\"ADME Genes\"], y3, color=gray)\n",
    "ax.bar([\"ADME Genes\"], y2, bottom = y3, color=yellow)\n",
    "ax.bar([\"ADME Genes\"], y1, bottom = [x+y for x,y in zip(y3,y2)], color=purple)\n",
    "ax.set_xlabel('')\n",
    "ax.set_ylabel('Total Counts')\n",
    "ax.set_title('Stacked Bar Plot of Variant Counts')\n",
    "ax.legend([\"Rest\", \"AFR_AB\", \"AFR_SP\"])\n",
    "\n",
    "plt.show()"
   ]
  },
  {
   "cell_type": "code",
   "execution_count": null,
   "metadata": {},
   "outputs": [],
   "source": []
  }
 ],
 "metadata": {
  "kernelspec": {
   "display_name": "chem",
   "language": "python",
   "name": "python3"
  },
  "language_info": {
   "codemirror_mode": {
    "name": "ipython",
    "version": 3
   },
   "file_extension": ".py",
   "mimetype": "text/x-python",
   "name": "python",
   "nbconvert_exporter": "python",
   "pygments_lexer": "ipython3",
   "version": "3.11.8"
  }
 },
 "nbformat": 4,
 "nbformat_minor": 2
}
