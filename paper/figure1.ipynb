{
 "cells": [
  {
   "cell_type": "markdown",
   "metadata": {},
   "source": [
    "# Figure 1: Data overview\n",
    "\n",
    "Focus on PGx information available in general and compare it to the available information in Africa. For all drugs and then also a focus on our drugs of interest and ADME genes."
   ]
  },
  {
   "cell_type": "code",
   "execution_count": 1,
   "metadata": {},
   "outputs": [],
   "source": [
    "import os\n",
    "import pandas as pd\n",
    "import numpy as np\n",
    "import matplotlib.pyplot as plt\n",
    "import stylia as st\n",
    "from stylia import NamedColors, ContinuousColorMap, ONE_COLUMN_WIDTH, TWO_COLUMNS_WIDTH\n",
    "\n",
    "DATAPATH = \"../data\"\n",
    "RESULTSPATH = \"../results\"\n",
    "\n",
    "colors = NamedColors()\n",
    "red = colors.get(\"red\")\n",
    "blue = colors.get(\"blue\")\n",
    "purple = colors.get(\"purple\")\n",
    "yellow = colors.get(\"yellow\")\n",
    "green = colors.get(\"green\")\n",
    "orange = colors.get(\"orange\")\n",
    "gray = colors.get(\"gray\")"
   ]
  },
  {
   "cell_type": "markdown",
   "metadata": {},
   "source": [
    "## Data Cleaning\n",
    "\n",
    "Data refactoring needed for the figures will be saved under paper/data."
   ]
  },
  {
   "cell_type": "code",
   "execution_count": 2,
   "metadata": {},
   "outputs": [
    {
     "name": "stdout",
     "output_type": "stream",
     "text": [
      "1116 1116 1116\n"
     ]
    },
    {
     "name": "stderr",
     "output_type": "stream",
     "text": [
      "/var/folders/rx/fqf_ssrj14q0h5dmx8vgdvpm0000gn/T/ipykernel_92295/4195979470.py:7: SettingWithCopyWarning: \n",
      "A value is trying to be set on a copy of a slice from a DataFrame\n",
      "\n",
      "See the caveats in the documentation: https://pandas.pydata.org/pandas-docs/stable/user_guide/indexing.html#returning-a-view-versus-a-copy\n",
      "  df2d.drop_duplicates(keep=\"first\", inplace=True)\n",
      "/var/folders/rx/fqf_ssrj14q0h5dmx8vgdvpm0000gn/T/ipykernel_92295/4195979470.py:8: SettingWithCopyWarning: \n",
      "A value is trying to be set on a copy of a slice from a DataFrame\n",
      "\n",
      "See the caveats in the documentation: https://pandas.pydata.org/pandas-docs/stable/user_guide/indexing.html#returning-a-view-versus-a-copy\n",
      "  df2d.sort_values(by=\"cid\", inplace=True)\n"
     ]
    }
   ],
   "source": [
    "df = pd.read_csv(os.path.join(DATAPATH,\"pharmgkb_processed\", \"13_pgkb_merged.csv\"), low_memory=False)\n",
    "atc = pd.read_csv(os.path.join(DATAPATH, \"drugbank\", \"drugbank_atc_codes.csv\"))\n",
    "len(set(df[\"cid\"])-set(atc[\"pharmgkb_id\"]))\n",
    "df_ = df.merge(atc, how='left', left_on='cid', right_on='pharmgkb_id')\n",
    "df_.drop(columns=[\"pharmgkb_id\"], inplace=True)\n",
    "df2d = df_[[\"cid\", \"chemical\", \"atc_codes\", \"disease\", \"is_infectious\", \"is_noncommunicable\"]]\n",
    "df2d.drop_duplicates(keep=\"first\", inplace=True)\n",
    "df2d.sort_values(by=\"cid\", inplace=True)\n",
    "#df2d.to_csv(os.path.join(\"data\", \"drugs2disease.csv\"), index=False)\n",
    "print(len(set(df[\"cid\"])), len(set(df_[\"cid\"])), len(set(df2d[\"cid\"])))"
   ]
  },
  {
   "cell_type": "code",
   "execution_count": 3,
   "metadata": {},
   "outputs": [
    {
     "name": "stdout",
     "output_type": "stream",
     "text": [
      "1116\n",
      "(1116, 5)\n",
      "(88784, 12) (88784, 15)\n"
     ]
    }
   ],
   "source": [
    "d2d = pd.read_csv(\"data/drugs2disease_manual.csv\")\n",
    "print(len(set(d2d[\"cid\"])))\n",
    "d2d = d2d[['cid', 'chemical', 'atc_codes', 'is_infectious','is_noncommunicable']]\n",
    "d2d = d2d.drop_duplicates(keep=\"first\")\n",
    "print(d2d.shape)\n",
    "df_ = df.merge(d2d, how='left', on=['cid', 'chemical'])\n",
    "print(df.shape, df_.shape)\n",
    "df_.to_csv(os.path.join(\"data\", \"pharmgkb_merged.csv\"), index=False)"
   ]
  },
  {
   "cell_type": "code",
   "execution_count": 4,
   "metadata": {},
   "outputs": [],
   "source": [
    "drugs = pd.read_csv(os.path.join(DATAPATH,\"of_interest\", \"curated_drugs_for_gradient.tsv\"), sep=\"\\t\")\n",
    "drugs.rename(columns={\"Drug\":\"chemical\"}, inplace=True)\n",
    "drugs[\"chemical\"] = [x.lower() for x in drugs[\"chemical\"]]\n",
    "#manually change wrong names\n",
    "chemok = {\"rifampicin\":\"rifampin\", \"p-aminosalicylic acid\":\"aminosalicylic acid\", \"strepomycin\":\"streptomycin\",\"linezolide\":\"linezolid\"}\n",
    "drugs[\"chemical\"] = drugs[\"chemical\"].replace(chemok)\n",
    "chem2cid = pd.read_csv(os.path.join(DATAPATH, \"pharmgkb_processed\", \"0_chemical.csv\"))\n",
    "drugs = drugs.merge(chem2cid[['chemical', 'cid']], on='chemical', how='left')\n",
    "#manually add missing cids if available in PharmGKB\n",
    "drugs.loc[drugs['chemical'] == 'delamanid', 'cid'] = \"PA166324861\"\n",
    "#Add drug indications\n",
    "drug_indications = {\n",
    "    'artemether': 'malaria',\n",
    "    'lumefantrine': 'malaria',\n",
    "    'quinine': 'malaria',\n",
    "    'artesunate': 'malaria',\n",
    "    'sulfadoxine': 'malaria',\n",
    "    'pyrimethamine': 'malaria',\n",
    "    'amodiaquine': 'malaria',\n",
    "    'dihydroartemisinin': 'malaria',\n",
    "    'piperaquine': 'malaria',\n",
    "    'doxycycline': 'malaria',\n",
    "    'clindamycin': 'malaria',\n",
    "    'chloroquine': 'malaria',\n",
    "    'primaquine': 'malaria',\n",
    "    'mefloquine': 'malaria',\n",
    "    'streptomycin': 'tuberculosis',\n",
    "    'rifampin': 'tuberculosis',\n",
    "    'isoniazid': 'tuberculosis',\n",
    "    'pyrazinamide': 'tuberculosis',\n",
    "    'ethambutol': 'tuberculosis',\n",
    "    'ethionamide': 'tuberculosis',\n",
    "    'rifapentine': 'tuberculosis',\n",
    "    'moxifloxacin': 'tuberculosis',\n",
    "    'levofloxacin': 'tuberculosis',\n",
    "    'bedaquiline': 'tuberculosis',\n",
    "    'linezolid': 'tuberculosis',\n",
    "    'clofazimine': 'tuberculosis',\n",
    "    'cycloserine': 'tuberculosis',\n",
    "    'terizidone': 'tuberculosis',\n",
    "    'delamanid': 'tuberculosis',\n",
    "    'aminosalicylic acid': 'tuberculosis',\n",
    "    'pretomanid': 'tuberculosis',\n",
    "    'capreomycin': 'tuberculosis'\n",
    "}\n",
    "drugs['disease'] = drugs['chemical'].map(drug_indications)\n",
    "drugs.to_csv(os.path.join(\"data\", \"curated_drugs.csv\"), index=False)"
   ]
  },
  {
   "cell_type": "code",
   "execution_count": 33,
   "metadata": {},
   "outputs": [
    {
     "name": "stdout",
     "output_type": "stream",
     "text": [
      "284\n",
      "283\n"
     ]
    }
   ],
   "source": [
    "admegenes = pd.read_csv(os.path.join(DATAPATH,\"of_interest\", \"adme_gene_list.tsv\"), sep=\"\\t\")\n",
    "admegenes = admegenes.rename(columns={\"PharmGKB ID\":\"gid\", \"Gene Symbol\": \"gene\"})\n",
    "print(len(admegenes))\n",
    "admegenes = admegenes.drop_duplicates(subset=[\"gene\"])\n",
    "print(len(admegenes))\n",
    "admegenes.to_csv(os.path.join(\"data\", \"adme_genes.csv\"), index=False)"
   ]
  },
  {
   "cell_type": "markdown",
   "metadata": {},
   "source": [
    "## Figure 1A,B\n",
    "Drug annotations for infectious vs non-infectious diseases in PharmGKB\n",
    "Diseases in PharmGKB are not grouped in Infectious vs Non Infectious, we have a list of ~3500 conditions. We have used DrugBank and manual annotation to assign a drug class (infections, non-comm) to each of the 1116 drugs in the curated pgkb.\n",
    "\n",
    "Q: should we only represent those that go into model training?"
   ]
  },
  {
   "cell_type": "code",
   "execution_count": 16,
   "metadata": {},
   "outputs": [
    {
     "name": "stdout",
     "output_type": "stream",
     "text": [
      "13\n",
      "19\n",
      "(143, 2) (285, 2)\n",
      "(954, 2) (1792, 2)\n",
      "(19, 2) (32, 2)\n"
     ]
    },
    {
     "name": "stderr",
     "output_type": "stream",
     "text": [
      "/var/folders/rx/fqf_ssrj14q0h5dmx8vgdvpm0000gn/T/ipykernel_92295/3184430428.py:1: DtypeWarning: Columns (8,10,11) have mixed types. Specify dtype option on import or set low_memory=False.\n",
      "  df = pd.read_csv(os.path.join(\"data\", \"pharmgkb_merged.csv\"))\n"
     ]
    }
   ],
   "source": [
    "df = pd.read_csv(os.path.join(\"data\", \"pharmgkb_merged.csv\"))\n",
    "drugs = pd.read_csv(os.path.join(\"data\", \"curated_drugs.csv\"))\n",
    "atc = pd.read_csv(os.path.join(DATAPATH, \"drugbank\", \"drugbank_atc_codes.csv\"))\n",
    "\n",
    "drugs_notann = list(set(drugs[\"chemical\"])-set(df[\"chemical\"]))\n",
    "print(len(drugs_notann))\n",
    "drugs_ann = df[df[\"chemical\"].isin(drugs[\"chemical\"])]\n",
    "print(len(list(set(drugs_ann[\"chemical\"]))))\n",
    "drugs_counts = drugs_ann[\"chemical\"].value_counts().reset_index()\n",
    "\n",
    "ncom = df[df[\"is_noncommunicable\"]==1]\n",
    "com = df[df[\"is_infectious\"]==1]\n",
    "com_nonsel = com[~com[\"chemical\"].isin(drugs[\"chemical\"])]\n",
    "ncom_counts = ncom['cid'].value_counts().reset_index()\n",
    "com_counts = com_nonsel['cid'].value_counts().reset_index()\n",
    "\n",
    "# ADD Missing Drugs\n",
    "all_com = atc[atc[\"is_infectious\"]==1]\n",
    "all_com_nonsel = all_com[~all_com[\"pharmgkb_id\"].isin(drugs[\"cid\"])][\"pharmgkb_id\"].tolist()\n",
    "all_ncom = atc[atc[\"is_noncommunicable\"]==1][\"pharmgkb_id\"].tolist()\n",
    "non_ann_com = list(set(all_com_nonsel)-set(com_counts[\"cid\"]))\n",
    "non_ann_ncom = list(set(all_ncom)-set(ncom_counts[\"cid\"]))\n",
    "com_counts_all = pd.concat([com_counts, pd.DataFrame({\"cid\":non_ann_com, \"count\":0})])\n",
    "ncom_counts_all = pd.concat([ncom_counts, pd.DataFrame({\"cid\":non_ann_ncom, \"count\":0})])\n",
    "drugs_counts_all = pd.concat([drugs_counts,pd.DataFrame({'chemical': list(drugs_notann), 'count': 0})], ignore_index=True)\n",
    "\n",
    "print(com_counts.shape, com_counts_all.shape)\n",
    "print(ncom_counts.shape, ncom_counts_all.shape)\n",
    "print(drugs_counts.shape, drugs_counts_all.shape)"
   ]
  },
  {
   "cell_type": "code",
   "execution_count": 17,
   "metadata": {},
   "outputs": [
    {
     "data": {
      "image/png": "[encoded data removed]",
      "text/plain": [
       "<Figure size 345x345 with 1 Axes>"
      ]
     },
     "metadata": {},
     "output_type": "display_data"
    }
   ],
   "source": [
    "com_drugs = list(set(com[\"chemical\"]))\n",
    "ncom_drugs = list(set(ncom[\"chemical\"]))\n",
    "\n",
    "fig, axs = st.create_figure(1,1)\n",
    "ax = axs.next()\n",
    "sizes = [len(com_drugs), len(ncom_drugs)] #incl TB and Malaria drugs\n",
    "labels=[\"Communicable\", \"Non-communicable\"],\n",
    "ax.pie(sizes, labels=[\"\", \"\"], colors=[red,blue], autopct='%1.1f%%', startangle=140)\n",
    "\n",
    "\"\"\"\n",
    "subset_size = 32-len(drugs_notann)\n",
    "sizes_overlay = [subset_size, len(com_drugs) - subset_size, len(ncom_drugs)]\n",
    "overlay_colors = [green, red, blue]\n",
    "ax.pie(sizes_overlay, colors=overlay_colors, startangle=140, labels=[\"\", \"\", \"\"], wedgeprops=dict(edgecolor='none', alpha=0.5))\n",
    "ax.legend([\"Communicable\", \"Non-communicable\", \"Malaria/Tb\"], loc=\"lower left\")\n",
    "\"\"\"\n",
    "ax.legend([\"Communicable\", \"Non-communicable\",])\n",
    "st.label(ax, title=\"\", xlabel=\"\", ylabel=\"\", abc=\"A\")\n"
   ]
  },
  {
   "cell_type": "code",
   "execution_count": 18,
   "metadata": {},
   "outputs": [
    {
     "data": {
      "image/png": "[encoded data removed]",
      "text/plain": [
       "<Figure size 345x172.5 with 3 Axes>"
      ]
     },
     "metadata": {},
     "output_type": "display_data"
    }
   ],
   "source": [
    "fig, axs = st.create_figure(1,3, width=ONE_COLUMN_WIDTH, height=ONE_COLUMN_WIDTH/2)\n",
    "ax = axs.next()\n",
    "colors = [red,blue, green]\n",
    "medianprops = dict(color=\"black\")\n",
    "bp = ax.boxplot([com_counts['count'], ncom_counts['count'], drugs_counts[\"count\"]], patch_artist=True, labels=['Com', 'Non-Com', 'Malaria/Tb'], medianprops= medianprops,showfliers=False)\n",
    "for patch, color in zip(bp[\"boxes\"], colors):\n",
    "    patch.set_facecolor(color)\n",
    "st.label(ax, title=\"Only annotated drugs\", xlabel=\"\", ylabel=\"Total annotations per drug\", abc=\"\")\n",
    "ax = axs.next()\n",
    "colors = [red,blue, green]\n",
    "medianprops = dict(color=\"black\")\n",
    "bp = ax.boxplot([com_counts['count'], ncom_counts['count'], drugs_counts_all[\"count\"]], patch_artist=True, labels=['Com', 'Non-Com', 'Malaria/Tb'], medianprops= medianprops,showfliers=False)\n",
    "for patch, color in zip(bp[\"boxes\"], colors):\n",
    "    patch.set_facecolor(color)\n",
    "st.label(ax, title=\"Malaria/TB including non annotated\", xlabel=\"\", ylabel=\"Total annotations per drug\", abc=\"\")\n",
    "ax = axs.next()\n",
    "colors = [red,blue, green]\n",
    "medianprops = dict(color=\"black\")\n",
    "bp = ax.boxplot([com_counts_all['count'], ncom_counts_all['count'], drugs_counts_all[\"count\"]], patch_artist=True, labels=['Com', 'Non-Com', 'Malaria/Tb'], medianprops= medianprops,showfliers=False)\n",
    "for patch, color in zip(bp[\"boxes\"], colors):\n",
    "    patch.set_facecolor(color)\n",
    "st.label(ax, title=\"All drugs\", xlabel=\"\", ylabel=\"Total annotations per drug\", abc=\"\")\n",
    "plt.tight_layout()"
   ]
  },
  {
   "cell_type": "code",
   "execution_count": 19,
   "metadata": {},
   "outputs": [
    {
     "name": "stderr",
     "output_type": "stream",
     "text": [
      "/var/folders/rx/fqf_ssrj14q0h5dmx8vgdvpm0000gn/T/ipykernel_92295/2334623881.py:5: FutureWarning: The default of observed=False is deprecated and will be changed to True in a future version of pandas. Pass observed=False to retain current behavior or observed=True to adopt the future default and silence this warning.\n",
      "  reduced_df = df.groupby('bin')[cid_col].count().reset_index(name='cid_num')\n",
      "/var/folders/rx/fqf_ssrj14q0h5dmx8vgdvpm0000gn/T/ipykernel_92295/2334623881.py:5: FutureWarning: The default of observed=False is deprecated and will be changed to True in a future version of pandas. Pass observed=False to retain current behavior or observed=True to adopt the future default and silence this warning.\n",
      "  reduced_df = df.groupby('bin')[cid_col].count().reset_index(name='cid_num')\n",
      "/var/folders/rx/fqf_ssrj14q0h5dmx8vgdvpm0000gn/T/ipykernel_92295/2334623881.py:5: FutureWarning: The default of observed=False is deprecated and will be changed to True in a future version of pandas. Pass observed=False to retain current behavior or observed=True to adopt the future default and silence this warning.\n",
      "  reduced_df = df.groupby('bin')[cid_col].count().reset_index(name='cid_num')\n",
      "/var/folders/rx/fqf_ssrj14q0h5dmx8vgdvpm0000gn/T/ipykernel_92295/2334623881.py:14: FutureWarning: The default of observed=False is deprecated and will be changed to True in a future version of pandas. Pass observed=False to retain current behavior or observed=True to adopt the future default and silence this warning.\n",
      "  reduced_df = df.groupby('bin')[cid_col].count().reset_index(name='cid_num')\n",
      "/var/folders/rx/fqf_ssrj14q0h5dmx8vgdvpm0000gn/T/ipykernel_92295/2334623881.py:14: FutureWarning: The default of observed=False is deprecated and will be changed to True in a future version of pandas. Pass observed=False to retain current behavior or observed=True to adopt the future default and silence this warning.\n",
      "  reduced_df = df.groupby('bin')[cid_col].count().reset_index(name='cid_num')\n",
      "/var/folders/rx/fqf_ssrj14q0h5dmx8vgdvpm0000gn/T/ipykernel_92295/2334623881.py:14: FutureWarning: The default of observed=False is deprecated and will be changed to True in a future version of pandas. Pass observed=False to retain current behavior or observed=True to adopt the future default and silence this warning.\n",
      "  reduced_df = df.groupby('bin')[cid_col].count().reset_index(name='cid_num')\n"
     ]
    }
   ],
   "source": [
    "def cum_df_nozeroes(df, cid_col):\n",
    "    bins = [0, 10, 100, 200, 500, 1000, 3500]\n",
    "    labels = ['1-10', '11-100', '101-200', '201-500', '501-1000', '>1000']\n",
    "    df['bin'] = pd.cut(df['count'], bins=bins, labels=labels, right=True)\n",
    "    reduced_df = df.groupby('bin')[cid_col].count().reset_index(name='cid_num')\n",
    "    total_cids = df[cid_col].count()\n",
    "    reduced_df['perc_cid'] = (reduced_df['cid_num'] / total_cids) * 100\n",
    "    return reduced_df\n",
    "\n",
    "def cum_df_zeroes(df, cid_col):\n",
    "    bins = [-1,0, 10, 100, 200, 500, 1000, 3500]\n",
    "    labels = ['0','1-10', '11-100', '101-200', '201-500', '501-1500', '>1000']\n",
    "    df['bin'] = pd.cut(df['count'], bins=bins, labels=labels, right=True)\n",
    "    reduced_df = df.groupby('bin')[cid_col].count().reset_index(name='cid_num')\n",
    "    total_cids = df[cid_col].count()\n",
    "    reduced_df['perc_cid'] = (reduced_df['cid_num'] / total_cids) * 100\n",
    "    return reduced_df\n",
    "\n",
    "com_counts_red = cum_df_nozeroes(com_counts, \"cid\")\n",
    "ncom_counts_red = cum_df_nozeroes(ncom_counts, \"cid\")\n",
    "drugs_counts_red = cum_df_nozeroes(drugs_counts, \"chemical\")\n",
    "com_counts_all_red = cum_df_zeroes(com_counts_all, \"cid\")\n",
    "ncom_counts_all_red = cum_df_zeroes(ncom_counts_all, \"cid\")\n",
    "drugs_counts_all_red = cum_df_zeroes(drugs_counts_all, \"chemical\")"
   ]
  },
  {
   "cell_type": "code",
   "execution_count": 20,
   "metadata": {},
   "outputs": [
    {
     "data": {
      "image/png": "[encoded data removed]",
      "text/plain": [
       "<Figure size 345x345 with 6 Axes>"
      ]
     },
     "metadata": {},
     "output_type": "display_data"
    }
   ],
   "source": [
    "fig, axs = st.create_figure(2,3,width=ONE_COLUMN_WIDTH, height=ONE_COLUMN_WIDTH)\n",
    "ax = axs.next()\n",
    "ax.barh(ncom_counts_red['bin'], ncom_counts_red['perc_cid'], color=blue)\n",
    "ax.set_xlim(0, 75)\n",
    "st.label(ax, title=\"\", xlabel=\"% of drugs\", ylabel=\"Annotations per drug\", abc=\"B\")\n",
    "ax = axs.next()\n",
    "ax.barh(com_counts_red['bin'], com_counts_red['perc_cid'], color=red)\n",
    "ax.set_xlim(0, 75)\n",
    "st.label(ax, title=\"\", xlabel=\"% of drugs\", ylabel=\"\", abc=\"\")\n",
    "ax = axs.next()\n",
    "ax.barh(drugs_counts_red['bin'], drugs_counts_red['perc_cid'], color=green)\n",
    "ax.set_xlim(0, 75)\n",
    "st.label(ax, title=\"\", xlabel=\"% of drugs\", ylabel=\"\", abc=\"\")\n",
    "ax = axs.next()\n",
    "ax.barh(ncom_counts_all_red['bin'], ncom_counts_all_red['perc_cid'], color=blue)\n",
    "ax.set_xlim(0, 100)\n",
    "st.label(ax, title=\"\", xlabel=\"% of drugs\", ylabel=\"Annotations per drug\", abc=\"B\")\n",
    "ax = axs.next()\n",
    "ax.barh(com_counts_all_red['bin'], com_counts_all_red['perc_cid'], color=red)\n",
    "ax.set_xlim(0, 100)\n",
    "st.label(ax, title=\"\", xlabel=\"% of drugs\", ylabel=\"\", abc=\"\")\n",
    "ax = axs.next()\n",
    "ax.barh(drugs_counts_all_red['bin'], drugs_counts_all_red['perc_cid'], color=green)\n",
    "ax.set_xlim(0, 100)\n",
    "st.label(ax, title=\"\", xlabel=\"% of drugs\", ylabel=\"\", abc=\"\")\n",
    "plt.tight_layout()"
   ]
  },
  {
   "cell_type": "code",
   "execution_count": 21,
   "metadata": {},
   "outputs": [
    {
     "data": {
      "image/png": "[encoded data removed]",
      "text/plain": [
       "<Figure size 345x172.5 with 2 Axes>"
      ]
     },
     "metadata": {},
     "output_type": "display_data"
    }
   ],
   "source": [
    "def plot_combined_horizontal_bar(ax, df1, df2, df3, labels, colors):\n",
    "    bar_width = 0.25\n",
    "    y = np.arange(len(df1))  # Position of bars\n",
    "\n",
    "    ax.barh(y - bar_width, df1['perc_cid'], height=bar_width, color=colors[0], label=labels[0])\n",
    "    ax.barh(y, df2['perc_cid'], height=bar_width, color=colors[1], label=labels[1])\n",
    "    ax.barh(y + bar_width, df3['perc_cid'], height=bar_width, color=colors[2], label=labels[2])\n",
    "    \n",
    "    ax.set_xlabel('% of drugs')\n",
    "    ax.set_ylabel('Annotations per drug')\n",
    "    ax.set_yticks(y)\n",
    "    ax.set_yticklabels(df1['bin'])\n",
    "    ax.set_xlim(0, 100)\n",
    "    \n",
    "    plt.tight_layout()\n",
    "\n",
    "fig, axs = st.create_figure(1,2, width=ONE_COLUMN_WIDTH, height=ONE_COLUMN_WIDTH/2)\n",
    "ax = axs.next()\n",
    "plot_combined_horizontal_bar(ax,\n",
    "    ncom_counts_red,\n",
    "    com_counts_red, \n",
    "    drugs_counts_red, \n",
    "    labels=['Non-communicable', 'Communicable', 'Malaria/Tb'],  # Labels for the legend\n",
    "    colors=[blue, red, green]  # Colors for the bars\n",
    ")\n",
    "\n",
    "ax = axs.next()\n",
    "plot_combined_horizontal_bar(ax,\n",
    "    ncom_counts_all_red,\n",
    "    com_counts_all_red, \n",
    "    drugs_counts_all_red, \n",
    "    labels=['Non-communicable', 'Communicable', 'Malaria/Tb'],  # Labels for the legend\n",
    "    colors=[blue, red, green]  # Colors for the bars\n",
    ")\n"
   ]
  },
  {
   "cell_type": "code",
   "execution_count": 29,
   "metadata": {},
   "outputs": [
    {
     "name": "stderr",
     "output_type": "stream",
     "text": [
      "/var/folders/rx/fqf_ssrj14q0h5dmx8vgdvpm0000gn/T/ipykernel_92295/2334623881.py:5: FutureWarning: The default of observed=False is deprecated and will be changed to True in a future version of pandas. Pass observed=False to retain current behavior or observed=True to adopt the future default and silence this warning.\n",
      "  reduced_df = df.groupby('bin')[cid_col].count().reset_index(name='cid_num')\n"
     ]
    },
    {
     "data": {
      "image/png": "[encoded data removed]",
      "text/plain": [
       "<Figure size 172.5x172.5 with 1 Axes>"
      ]
     },
     "metadata": {},
     "output_type": "display_data"
    }
   ],
   "source": [
    "# Final plot\n",
    "def plot_combined_horizontal_bar(ax, df1, df2, labels, colors):\n",
    "    bar_width = 0.25\n",
    "    y = np.arange(len(df1))  # Position of bars\n",
    "    ax.barh(y - bar_width, df1['perc_cid'], height=bar_width, color=colors[0], label=labels[0])\n",
    "    ax.barh(y, df2['perc_cid'], height=bar_width, color=colors[1], label=labels[1])\n",
    "    ax.set_yticks(y)\n",
    "    ax.set_yticklabels(df1['bin'])\n",
    "    ax.set_xlim(0, 80)\n",
    "    plt.tight_layout()\n",
    "\n",
    "#take all comm incl malaria and TB drugs\n",
    "com = df[df[\"is_infectious\"]==1]\n",
    "com_counts = com['cid'].value_counts().reset_index()\n",
    "com_counts_red = cum_df_nozeroes(com_counts, \"cid\")\n",
    "com_counts_red = com_counts_red.sort_values(by=[\"perc_cid\"])\n",
    "ncom_counts_red = ncom_counts_red.sort_values(by=[\"perc_cid\"])\n",
    "\n",
    "fig, axs = st.create_figure(1,1, width=ONE_COLUMN_WIDTH/2, height=ONE_COLUMN_WIDTH/2)\n",
    "ax = axs.next()\n",
    "plot_combined_horizontal_bar(ax, ncom_counts_red, com_counts_red, labels=['Non-communicable', 'Communicable'],  colors=[blue, red])\n",
    "st.label(ax, xlabel=\"% of drugs\", ylabel=\"Annotations per drug\", title=\"\", abc=\"B\")"
   ]
  },
  {
   "cell_type": "markdown",
   "metadata": {},
   "source": [
    "## Figure 1C\n",
    "Variants in all genes vs ADME genes, and link to how many annotations available in PharmGKB per each gene\n",
    "\n",
    "Problem: not all ADME genes are in 1000Genomes annotation - 13 missing. \n",
    "The adme_gene_list had a repeated Gene, CYP20A1, so it has been deleted and data stored in paper/data"
   ]
  },
  {
   "cell_type": "code",
   "execution_count": 34,
   "metadata": {},
   "outputs": [
    {
     "name": "stdout",
     "output_type": "stream",
     "text": [
      "127\n"
     ]
    },
    {
     "data": {
      "image/png": "[encoded data removed]",
      "text/plain": [
       "<Figure size 345x172.5 with 2 Axes>"
      ]
     },
     "metadata": {},
     "output_type": "display_data"
    }
   ],
   "source": [
    "admegenes = pd.read_csv(os.path.join(\"data\", \"adme_genes.csv\"))\n",
    "genes = admegenes[\"gene\"].tolist()\n",
    "\n",
    "allvars = pd.read_csv(os.path.join(DATAPATH, \"variants\", \"1000_Genomes\", \"subset_snvs_protein_coding_1kGPhg38_gene_level.tsv\"), sep=\"\\t\")\n",
    "genesmissing = list(set(genes)-set(df[\"gene\"]))\n",
    "print(len(set(genesmissing)))\n",
    "admevars = allvars[allvars[\"gene\"].isin(genes)]\n",
    "nonadmevars = allvars[~allvars[\"gene\"].isin(genes)]\n",
    "admevars_counts = admevars[['gene', 'total_variants']]\n",
    "nonadmevars_counts = nonadmevars[['gene', 'total_variants']]\n",
    "\n",
    "pgx_ann = pd.read_csv(os.path.join(DATAPATH, \"pharmgkb_processed\", \"13_pgkb_merged.csv\"), low_memory=False)\n",
    "admeann = pgx_ann[pgx_ann[\"gene\"].isin(genes)]\n",
    "nonadmeann = pgx_ann[~pgx_ann[\"gene\"].isin(genes)]\n",
    "admeann_counts = admeann['gene'].value_counts().reset_index()\n",
    "nonadmeann_counts = nonadmeann['gene'].value_counts().reset_index()\n",
    "\n",
    "fig, axs = st.create_figure(1,2, width = ONE_COLUMN_WIDTH, height=ONE_COLUMN_WIDTH/2)\n",
    "colors = [orange, green]\n",
    "medianprops = dict(color=\"black\")\n",
    "ax = axs.next()\n",
    "bp = ax.boxplot([admevars_counts['total_variants'], nonadmevars_counts['total_variants']], patch_artist=True, labels=['ADME Genes', 'Other Genes'], medianprops= medianprops,showfliers=False)\n",
    "for patch, color in zip(bp[\"boxes\"], colors):\n",
    "    patch.set_facecolor(color)\n",
    "st.label(ax, xlabel=\"\", ylabel = \"Variants per gene\",  title=\"\", abc=\"C\")\n",
    "ax = axs.next()\n",
    "bp = ax.boxplot([admeann_counts['count'], nonadmeann_counts['count']], patch_artist=True, labels=['ADME Genes', 'Other Genes'], medianprops= medianprops,showfliers=False)\n",
    "for patch, color in zip(bp[\"boxes\"], colors):\n",
    "    patch.set_facecolor(color)\n",
    "st.label(ax, xlabel=\"\", ylabel = \"Significant annotations per gene\", title=\"\",abc=\"\")\n",
    "plt.tight_layout()\n"
   ]
  },
  {
   "cell_type": "code",
   "execution_count": null,
   "metadata": {},
   "outputs": [],
   "source": [
    "width_adme = admevars_counts['total_variants'].sum()/(admevars_counts['total_variants'].sum()+nonadmevars_counts[\"total_variants\"].sum())*1.5\n",
    "width_nonadme = nonadmevars_counts[\"total_variants\"].sum()/(admevars_counts['total_variants'].sum()+nonadmevars_counts[\"total_variants\"].sum())*1.5\n",
    "print(width_adme, width_nonadme)"
   ]
  },
  {
   "cell_type": "markdown",
   "metadata": {},
   "source": [
    "## Figure 1C\n",
    "\n",
    "Origin of variants in ADME Genes. The plots are not very nice, do a table instead - save the CSV and build table manually.\n",
    "Use Anna's MSc example for the figure"
   ]
  },
  {
   "cell_type": "code",
   "execution_count": 38,
   "metadata": {},
   "outputs": [
    {
     "data": {
      "image/png": "[encoded data removed]",
      "text/plain": [
       "<Figure size 709x345 with 2 Axes>"
      ]
     },
     "metadata": {},
     "output_type": "display_data"
    }
   ],
   "source": [
    "df = pd.read_csv(os.path.join(DATAPATH, \"variants\", \"1000_Genomes\", \"subset_snvs_protein_coding_1kGPhg38_gene_level.tsv\"), sep=\"\\t\")\n",
    "\n",
    "df['rest_variants'] = df[\"total_variants\"] - df['afr_abundant_variants'] - df['afr_specific_variants']\n",
    "df['perc_missense'] = (df['missense_variants'] / df['total_variants']) * 100\n",
    "df['perc_intron'] = (df['intron_variants'] / df['total_variants']) * 100\n",
    "df['perc_other'] = (df['other_variants'] / df['total_variants']) * 100\n",
    "\n",
    "# what do we do with missing ADME genes?\n",
    "admegenes = pd.read_csv(os.path.join(\"data\", \"adme_genes.csv\"))\n",
    "genes = admegenes[\"gene\"].tolist()\n",
    "\n",
    "admevars = df[df[\"gene\"].isin(genes)]\n",
    "nonadmevars = df[~df[\"gene\"].isin(genes)]\n",
    "\n",
    "afr_ab_adme = admevars[\"afr_abundant_variants\"].sum()\n",
    "afr_sp_adme = admevars[\"afr_specific_variants\"].sum()\n",
    "rest_adme = admevars[\"rest_variants\"].sum()\n",
    "\n",
    "afr_ab = nonadmevars[\"afr_abundant_variants\"].sum()\n",
    "afr_sp = nonadmevars[\"afr_specific_variants\"].sum()\n",
    "rest = nonadmevars[\"rest_variants\"].sum()\n",
    "\n",
    "labels = ['AFR_SP', 'AFR_AB', 'Rest']\n",
    "\n",
    "colors = [purple, yellow, gray]\n",
    "\n",
    "fig, axs = st.create_figure(1,2)\n",
    "ax = axs.next()\n",
    "sizes = [afr_sp_adme, afr_ab_adme, rest_adme]\n",
    "ax.pie(sizes, labels=labels, colors=colors, autopct='%1.1f%%', startangle=140)\n",
    "st.label(ax, title= 'Distribution of ADME Variants', xlabel=\"\", ylabel=\"\", abc=\"D\")\n",
    "ax = axs.next()\n",
    "sizes = [afr_sp, afr_ab, rest]\n",
    "ax.pie(sizes, labels=labels, colors=colors, autopct='%1.1f%%', startangle=140)\n",
    "st.label(ax, title= 'Distribution of Non-ADME Variants', xlabel=\"\", ylabel=\"\", abc=\"\")"
   ]
  },
  {
   "cell_type": "code",
   "execution_count": 37,
   "metadata": {},
   "outputs": [
    {
     "data": {
      "text/html": [
       "<div>\n",
       "<style scoped>\n",
       "    .dataframe tbody tr th:only-of-type {\n",
       "        vertical-align: middle;\n",
       "    }\n",
       "\n",
       "    .dataframe tbody tr th {\n",
       "        vertical-align: top;\n",
       "    }\n",
       "\n",
       "    .dataframe thead th {\n",
       "        text-align: right;\n",
       "    }\n",
       "</style>\n",
       "<table border=\"1\" class=\"dataframe\">\n",
       "  <thead>\n",
       "    <tr style=\"text-align: right;\">\n",
       "      <th></th>\n",
       "      <th>Variants</th>\n",
       "      <th>All genes</th>\n",
       "      <th>ADME genes</th>\n",
       "      <th>Non ADME genes</th>\n",
       "    </tr>\n",
       "  </thead>\n",
       "  <tbody>\n",
       "    <tr>\n",
       "      <th>0</th>\n",
       "      <td>1kGPhg38</td>\n",
       "      <td>32577572</td>\n",
       "      <td>400545</td>\n",
       "      <td>32177027</td>\n",
       "    </tr>\n",
       "    <tr>\n",
       "      <th>1</th>\n",
       "      <td>AFR Abundant</td>\n",
       "      <td>1706781 (5.24%)</td>\n",
       "      <td>23490 (5.86%)</td>\n",
       "      <td>1683291 (5.23%)</td>\n",
       "    </tr>\n",
       "    <tr>\n",
       "      <th>2</th>\n",
       "      <td>AFR Specific</td>\n",
       "      <td>106323 (0.33%)</td>\n",
       "      <td>1401 (0.35%)</td>\n",
       "      <td>104922 (0.33%)</td>\n",
       "    </tr>\n",
       "  </tbody>\n",
       "</table>\n",
       "</div>"
      ],
      "text/plain": [
       "       Variants        All genes     ADME genes   Non ADME genes\n",
       "0      1kGPhg38         32577572         400545         32177027\n",
       "1  AFR Abundant  1706781 (5.24%)  23490 (5.86%)  1683291 (5.23%)\n",
       "2  AFR Specific   106323 (0.33%)   1401 (0.35%)   104922 (0.33%)"
      ]
     },
     "execution_count": 37,
     "metadata": {},
     "output_type": "execute_result"
    }
   ],
   "source": [
    "#table with percentages\n",
    "df_sum = pd.DataFrame({\n",
    "    \"Variants\":[\"1kGPhg38\", \"AFR Abundant\", \"AFR Specific\"],\n",
    "    \"All genes\": [df[\"total_variants\"].sum(), f'{df[\"afr_abundant_variants\"].sum()} ({df[\"afr_abundant_variants\"].sum()/df[\"total_variants\"].sum()*100:.2f}%)', f'{df[\"afr_specific_variants\"].sum()} ({df[\"afr_specific_variants\"].sum()/df[\"total_variants\"].sum()*100:.2f}%)'],\n",
    "    \"ADME genes\": [admevars[\"total_variants\"].sum(), f'{admevars[\"afr_abundant_variants\"].sum()} ({admevars[\"afr_abundant_variants\"].sum()/admevars[\"total_variants\"].sum()*100:.2f}%)', f'{admevars[\"afr_specific_variants\"].sum()} ({admevars[\"afr_specific_variants\"].sum()/admevars[\"total_variants\"].sum()*100:.2f}%)'],\n",
    "    \"Non ADME genes\": [nonadmevars[\"total_variants\"].sum(), f'{nonadmevars[\"afr_abundant_variants\"].sum()} ({nonadmevars[\"afr_abundant_variants\"].sum()/nonadmevars[\"total_variants\"].sum()*100:.2f}%)', f'{nonadmevars[\"afr_specific_variants\"].sum()} ({nonadmevars[\"afr_specific_variants\"].sum()/nonadmevars[\"total_variants\"].sum()*100:.2f}%)'],\n",
    "})\n",
    "df_sum"
   ]
  },
  {
   "cell_type": "code",
   "execution_count": null,
   "metadata": {},
   "outputs": [],
   "source": [
    "# specific examples \n",
    "rs_ab = pd.read_csv(os.path.join(\"data\", \"rs3829740.csv\"))\n",
    "rs_sp = pd.read_csv(os.path.join(\"data\", \"rs9465100.csv\"))\n",
    "fig, axs = st.create_figure(2,6)\n",
    "colors_ab = [yellow, gray]\n",
    "colors_sp = [gray, purple]\n",
    "pops = [\"all\", \"afr\", \"amr\", \"eas\", \"eur\", \"sas\"]\n",
    "titles = [\"ALL\", \"AFR\", \"AMR\", \"EAS\", \"EUR\", \"SAS\"]\n",
    "labels_ab = [\"G\", \"C\"]\n",
    "labels_sp = [\"C\", \"T\"]\n",
    "for i,p in enumerate(pops):\n",
    "    ax = axs.next()\n",
    "    ax.pie(rs_ab[p].tolist(), labels = labels_ab, colors=colors_ab, autopct='%1.1f%%', startangle=140)\n",
    "    st.label(ax, title=titles[i], xlabel=\"\", ylabel=\"\", abc=\"\")\n",
    "for i,p in enumerate(pops):\n",
    "    ax = axs.next()\n",
    "    ax.pie(rs_sp[p].tolist(), labels = labels_sp, colors=colors_sp, autopct='%1.1f%%', startangle=140)\n",
    "    st.label(ax, title=titles[i], xlabel=\"\", ylabel=\"\", abc=\"\")\n",
    "plt.tight_layout()\n"
   ]
  },
  {
   "cell_type": "code",
   "execution_count": 47,
   "metadata": {},
   "outputs": [
    {
     "data": {
      "image/png": "[encoded data removed]",
      "text/plain": [
       "<Figure size 115x115 with 1 Axes>"
      ]
     },
     "metadata": {},
     "output_type": "display_data"
    }
   ],
   "source": [
    "#intron vs missense\n",
    "vars_all = df[\"total_variants\"].sum()\n",
    "intron_all = df[\"intron_variants\"].sum()/vars_all*100\n",
    "missense_all = df[\"missense_variants\"].sum()/vars_all*100\n",
    "vars_adme = admevars[\"total_variants\"].sum()\n",
    "intron_adme = admevars[\"intron_variants\"].sum()/vars_adme*100\n",
    "missense_adme = admevars[\"missense_variants\"].sum()/vars_adme*100\n",
    "vars_nonadme = nonadmevars[\"total_variants\"].sum()\n",
    "intron_nonadme = nonadmevars[\"intron_variants\"].sum()/vars_nonadme*100\n",
    "missense_nonadme = nonadmevars[\"missense_variants\"].sum()/vars_nonadme*100\n",
    "\n",
    "fig, axs = st.create_figure(1,1, width=ONE_COLUMN_WIDTH/3, height=ONE_COLUMN_WIDTH/3)\n",
    "ax = axs.next()\n",
    "ax.barh(['Intron ADME', 'Missense ADME'], [intron_adme, missense_adme], color=[red, blue])\n",
    "st.label(ax, ylabel=\"\", xlabel=\"% of vars\", title=\"\")\n"
   ]
  },
  {
   "cell_type": "markdown",
   "metadata": {},
   "source": [
    "## Figure 1E\n",
    "\n",
    "ADME genes sorted by number of Africa-specific/abundant variants"
   ]
  },
  {
   "cell_type": "code",
   "execution_count": 48,
   "metadata": {},
   "outputs": [
    {
     "name": "stderr",
     "output_type": "stream",
     "text": [
      "/var/folders/rx/fqf_ssrj14q0h5dmx8vgdvpm0000gn/T/ipykernel_92295/573020825.py:1: SettingWithCopyWarning: \n",
      "A value is trying to be set on a copy of a slice from a DataFrame.\n",
      "Try using .loc[row_indexer,col_indexer] = value instead\n",
      "\n",
      "See the caveats in the documentation: https://pandas.pydata.org/pandas-docs/stable/user_guide/indexing.html#returning-a-view-versus-a-copy\n",
      "  admevars[\"perc_afr_sp\"] = (admevars[\"afr_specific_variants\"]/admevars[\"total_variants\"]*100).round(2)\n",
      "/var/folders/rx/fqf_ssrj14q0h5dmx8vgdvpm0000gn/T/ipykernel_92295/573020825.py:2: SettingWithCopyWarning: \n",
      "A value is trying to be set on a copy of a slice from a DataFrame.\n",
      "Try using .loc[row_indexer,col_indexer] = value instead\n",
      "\n",
      "See the caveats in the documentation: https://pandas.pydata.org/pandas-docs/stable/user_guide/indexing.html#returning-a-view-versus-a-copy\n",
      "  admevars[\"perc_afr_ab\"] = (admevars[\"afr_abundant_variants\"]/admevars[\"total_variants\"]*100).round(2)\n"
     ]
    },
    {
     "data": {
      "image/png": "[encoded data removed]",
      "text/plain": [
       "<Figure size 345x172.5 with 2 Axes>"
      ]
     },
     "metadata": {},
     "output_type": "display_data"
    }
   ],
   "source": [
    "admevars[\"perc_afr_sp\"] = (admevars[\"afr_specific_variants\"]/admevars[\"total_variants\"]*100).round(2)\n",
    "admevars[\"perc_afr_ab\"] = (admevars[\"afr_abundant_variants\"]/admevars[\"total_variants\"]*100).round(2)\n",
    "\n",
    "top_afr_sp = admevars.sort_values(by=[\"perc_afr_sp\"]).tail(10)\n",
    "top_afr_ab = admevars.sort_values(by=[\"perc_afr_ab\"]).tail(10)\n",
    "\n",
    "fig, axs = st.create_figure(1,2, width=ONE_COLUMN_WIDTH, height=ONE_COLUMN_WIDTH/2)\n",
    "ax = axs.next()\n",
    "ax.barh(top_afr_ab[\"gene\"], top_afr_ab[\"perc_afr_ab\"], color = yellow)\n",
    "st.label(ax, title=\"\", ylabel=\"\", xlabel=\"% of African Abundant variants\", abc=\"E\")\n",
    "ax = axs.next()\n",
    "ax.barh(top_afr_sp[\"gene\"], top_afr_sp[\"perc_afr_sp\"], color = purple)\n",
    "st.label(ax, title= \"\",ylabel=\"\", xlabel=\"% of African Specific variants\", abc=\"\")\n",
    "plt.tight_layout()"
   ]
  },
  {
   "cell_type": "code",
   "execution_count": null,
   "metadata": {},
   "outputs": [],
   "source": []
  }
 ],
 "metadata": {
  "kernelspec": {
   "display_name": "chem",
   "language": "python",
   "name": "python3"
  },
  "language_info": {
   "codemirror_mode": {
    "name": "ipython",
    "version": 3
   },
   "file_extension": ".py",
   "mimetype": "text/x-python",
   "name": "python",
   "nbconvert_exporter": "python",
   "pygments_lexer": "ipython3",
   "version": "3.11.8"
  }
 },
 "nbformat": 4,
 "nbformat_minor": 2
}
