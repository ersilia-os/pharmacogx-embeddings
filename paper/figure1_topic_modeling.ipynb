{
 "cells": [
  {
   "cell_type": "markdown",
   "metadata": {},
   "source": [
    "# Topic modeling"
   ]
  },
  {
   "cell_type": "code",
   "execution_count": 15,
   "metadata": {},
   "outputs": [
    {
     "name": "stdout",
     "output_type": "stream",
     "text": [
      "Results path: /Users/mduranfrigola/Documents/GitHub/pharmacogx-embeddings/results/topicmodeling/all_outcomes_all_genes\n"
     ]
    }
   ],
   "source": [
    "import pandas as pd\n",
    "import joblib\n",
    "import os\n",
    "import numpy as np\n",
    "from sklearn.preprocessing import MinMaxScaler\n",
    "from sklearn.exceptions import InconsistentVersionWarning\n",
    "import warnings\n",
    "warnings.filterwarnings(\"ignore\", category=InconsistentVersionWarning)\n",
    "\n",
    "import stylia\n",
    "from stylia import TWO_COLUMNS_WIDTH\n",
    "from stylia.colors import ContinuousColorMap\n",
    "\n",
    "base_results_path = \"../results/topicmodeling\"\n",
    "results_path = os.path.abspath(os.path.join(base_results_path, \"all_outcomes_all_genes\"))\n",
    "\n",
    "print(f\"Results path: {results_path}\")\n"
   ]
  },
  {
   "cell_type": "code",
   "execution_count": 16,
   "metadata": {},
   "outputs": [],
   "source": [
    "def tokenizer(x):\n",
    "    return x.split(\" \")\n",
    "\n",
    "topic_data = joblib.load(os.path.join(results_path, \"topic_data.joblib\"))\n",
    "processed_topicwizard_data = joblib.load(os.path.join(results_path, \"processed_topicwizard_data.joblib\"))\n",
    "\n",
    "topic_names = topic_data[\"topic_names\"]\n",
    "\n",
    "df = pd.read_csv(os.path.join(results_path, \"CompoundHasTopic.csv\"))\n",
    "\n",
    "cmap = ContinuousColorMap()\n",
    "cmap.fit([i for i in range(len(topic_names))])\n",
    "topic_colors = cmap.transform([i for i in range(len(topic_names))])"
   ]
  },
  {
   "cell_type": "code",
   "execution_count": 32,
   "metadata": {},
   "outputs": [
    {
     "data": {
      "image/png": "[encoded data removed]",
      "text/plain": [
       "<Figure size 327.231x168.81 with 3 Axes>"
      ]
     },
     "metadata": {},
     "output_type": "display_data"
    }
   ],
   "source": [
    "import random\n",
    "from scipy.cluster import hierarchy\n",
    "import matplotlib.pyplot as plt\n",
    "import sklearn\n",
    "import seaborn as sns\n",
    "\n",
    "fig, axs = stylia.create_figure(2, 1, width=TWO_COLUMNS_WIDTH*0.8*(3/5.2), height=TWO_COLUMNS_WIDTH/4.2, height_ratios=[6,1])\n",
    "\n",
    "ax = axs.next()\n",
    "\n",
    "W = processed_topicwizard_data[\"document_topic_matrix\"]\n",
    "\n",
    "W = sklearn.preprocessing.MinMaxScaler().fit_transform(W)\n",
    "W[W < 0.1] = 0\n",
    "\n",
    "ax.set_yticks([i for i in range(len(topic_names))])\n",
    "ax.set_ylim(len(topic_names), -1)\n",
    "\n",
    "Z = hierarchy.ward(W)\n",
    "hierarchy.leaves_list(Z)\n",
    "clustered_idxs = hierarchy.leaves_list(hierarchy.optimal_leaf_ordering(Z, W))\n",
    "\n",
    "sns.heatmap(W[clustered_idxs], ax=ax, cmap=\"YlGnBu\", cbar_kws={'label': \"Relevance (scaled)\", \"pad\": 0.02})\n",
    "yticks = np.arange(0, 800, 100)\n",
    "ax.set_yticks(yticks)\n",
    "ax.set_yticklabels(yticks)\n",
    "ax.set_xticks([i+0.5 for i in range(len(topic_names))])\n",
    "ax.set_xticklabels(\"\")\n",
    "\n",
    "stylia.label(ax=ax, title=\"Drug PGx signatures\", ylabel=\"Drugs (clustered)\", xlabel=\"\")\n",
    "\n",
    "ax = axs.next()\n",
    "\n",
    "topic_importances = processed_topicwizard_data[\"topic_importances\"]\n",
    "ax.scatter([i for i in range(len(topic_importances))], [0]*len(topic_importances), s=100, color=topic_colors)\n",
    "for i in range(len(topic_importances)):\n",
    "    if i == 0 or i == 9:\n",
    "        c = \"white\"\n",
    "    else:\n",
    "        c = \"black\"\n",
    "    ax.text(i, 0, i, ha=\"center\", va=\"center\", fontsize=6, color=c)\n",
    "ax.set_axis_off()\n",
    "ax.set_xlim(-0.5, 11.5)\n",
    "\n",
    "ax.text(10.5, 0, \"Signatures\", ha=\"center\", va=\"center\", fontsize=6)\n",
    "\n",
    "stylia.label(ax=ax, title=\"\", xlabel=\"\", ylabel=\"\", abc=\"\")\n",
    "stylia.save_figure(os.path.join(\"assets\", \"drug_pgx_signatures.png\"))"
   ]
  },
  {
   "cell_type": "code",
   "execution_count": 34,
   "metadata": {},
   "outputs": [
    {
     "data": {
      "image/png": "[encoded data removed]",
      "text/plain": [
       "<Figure size 163.615x170.16 with 1 Axes>"
      ]
     },
     "metadata": {},
     "output_type": "display_data"
    }
   ],
   "source": [
    "fig, axs = stylia.create_figure(1, 1, width=TWO_COLUMNS_WIDTH*1*(1.2/5.2), height=TWO_COLUMNS_WIDTH/5*1.2)\n",
    "\n",
    "do_label = False\n",
    "\n",
    "cids = topic_data[\"document_names\"]\n",
    "\n",
    "num_compounds = 9\n",
    "\n",
    "sel_cids = random.sample(cids, num_compounds)\n",
    "sel_cids_idxs = [cids.index(f) for f in sel_cids]\n",
    "phis = np.linspace(0, 2*np.pi, num_compounds+1)\n",
    "\n",
    "def pol2cart(rho, phi):\n",
    "    x = rho * np.cos(phi)\n",
    "    y = rho * np.sin(phi)\n",
    "    return(x, y)\n",
    "\n",
    "def drawPieMarker(xs, ys, ratios, sizes, colors, ax):\n",
    "    assert sum(ratios) <= 1, 'sum of ratios needs to be < 1'\n",
    "\n",
    "    markers = []\n",
    "    previous = 0\n",
    "    for color, ratio in zip(colors, ratios):\n",
    "        this = 2 * np.pi * ratio + previous\n",
    "        x  = [0] + np.cos(np.linspace(previous, this, 100)).tolist() + [0]\n",
    "        y  = [0] + np.sin(np.linspace(previous, this, 100)).tolist() + [0]\n",
    "        xy = np.column_stack([x, y])\n",
    "        previous = this\n",
    "        markers.append({'marker':xy, 's':np.abs(xy).max()**2*np.array(sizes), 'facecolor':color, 'lw':0})\n",
    "\n",
    "    for marker in markers:\n",
    "        ax.scatter(xs, ys, **marker, zorder=10000)\n",
    "        ax.scatter(xs, ys, color=\"gray\", s=200, lw=0)\n",
    "\n",
    "S = np.array([list(pol2cart(1.5, phi)) for phi in phis])\n",
    "\n",
    "ax = axs.next()\n",
    "P = np.array(df[[\"proj_x\", \"proj_y\"]])\n",
    "P = MinMaxScaler(feature_range=(-1,1)).fit_transform(P)\n",
    "ax.scatter(P[:,0], P[:,1], color=\"lightgray\", s=0.5)\n",
    "ax.scatter(S[:,0], S[:,1])\n",
    "\n",
    "if do_label:\n",
    "    for cidx in sel_cids_idxs:\n",
    "        ax.text(P[cidx, 0], P[cidx, 1], cids[cidx])\n",
    "\n",
    "W = processed_topicwizard_data[\"document_topic_matrix\"]\n",
    "for i in range(S.shape[0]-1):\n",
    "    r = S[i]\n",
    "    v = W[i,:]\n",
    "    v = v / np.sum(v)\n",
    "    v = v*1000\n",
    "    np.floor(v)\n",
    "    v = v/1000\n",
    "    v = v*0.99\n",
    "    idxs = np.argsort(v)[::-1]\n",
    "    v = [v[i] for i in idxs]\n",
    "    c = [topic_colors[i] for i in idxs]\n",
    "    drawPieMarker([r[0]], [r[1]], v, sizes=[200], colors=c, ax=ax)\n",
    "    if r[1] >= 0:\n",
    "        dl = 0.42\n",
    "    else:\n",
    "        dl = -0.42\n",
    "    #ax.text(r[0], r[1] + dl, sel_cids[i], va=\"center\", ha=\"center\")\n",
    "    \n",
    "ax.grid(False)\n",
    "ax.set_axis_off()\n",
    "ax.set_xlim(-1.8,1.8)\n",
    "ax.set_ylim(-1.8,1.8)\n",
    "stylia.label(ax=ax, title=\"\", xlabel=\"\", ylabel=\"\")\n",
    "\n",
    "if do_label:\n",
    "    sufix = \"_label\"\n",
    "else:\n",
    "    sufix = \"\""
   ]
  }
 ],
 "metadata": {
  "kernelspec": {
   "display_name": "pgxemb",
   "language": "python",
   "name": "python3"
  },
  "language_info": {
   "codemirror_mode": {
    "name": "ipython",
    "version": 3
   },
   "file_extension": ".py",
   "mimetype": "text/x-python",
   "name": "python",
   "nbconvert_exporter": "python",
   "pygments_lexer": "ipython3",
   "version": "3.10.10"
  }
 },
 "nbformat": 4,
 "nbformat_minor": 2
}
