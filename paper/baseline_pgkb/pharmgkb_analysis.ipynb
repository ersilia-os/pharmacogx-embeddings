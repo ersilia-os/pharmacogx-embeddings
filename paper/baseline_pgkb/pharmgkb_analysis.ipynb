{
 "cells": [
  {
   "cell_type": "code",
   "execution_count": 45,
   "metadata": {},
   "outputs": [
    {
     "name": "stdout",
     "output_type": "stream",
     "text": [
      "(88784, 15) (138145, 13)\n"
     ]
    }
   ],
   "source": [
    "import os\n",
    "import pandas as pd\n",
    "\n",
    "df1 = pd.read_csv(\"../data/pharmgkb_merged.csv\", low_memory=False)\n",
    "df2 = pd.read_csv(\"pharmgkb_merged_all.csv\", low_memory=False)\n",
    "df1[\"evidence\"] = [str(x) for x in df1[\"evidence\"]]\n",
    "df1.sort_values(by=[\"evidence\"], inplace=True)\n",
    "df2[\"evidence\"] = [str(x) for x in df2[\"evidence\"]]\n",
    "df2.sort_values(by=[\"evidence\"], inplace=True)\n",
    "print(df1.shape, df2.shape)"
   ]
  },
  {
   "cell_type": "markdown",
   "metadata": {},
   "source": [
    "# Numbers with all Evidence levels"
   ]
  },
  {
   "cell_type": "code",
   "execution_count": 34,
   "metadata": {},
   "outputs": [
    {
     "name": "stdout",
     "output_type": "stream",
     "text": [
      "1116\n",
      "1189\n"
     ]
    }
   ],
   "source": [
    "# Number of unique chemicals\n",
    "print(len(set(df1[\"chemical\"].tolist())))\n",
    "print(len(set(df2[\"chemical\"].tolist())))"
   ]
  },
  {
   "cell_type": "code",
   "execution_count": 36,
   "metadata": {},
   "outputs": [
    {
     "name": "stdout",
     "output_type": "stream",
     "text": [
      "(80952, 14) (104847, 11)\n"
     ]
    }
   ],
   "source": [
    "# Number of unique associations without evidence level\n",
    "df1_noev = df1.drop(columns=[\"evidence\"])\n",
    "df2_noev = df2.drop(columns=[\"evidence\", \"significance\"])\n",
    "df1_noev.drop_duplicates(keep=\"first\", inplace=True)\n",
    "df2_noev.drop_duplicates(keep=\"first\", inplace=True)\n",
    "\n",
    "print(df1_noev.shape, df2_noev.shape)"
   ]
  },
  {
   "cell_type": "code",
   "execution_count": 38,
   "metadata": {},
   "outputs": [
    {
     "name": "stdout",
     "output_type": "stream",
     "text": [
      "(80952, 9) (104847, 9)\n"
     ]
    },
    {
     "name": "stderr",
     "output_type": "stream",
     "text": [
      "/tmp/ipykernel_1051343/2724296045.py:3: SettingWithCopyWarning: \n",
      "A value is trying to be set on a copy of a slice from a DataFrame\n",
      "\n",
      "See the caveats in the documentation: https://pandas.pydata.org/pandas-docs/stable/user_guide/indexing.html#returning-a-view-versus-a-copy\n",
      "  df1_triplet.drop_duplicates(keep = \"first\", inplace=True)\n",
      "/tmp/ipykernel_1051343/2724296045.py:5: SettingWithCopyWarning: \n",
      "A value is trying to be set on a copy of a slice from a DataFrame\n",
      "\n",
      "See the caveats in the documentation: https://pandas.pydata.org/pandas-docs/stable/user_guide/indexing.html#returning-a-view-versus-a-copy\n",
      "  df2_triplet.drop_duplicates(keep = \"first\", inplace=True)\n"
     ]
    }
   ],
   "source": [
    "#make sure other fields are not messing with the triplets annotation\n",
    "df1_triplet = df1_noev[[\"cid\", \"chemical\", \"smiles\", \"gid\", \"gene\", \"vid\", \"variant\", \"phenotype\", \"did\"]]\n",
    "df1_triplet.drop_duplicates(keep = \"first\", inplace=True)\n",
    "df2_triplet = df2_noev[[\"cid\", \"chemical\", \"smiles\", \"gid\", \"gene\", \"vid\", \"variant\", \"phenotype\", \"did\"]]\n",
    "df2_triplet.drop_duplicates(keep = \"first\", inplace=True)\n",
    "print(df1_triplet.shape, df2_triplet.shape)"
   ]
  },
  {
   "cell_type": "markdown",
   "metadata": {},
   "source": [
    "# Numbers with only significant evidence levels"
   ]
  },
  {
   "cell_type": "code",
   "execution_count": 39,
   "metadata": {},
   "outputs": [
    {
     "name": "stdout",
     "output_type": "stream",
     "text": [
      "(78055, 15) (78055, 13)\n"
     ]
    }
   ],
   "source": [
    "df1_sig = df1[df1[\"evidence\"].isin([\"1A\", \"1B\", \"2A\", \"2B\", \"3\", \"5\"])]\n",
    "df2_sig = df2[df2[\"significance\"]==1]\n",
    "print(df1_sig.shape, df2_sig.shape)"
   ]
  },
  {
   "cell_type": "code",
   "execution_count": 41,
   "metadata": {},
   "outputs": [
    {
     "name": "stdout",
     "output_type": "stream",
     "text": [
      "1045\n",
      "1045\n"
     ]
    }
   ],
   "source": [
    "# Number of unique chemicals\n",
    "print(len(set(df1_sig[\"chemical\"].tolist())))\n",
    "print(len(set(df2_sig[\"chemical\"].tolist())))"
   ]
  },
  {
   "cell_type": "code",
   "execution_count": 43,
   "metadata": {},
   "outputs": [
    {
     "name": "stdout",
     "output_type": "stream",
     "text": [
      "(70989, 14) (70989, 11)\n"
     ]
    }
   ],
   "source": [
    "df1_noev = df1_sig.drop(columns=[\"evidence\"])\n",
    "df2_noev = df2_sig.drop(columns=[\"evidence\", \"significance\"])\n",
    "df1_noev.drop_duplicates(keep=\"first\", inplace=True)\n",
    "df2_noev.drop_duplicates(keep=\"first\", inplace=True)\n",
    "print(df1_noev.shape, df2_noev.shape)"
   ]
  },
  {
   "cell_type": "code",
   "execution_count": 44,
   "metadata": {},
   "outputs": [
    {
     "name": "stdout",
     "output_type": "stream",
     "text": [
      "(70989, 9) (70989, 9)\n"
     ]
    },
    {
     "name": "stderr",
     "output_type": "stream",
     "text": [
      "/tmp/ipykernel_1051343/2724296045.py:3: SettingWithCopyWarning: \n",
      "A value is trying to be set on a copy of a slice from a DataFrame\n",
      "\n",
      "See the caveats in the documentation: https://pandas.pydata.org/pandas-docs/stable/user_guide/indexing.html#returning-a-view-versus-a-copy\n",
      "  df1_triplet.drop_duplicates(keep = \"first\", inplace=True)\n",
      "/tmp/ipykernel_1051343/2724296045.py:5: SettingWithCopyWarning: \n",
      "A value is trying to be set on a copy of a slice from a DataFrame\n",
      "\n",
      "See the caveats in the documentation: https://pandas.pydata.org/pandas-docs/stable/user_guide/indexing.html#returning-a-view-versus-a-copy\n",
      "  df2_triplet.drop_duplicates(keep = \"first\", inplace=True)\n"
     ]
    }
   ],
   "source": [
    "#make sure other fields are not messing with the triplets annotation\n",
    "df1_triplet = df1_noev[[\"cid\", \"chemical\", \"smiles\", \"gid\", \"gene\", \"vid\", \"variant\", \"phenotype\", \"did\"]]\n",
    "df1_triplet.drop_duplicates(keep = \"first\", inplace=True)\n",
    "df2_triplet = df2_noev[[\"cid\", \"chemical\", \"smiles\", \"gid\", \"gene\", \"vid\", \"variant\", \"phenotype\", \"did\"]]\n",
    "df2_triplet.drop_duplicates(keep = \"first\", inplace=True)\n",
    "print(df1_triplet.shape, df2_triplet.shape)"
   ]
  },
  {
   "cell_type": "markdown",
   "metadata": {},
   "source": [
    "# Evidence levels: 1,2,3,5,6 (withouht 5 non significant)"
   ]
  },
  {
   "cell_type": "code",
   "execution_count": 70,
   "metadata": {},
   "outputs": [],
   "source": [
    "df1 = pd.read_csv(\"../data/pharmgkb_merged.csv\", low_memory=False)\n",
    "df1[\"evidence\"] = [str(x) for x in df1[\"evidence\"]]\n",
    "df1.sort_values(by=[\"evidence\"], inplace=True)"
   ]
  },
  {
   "cell_type": "code",
   "execution_count": 71,
   "metadata": {},
   "outputs": [
    {
     "name": "stdout",
     "output_type": "stream",
     "text": [
      "(88784, 15) (86401, 15)\n"
     ]
    }
   ],
   "source": [
    "df1_no4 = df1[df1[\"evidence\"]!=\"4\"]\n",
    "print(df1.shape, df1_no4.shape)"
   ]
  },
  {
   "cell_type": "code",
   "execution_count": 72,
   "metadata": {},
   "outputs": [
    {
     "data": {
      "text/plain": [
       "(78955, 14)"
      ]
     },
     "execution_count": 72,
     "metadata": {},
     "output_type": "execute_result"
    }
   ],
   "source": [
    "df1_noev = df1_no4.drop(columns=[\"evidence\"])\n",
    "df1_noev.drop_duplicates(keep=\"first\", inplace=True)\n",
    "df1_noev.shape"
   ]
  },
  {
   "cell_type": "code",
   "execution_count": 73,
   "metadata": {},
   "outputs": [
    {
     "data": {
      "text/plain": [
       "(78955, 9)"
      ]
     },
     "execution_count": 73,
     "metadata": {},
     "output_type": "execute_result"
    }
   ],
   "source": [
    "df1_noev = df1_noev[[\"cid\", \"chemical\", \"smiles\", \"gid\", \"gene\", \"vid\", \"variant\", \"phenotype\", \"did\"]]\n",
    "df1_noev.drop_duplicates(keep=\"first\", inplace=True)\n",
    "df1_noev.shape"
   ]
  },
  {
   "cell_type": "code",
   "execution_count": 74,
   "metadata": {},
   "outputs": [
    {
     "data": {
      "text/plain": [
       "(56242, 8)"
      ]
     },
     "execution_count": 74,
     "metadata": {},
     "output_type": "execute_result"
    }
   ],
   "source": [
    "df1_noev =df1_noev[[\"cid\", \"chemical\", \"smiles\", \"gid\", \"gene\", \"vid\", \"variant\", \"phenotype\"]]\n",
    "df1_noev.drop_duplicates(keep=\"first\", inplace=True)\n",
    "df1_noev.shape"
   ]
  },
  {
   "cell_type": "code",
   "execution_count": 75,
   "metadata": {},
   "outputs": [
    {
     "data": {
      "text/plain": [
       "(33733, 7)"
      ]
     },
     "execution_count": 75,
     "metadata": {},
     "output_type": "execute_result"
    }
   ],
   "source": [
    "df1_noev = df1_noev[[\"cid\", \"chemical\", \"smiles\", \"gid\", \"gene\", \"vid\", \"variant\"]]\n",
    "df1_noev.drop_duplicates(keep=\"first\", inplace=True)\n",
    "df1_noev.shape"
   ]
  }
 ],
 "metadata": {
  "kernelspec": {
   "display_name": "chem",
   "language": "python",
   "name": "python3"
  },
  "language_info": {
   "codemirror_mode": {
    "name": "ipython",
    "version": 3
   },
   "file_extension": ".py",
   "mimetype": "text/x-python",
   "name": "python",
   "nbconvert_exporter": "python",
   "pygments_lexer": "ipython3",
   "version": "3.11.8"
  }
 },
 "nbformat": 4,
 "nbformat_minor": 2
}
