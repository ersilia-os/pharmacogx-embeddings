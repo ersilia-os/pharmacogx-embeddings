{
 "cells": [
  {
   "cell_type": "code",
   "execution_count": 2,
   "metadata": {},
   "outputs": [],
   "source": [
    "import os\n",
    "import pandas as pd\n",
    "import matplotlib.pyplot as plt\n",
    "import stylia as st\n",
    "from stylia import NamedColors, ContinuousColorMap, ONE_COLUMN_WIDTH, TWO_COLUMNS_WIDTH\n",
    "\n",
    "DATAPATH = \"../data\"\n",
    "RESULTSPATH = \"../results\"\n",
    "\n",
    "colors = NamedColors()\n",
    "red = colors.get(\"red\")\n",
    "blue = colors.get(\"blue\")\n",
    "purple = colors.get(\"purple\")\n",
    "yellow = colors.get(\"yellow\")\n",
    "green = colors.get(\"green\")\n",
    "gray = colors.get(\"gray\")"
   ]
  },
  {
   "cell_type": "markdown",
   "metadata": {},
   "source": [
    "## Figure 2C\n",
    "Number of significant genes per drug in our dataset of 32 drugs"
   ]
  },
  {
   "cell_type": "code",
   "execution_count": 3,
   "metadata": {},
   "outputs": [],
   "source": [
    "drugs = pd.read_csv(os.path.join(\"data\", \"curated_drugs_for_gradient.tsv\"), sep=\"\\t\")\n",
    "genes = pd.read_csv(os.path.join(RESULTSPATH, \"results_pairs\",\"chemical_gene_pairs_prediction_output_focus_with_variant_aggregates_zscore95_filter.csv\" ))"
   ]
  },
  {
   "cell_type": "code",
   "execution_count": 5,
   "metadata": {},
   "outputs": [
    {
     "data": {
      "text/plain": [
       "(array([557.,  34.,   4.,   6.,   0.,   0.,   2.,   5.,   9.,   4.]),\n",
       " array([ 0.18942457,  4.24767924,  8.30593392, 12.36418859, 16.42244326,\n",
       "        20.48069794, 24.53895261, 28.59720728, 32.65546195, 36.71371663,\n",
       "        40.7719713 ]),\n",
       " <BarContainer object of 10 artists>)"
      ]
     },
     "execution_count": 5,
     "metadata": {},
     "output_type": "execute_result"
    },
    {
     "data": {
      "image/png": "[encoded data removed]",
      "text/plain": [
       "<Figure size 640x480 with 1 Axes>"
      ]
     },
     "metadata": {},
     "output_type": "display_data"
    }
   ],
   "source": [
    "plt.hist(genes[\"consensus_zscore\"])"
   ]
  },
  {
   "cell_type": "code",
   "execution_count": null,
   "metadata": {},
   "outputs": [],
   "source": []
  }
 ],
 "metadata": {
  "kernelspec": {
   "display_name": "chem",
   "language": "python",
   "name": "python3"
  },
  "language_info": {
   "codemirror_mode": {
    "name": "ipython",
    "version": 3
   },
   "file_extension": ".py",
   "mimetype": "text/x-python",
   "name": "python",
   "nbconvert_exporter": "python",
   "pygments_lexer": "ipython3",
   "version": "3.11.8"
  }
 },
 "nbformat": 4,
 "nbformat_minor": 2
}
