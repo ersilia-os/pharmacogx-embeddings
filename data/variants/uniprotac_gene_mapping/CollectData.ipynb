{
 "cells": [
  {
   "cell_type": "code",
   "execution_count": 9,
   "metadata": {},
   "outputs": [],
   "source": [
    "import pandas as pd\n",
    "\n",
    "df0 = pd.read_csv(\"../1000_Genomes/subset_snvs_protein_coding_1kGPhg38_gene_level.tsv\", sep=\"\\t\")\n",
    "df1 = pd.read_csv(\"../pharmgkb/pharmgkb_mutations_gene_level.tsv\", sep=\"\\t\")\n"
   ]
  },
  {
   "cell_type": "code",
   "execution_count": 10,
   "metadata": {},
   "outputs": [],
   "source": [
    "all_ensemble_ids = sorted(set(df0[\"ensemble_id\"]).union(set(df1[\"ensemble_id\"])))\n",
    "with open(\"ensemble_ids.txt\", \"w\") as f:\n",
    "    for i in all_ensemble_ids:\n",
    "        f.write(i + \"\\n\")\n"
   ]
  },
  {
   "cell_type": "code",
   "execution_count": null,
   "metadata": {},
   "outputs": [],
   "source": []
  }
 ],
 "metadata": {
  "kernelspec": {
   "display_name": "biogpt",
   "language": "python",
   "name": "python3"
  },
  "language_info": {
   "codemirror_mode": {
    "name": "ipython",
    "version": 3
   },
   "file_extension": ".py",
   "mimetype": "text/x-python",
   "name": "python",
   "nbconvert_exporter": "python",
   "pygments_lexer": "ipython3",
   "version": "3.10.10"
  }
 },
 "nbformat": 4,
 "nbformat_minor": 2
}
