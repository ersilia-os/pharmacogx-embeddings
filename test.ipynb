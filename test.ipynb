{
 "cells": [
  {
   "cell_type": "code",
   "execution_count": 3,
   "metadata": {},
   "outputs": [
    {
     "data": {
      "text/html": [
       "<div>\n",
       "<style scoped>\n",
       "    .dataframe tbody tr th:only-of-type {\n",
       "        vertical-align: middle;\n",
       "    }\n",
       "\n",
       "    .dataframe tbody tr th {\n",
       "        vertical-align: top;\n",
       "    }\n",
       "\n",
       "    .dataframe thead th {\n",
       "        text-align: right;\n",
       "    }\n",
       "</style>\n",
       "<table border=\"1\" class=\"dataframe\">\n",
       "  <thead>\n",
       "    <tr style=\"text-align: right;\">\n",
       "      <th></th>\n",
       "      <th>inchikey</th>\n",
       "      <th>cid</th>\n",
       "      <th>chemical</th>\n",
       "      <th>uniprot_ac</th>\n",
       "      <th>gene</th>\n",
       "      <th>gid</th>\n",
       "      <th>variant</th>\n",
       "      <th>vid</th>\n",
       "    </tr>\n",
       "  </thead>\n",
       "  <tbody>\n",
       "    <tr>\n",
       "      <th>10347</th>\n",
       "      <td>GHASVSINZRGABV-UHFFFAOYSA-N</td>\n",
       "      <td>PA128406956</td>\n",
       "      <td>fluorouracil</td>\n",
       "      <td>O60673</td>\n",
       "      <td>REV3L</td>\n",
       "      <td>PA34337</td>\n",
       "      <td>rs3218592</td>\n",
       "      <td>PA166157075</td>\n",
       "    </tr>\n",
       "    <tr>\n",
       "      <th>17182</th>\n",
       "      <td>GAGWJHPBXLXJQN-UORFTKCHSA-N</td>\n",
       "      <td>PA448771</td>\n",
       "      <td>capecitabine</td>\n",
       "      <td>O60673</td>\n",
       "      <td>REV3L</td>\n",
       "      <td>PA34337</td>\n",
       "      <td>rs3218592</td>\n",
       "      <td>PA166157075</td>\n",
       "    </tr>\n",
       "  </tbody>\n",
       "</table>\n",
       "</div>"
      ],
      "text/plain": [
       "                          inchikey          cid      chemical uniprot_ac   \n",
       "10347  GHASVSINZRGABV-UHFFFAOYSA-N  PA128406956  fluorouracil     O60673  \\\n",
       "17182  GAGWJHPBXLXJQN-UORFTKCHSA-N     PA448771  capecitabine     O60673   \n",
       "\n",
       "        gene      gid    variant          vid  \n",
       "10347  REV3L  PA34337  rs3218592  PA166157075  \n",
       "17182  REV3L  PA34337  rs3218592  PA166157075  "
      ]
     },
     "execution_count": 3,
     "metadata": {},
     "output_type": "execute_result"
    }
   ],
   "source": [
    "import pandas as pd\n",
    "\n",
    "df = pd.read_csv('data/ml_datasets_pairs/df_all_outcomes_all_genes.csv')\n",
    "\n",
    "gid = \"PA34337\"\n",
    "\n",
    "df[df['gid'] == gid]"
   ]
  }
 ],
 "metadata": {
  "kernelspec": {
   "display_name": "pgxemb",
   "language": "python",
   "name": "python3"
  },
  "language_info": {
   "codemirror_mode": {
    "name": "ipython",
    "version": 3
   },
   "file_extension": ".py",
   "mimetype": "text/x-python",
   "name": "python",
   "nbconvert_exporter": "python",
   "pygments_lexer": "ipython3",
   "version": "3.10.10"
  }
 },
 "nbformat": 4,
 "nbformat_minor": 2
}
