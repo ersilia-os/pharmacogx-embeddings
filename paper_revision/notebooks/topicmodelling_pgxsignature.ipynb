{
 "cells": [
  {
   "cell_type": "markdown",
   "metadata": {},
   "source": [
    "During the signature analysis, the authors state that “the occurrence of words was proportional to the number of associated variants (3: 50+ variants, 2: 10-49 variants, 1: 1-9 variants).” I wonder whether alternative categorizations (e.g., more granular categories) or a continuous scale (without categorization) were considered, and if not, why. The current grouping appears somewhat arbitrary – for example, 9 variants (1 word) are much closer to 10 variants (2 words) than 10 variants (2 words) are to 49 variants (also 2 words). A more refined classification or a continuous approach might better reflect the underlying distribution of variant associations."
   ]
  },
  {
   "cell_type": "code",
   "execution_count": 6,
   "metadata": {},
   "outputs": [
    {
     "name": "stdout",
     "output_type": "stream",
     "text": [
      "(753, 1245)\n"
     ]
    }
   ],
   "source": [
    "import os\n",
    "import pandas as pd\n",
    "from sklearn.decomposition import NMF\n",
    "from sklearn.feature_extraction.text import CountVectorizer, TfidfVectorizer\n",
    "from sklearn.pipeline import Pipeline\n",
    "import joblib\n",
    "import topicwizard\n",
    "import seaborn as sns\n",
    "import matplotlib.pyplot as plt\n",
    "\n",
    "TFIDF = True\n",
    "\n",
    "SCOPE = \"all_outcomes_all_genes\"\n",
    "\n",
    "root = \".\"\n",
    "data_dir = os.path.abspath(os.path.join(root, \"..\", \"..\", \"data\"))\n",
    "results_dir = os.path.abspath(os.path.join(root, \"..\", \"..\", \"results\", \"topicmodeling\", SCOPE))\n",
    "if not os.path.exists(results_dir):\n",
    "    os.makedirs(results_dir, exist_ok=True)\n",
    "\n",
    "df = pd.read_csv(os.path.join(data_dir, \"ml_datasets_matrix\", \"df_{0}.csv\".format(SCOPE)))\n",
    "\n",
    "print(df.shape)\n",
    "\n",
    "prot_names_df = pd.read_csv(os.path.join(data_dir, \"other\", \"pgkb_gene_uniprot_mapping.tsv\"), sep=\"\\t\")\n",
    "\n",
    "prot2gene = {}\n",
    "for v in prot_names_df.values:\n",
    "    prot2gene[v[2]] = v[1]\n",
    "\n",
    "df.rename(columns=prot2gene, inplace=True)\n",
    "\n",
    "inchikeys = list(df[\"Unnamed: 0\"])\n",
    "df = df.drop(columns=[\"Unnamed: 0\"], inplace=False)\n",
    "df.index = inchikeys\n",
    "\n",
    "# Create documents\n",
    "\n",
    "# 1-9: weight 1\n",
    "# 10-49: weight 2\n",
    "# 50+: weight 3\n",
    "documents_list = []\n",
    "cols = list(df.columns)\n",
    "kept_idxs = []\n",
    "for j, v in enumerate(df.values):\n",
    "    document = []\n",
    "    for i, x in enumerate(v):\n",
    "        if x == 0:\n",
    "            continue\n",
    "        elif x < 10:\n",
    "            n = 1\n",
    "        elif x < 50:\n",
    "            n = 2\n",
    "        else:\n",
    "            n = 3\n",
    "        document += [cols[i]] * n\n",
    "    if len(set(document)) < 5:\n",
    "        continue\n",
    "    kept_idxs.append(j)\n",
    "    documents_list += [\" \".join(document)]"
   ]
  },
  {
   "cell_type": "code",
   "execution_count": 10,
   "metadata": {},
   "outputs": [],
   "source": [
    "import collections\n",
    "\n",
    "occurrence_counts = collections.defaultdict(int)\n",
    "for v in df.values:\n",
    "    for x in v:\n",
    "        occurrence_counts[int(x)] += 1"
   ]
  },
  {
   "cell_type": "code",
   "execution_count": null,
   "metadata": {},
   "outputs": [
    {
     "data": {
      "image/png": "[encoded data removed]",
      "text/plain": [
       "<Figure size 345x345 with 1 Axes>"
      ]
     },
     "metadata": {},
     "output_type": "display_data"
    }
   ],
   "source": [
    "import stylia\n",
    "\n",
    "fig, axs = stylia.create_figure(1, 1)\n",
    "\n",
    "ax = axs.next()\n",
    "for k, v in occurrence_counts.items():\n",
    "    if k == 0:\n",
    "        continue\n",
    "    ax.scatter([k], [v], color=\"black\")\n",
    "\n",
    "ax = axs.next()\n",
    "\n"
   ]
  },
  {
   "cell_type": "code",
   "execution_count": null,
   "metadata": {},
   "outputs": [],
   "source": []
  }
 ],
 "metadata": {
  "kernelspec": {
   "display_name": "gardp",
   "language": "python",
   "name": "python3"
  },
  "language_info": {
   "codemirror_mode": {
    "name": "ipython",
    "version": 3
   },
   "file_extension": ".py",
   "mimetype": "text/x-python",
   "name": "python",
   "nbconvert_exporter": "python",
   "pygments_lexer": "ipython3",
   "version": "3.12.9"
  }
 },
 "nbformat": 4,
 "nbformat_minor": 2
}
