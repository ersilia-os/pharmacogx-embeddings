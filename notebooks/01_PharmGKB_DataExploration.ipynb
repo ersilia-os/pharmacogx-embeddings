{
 "cells": [
  {
   "cell_type": "code",
   "execution_count": 1,
   "metadata": {},
   "outputs": [],
   "source": [
    "import os\n",
    "import sys\n",
    "import pandas as pd\n",
    "\n",
    "sys.path.append(\"../src\")\n",
    "from pharmgkb import RawData\n",
    "\n",
    "data_path = os.path.join(\"..\", \"data\")\n",
    "pharmgkb_path = os.path.join(data_path, \"pharmgkb\")\n",
    "processed_path = os.path.join(data_path, \"pharmgkb_processed\")"
   ]
  },
  {
   "cell_type": "code",
   "execution_count": 4,
   "metadata": {},
   "outputs": [],
   "source": [
    "r = RawData()\n",
    "df = r.relationships"
   ]
  },
  {
   "cell_type": "code",
   "execution_count": 5,
   "metadata": {},
   "outputs": [
    {
     "name": "stdout",
     "output_type": "stream",
     "text": [
      "205\n",
      "205\n"
     ]
    }
   ],
   "source": [
    "df_ = df[(df[\"Entity1_type\"]==\"Gene\")&(df[\"Entity2_type\"]==\"Haplotype\")]\n",
    "print(len(df_))\n",
    "df_ = df[(df[\"Entity1_type\"]==\"Haplotype\")&(df[\"Entity2_type\"]==\"Gene\")]\n",
    "print(len(df_))\n",
    "\n",
    "#TODO Manually revise why the 410 when deduplicated become 206 not 205"
   ]
  },
  {
   "cell_type": "code",
   "execution_count": 13,
   "metadata": {},
   "outputs": [
    {
     "name": "stdout",
     "output_type": "stream",
     "text": [
      "  PharmGKB Accession Id                     Name  \\\n",
      "9              PA443225  Abnormalities, Multiple   \n",
      "\n",
      "                                     Alternate Names Cross-references  \\\n",
      "9  Multiple Abnormalities,\"Multiple congenital an...              NaN   \n",
      "\n",
      "                                 External Vocabulary  \n",
      "9  MeSH:D000015(Abnormalities, Multiple),\"SnoMedC...  \n"
     ]
    }
   ],
   "source": [
    "#Disease: checl disease explanations\n",
    "r = RawData()\n",
    "df = r.phenotypes\n",
    "for x in df[\"Name\"].tolist(): \n",
    "    type(x)\n",
    "#All are strings, but some conditions are using a comma separation with extra \"\", for example_\n",
    "print(df.loc[[9]])"
   ]
  },
  {
   "cell_type": "code",
   "execution_count": 14,
   "metadata": {},
   "outputs": [
    {
     "name": "stdout",
     "output_type": "stream",
     "text": [
      "3586\n",
      "3586\n"
     ]
    }
   ],
   "source": [
    "df2 = pd.read_csv(os.path.join(processed_path, \"disease.csv\"))\n",
    "print(len(df))\n",
    "print(len(df2))"
   ]
  },
  {
   "attachments": {},
   "cell_type": "markdown",
   "metadata": {},
   "source": [
    "## PGX Relation Table"
   ]
  },
  {
   "cell_type": "code",
   "execution_count": 1,
   "metadata": {},
   "outputs": [
    {
     "data": {
      "text/plain": [
       "Index(['aid', 'genomic_variation', 'vid', 'hid', 'gene', 'gid', 'chemical',\n",
       "       'cid', 'pd_phenotype', 'pk_phenotype', 'evidence', 'association',\n",
       "       'bid'],\n",
       "      dtype='object')"
      ]
     },
     "execution_count": 1,
     "metadata": {},
     "output_type": "execute_result"
    }
   ],
   "source": [
    "import pandas as pd\n",
    "df = pd.read_csv(\"../data/pharmgkb_processed/pgx_relation.csv\")\n",
    "df.columns"
   ]
  },
  {
   "cell_type": "code",
   "execution_count": 12,
   "metadata": {},
   "outputs": [
    {
     "name": "stdout",
     "output_type": "stream",
     "text": [
      "Association IDs: 31878\n",
      "Genomic variation: 7406\n",
      "Variant IDs: 5858\n",
      "Haplotype IDs: 197\n",
      "Gene IDs: 1940\n",
      "Chemical IDs: 770\n"
     ]
    }
   ],
   "source": [
    "print(\"Association IDs: \"+str(len(set(df[\"aid\"]))))\n",
    "print(\"Genomic variation: \"+str(len(set(df[\"genomic_variation\"]))))\n",
    "print(\"Variant IDs: \"+str(len(set(df[\"vid\"]))))\n",
    "print(\"Haplotype IDs: \"+str(len(set(df[\"hid\"]))))\n",
    "print(\"Gene IDs: \"+str(len(set(df[\"gid\"]))))\n",
    "print(\"Chemical IDs: \"+str(len(set(df[\"cid\"]))))"
   ]
  },
  {
   "cell_type": "code",
   "execution_count": 39,
   "metadata": {},
   "outputs": [
    {
     "data": {
      "text/plain": [
       "<BarContainer object of 12 artists>"
      ]
     },
     "execution_count": 39,
     "metadata": {},
     "output_type": "execute_result"
    },
    {
     "data": {
      "image/png": "[encoded data removed]",
      "text/plain": [
       "<Figure size 640x480 with 1 Axes>"
      ]
     },
     "metadata": {},
     "output_type": "display_data"
    }
   ],
   "source": [
    "import matplotlib.pyplot as plt\n",
    "\n",
    "bid = [\"AAC\",\"AME\",\"SAS\",\"EAS\",\"EUR\",\"LAT\",\"NEA\",\"OCE\",\"SSA\",\"MG\",\"UNK\",\"CST\"]\n",
    "counts = []\n",
    "\n",
    "for b in bid:\n",
    "    count = (df['bid'] == b).sum()\n",
    "    counts += [count]\n",
    "\n",
    "colors = ['#5F4690', '#E6F598', '#F46D43', '#FDE08B', '#66C2A5', '#CC503E', '#ABDDA4', '#3288BD', '#D53D4F', \"#808080\", \"#808080\", \"#808080\"]\n",
    "fig, ax = plt.subplots()\n",
    "ax.bar(bid, counts, color=colors)"
   ]
  },
  {
   "cell_type": "code",
   "execution_count": 50,
   "metadata": {},
   "outputs": [
    {
     "data": {
      "text/plain": [
       "<BarContainer object of 14 artists>"
      ]
     },
     "execution_count": 50,
     "metadata": {},
     "output_type": "execute_result"
    },
    {
     "data": {
      "image/png": "[encoded data removed]",
      "text/plain": [
       "<Figure size 640x480 with 1 Axes>"
      ]
     },
     "metadata": {},
     "output_type": "display_data"
    }
   ],
   "source": [
    "ev = df[\"evidence\"].unique().tolist()\n",
    "counts = []\n",
    "for e in sorted(ev):\n",
    "    count = (df['evidence'] == e).sum()\n",
    "    counts += [count]\n",
    "\n",
    "colors = ['#5F4690', '#1D6996', '#38A6A5', '#0F8554', '#73AF48', '#EDAD08', '#E17C05', '#CC503E', '#94346E']\n",
    "fig, ax = plt.subplots()\n",
    "ax.bar(sorted(ev), counts, color=colors)"
   ]
  },
  {
   "cell_type": "code",
   "execution_count": 52,
   "metadata": {},
   "outputs": [
    {
     "name": "stdout",
     "output_type": "stream",
     "text": [
      "gene\n",
      "ABCB1      2202\n",
      "CYP2D6     2195\n",
      "CYP2C19    2126\n",
      "CYP2C9     1525\n",
      "CYP3A5     1353\n",
      "OPRM1      1286\n",
      "HLA-B       887\n",
      "DPYD        871\n",
      "CYP2B6      837\n",
      "CYP3A4      835\n",
      "SLCO1B1     773\n",
      "UGT1A1      608\n",
      "VKORC1      602\n",
      "RYR1        548\n",
      "COMT        512\n",
      "MTHFR       446\n",
      "DRD2        414\n",
      "ABCC2       407\n",
      "ABCG2       403\n",
      "TPMT        392\n",
      "Name: count, dtype: int64\n",
      "chemical\n",
      "warfarin          1630\n",
      "tacrolimus        1570\n",
      "methotrexate      1295\n",
      "clopidogrel       1138\n",
      "fluorouracil       921\n",
      "nicotine           854\n",
      "ethanol            815\n",
      "opioids            719\n",
      "methadone          671\n",
      "risperidone        559\n",
      "efavirenz          557\n",
      "carbamazepine      549\n",
      "heroin             511\n",
      "irinotecan         474\n",
      "morphine           473\n",
      "tamoxifen          470\n",
      "ribavirin          449\n",
      "gemcitabine        425\n",
      "antipsychotics     420\n",
      "imatinib           409\n",
      "Name: count, dtype: int64\n"
     ]
    }
   ],
   "source": [
    "#most abundant genes\n",
    "counts = df[\"gene\"].value_counts()\n",
    "print(counts[:20])\n",
    "\n",
    "#most abundant compounds\n",
    "\n",
    "counts = df[\"chemical\"].value_counts()\n",
    "print(counts[:20])"
   ]
  },
  {
   "cell_type": "code",
   "execution_count": null,
   "metadata": {},
   "outputs": [],
   "source": []
  }
 ],
 "metadata": {
  "kernelspec": {
   "display_name": "pgx",
   "language": "python",
   "name": "python3"
  },
  "language_info": {
   "codemirror_mode": {
    "name": "ipython",
    "version": 3
   },
   "file_extension": ".py",
   "mimetype": "text/x-python",
   "name": "python",
   "nbconvert_exporter": "python",
   "pygments_lexer": "ipython3",
   "version": "3.10.10"
  },
  "orig_nbformat": 4,
  "vscode": {
   "interpreter": {
    "hash": "eba58362753487f02cf49ae3e3e19522845821e18d8feadc0f78fe7d3e2bd4e3"
   }
  }
 },
 "nbformat": 4,
 "nbformat_minor": 2
}
