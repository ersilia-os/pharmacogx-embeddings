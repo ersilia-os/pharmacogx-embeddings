{
 "cells": [
  {
   "cell_type": "code",
   "execution_count": 1,
   "metadata": {},
   "outputs": [],
   "source": [
    "import os\n",
    "import sys\n",
    "import pandas as pd\n",
    "\n",
    "sys.path.append(\"../src\")\n",
    "from pharmgkb import RawData\n",
    "\n",
    "data_path = os.path.join(\"..\", \"data\")\n",
    "pharmgkb_path = os.path.join(data_path, \"pharmgkb\")\n",
    "processed_path = os.path.join(data_path, \"pharmgkb_processed\")"
   ]
  },
  {
   "cell_type": "code",
   "execution_count": 4,
   "metadata": {},
   "outputs": [],
   "source": [
    "r = RawData()\n",
    "df = r.relationships"
   ]
  },
  {
   "cell_type": "code",
   "execution_count": 5,
   "metadata": {},
   "outputs": [
    {
     "name": "stdout",
     "output_type": "stream",
     "text": [
      "205\n",
      "205\n"
     ]
    }
   ],
   "source": [
    "df_ = df[(df[\"Entity1_type\"]==\"Gene\")&(df[\"Entity2_type\"]==\"Haplotype\")]\n",
    "print(len(df_))\n",
    "df_ = df[(df[\"Entity1_type\"]==\"Haplotype\")&(df[\"Entity2_type\"]==\"Gene\")]\n",
    "print(len(df_))\n",
    "\n",
    "#TODO Manually revise why the 410 when deduplicated become 206 not 205"
   ]
  },
  {
   "cell_type": "code",
   "execution_count": 13,
   "metadata": {},
   "outputs": [
    {
     "name": "stdout",
     "output_type": "stream",
     "text": [
      "  PharmGKB Accession Id                     Name  \\\n",
      "9              PA443225  Abnormalities, Multiple   \n",
      "\n",
      "                                     Alternate Names Cross-references  \\\n",
      "9  Multiple Abnormalities,\"Multiple congenital an...              NaN   \n",
      "\n",
      "                                 External Vocabulary  \n",
      "9  MeSH:D000015(Abnormalities, Multiple),\"SnoMedC...  \n"
     ]
    }
   ],
   "source": [
    "#Disease: checl disease explanations\n",
    "r = RawData()\n",
    "df = r.phenotypes\n",
    "for x in df[\"Name\"].tolist(): \n",
    "    type(x)\n",
    "#All are strings, but some conditions are using a comma separation with extra \"\", for example_\n",
    "print(df.loc[[9]])"
   ]
  },
  {
   "cell_type": "code",
   "execution_count": 14,
   "metadata": {},
   "outputs": [
    {
     "name": "stdout",
     "output_type": "stream",
     "text": [
      "3586\n",
      "3586\n"
     ]
    }
   ],
   "source": [
    "df2 = pd.read_csv(os.path.join(processed_path, \"disease.csv\"))\n",
    "print(len(df))\n",
    "print(len(df2))"
   ]
  },
  {
   "cell_type": "code",
   "execution_count": null,
   "metadata": {},
   "outputs": [],
   "source": []
  }
 ],
 "metadata": {
  "kernelspec": {
   "display_name": "pgx",
   "language": "python",
   "name": "python3"
  },
  "language_info": {
   "codemirror_mode": {
    "name": "ipython",
    "version": 3
   },
   "file_extension": ".py",
   "mimetype": "text/x-python",
   "name": "python",
   "nbconvert_exporter": "python",
   "pygments_lexer": "ipython3",
   "version": "3.10.0"
  },
  "orig_nbformat": 4,
  "vscode": {
   "interpreter": {
    "hash": "eba58362753487f02cf49ae3e3e19522845821e18d8feadc0f78fe7d3e2bd4e3"
   }
  }
 },
 "nbformat": 4,
 "nbformat_minor": 2
}
