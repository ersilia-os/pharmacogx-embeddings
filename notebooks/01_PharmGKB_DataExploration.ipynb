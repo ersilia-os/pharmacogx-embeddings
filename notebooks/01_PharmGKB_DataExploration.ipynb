{
 "cells": [
  {
   "cell_type": "code",
   "execution_count": null,
   "metadata": {},
   "outputs": [],
   "source": []
  },
  {
   "cell_type": "code",
   "execution_count": null,
   "metadata": {},
   "outputs": [],
   "source": []
  }
 ],
 "metadata": {
  "kernelspec": {
   "display_name": "base",
   "language": "python",
   "name": "python3"
  },
  "language_info": {
   "name": "python",
   "version": "3.9.12 | packaged by conda-forge | (main, Mar 24 2022, 23:22:55) \n[GCC 10.3.0]"
  },
  "orig_nbformat": 4,
  "vscode": {
   "interpreter": {
    "hash": "1e18c65755af76d43dc8108c365bd90ba2f5fba4461068b4b37a4fb8b6922d9a"
   }
  }
 },
 "nbformat": 4,
 "nbformat_minor": 2
}
