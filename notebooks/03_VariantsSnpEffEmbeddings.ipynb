{
 "cells": [
  {
   "cell_type": "markdown",
   "metadata": {},
   "source": [
    "# Variant embeddings\n",
    "\n",
    "In this notebook, we explore strategies to obtain simple vector embeddings from the variant annotation tabular data.\n",
    "\n",
    "These articles are interesting:\n",
    "- https://direct.mit.edu/tacl/article/doi/10.1162/tacl_a_00544/115239/Transformers-for-Tabular-Data-Representation-A\n",
    "\n",
    "```python\n",
    "with open(\"codebook.tsv\", \"w\") as f:\n",
    "    writer = csv.writer(f, delimiter=\"\\t\")\n",
    "    writer.writerow([\"index\", \"column_name\"])\n",
    "    for i, c in enumerate(list(df.columns)):\n",
    "        writer.writerow([i, c])\n",
    "``````"
   ]
  },
  {
   "cell_type": "code",
   "execution_count": 75,
   "metadata": {},
   "outputs": [],
   "source": [
    "import pandas as pd\n",
    "import numpy as np"
   ]
  },
  {
   "cell_type": "code",
   "execution_count": 76,
   "metadata": {},
   "outputs": [],
   "source": [
    "df = pd.read_csv(\"../data/variants/1000_Genomes/10000_subset_snvs_coding_1kGPhg38.tsv\", sep=\"\\t\")"
   ]
  },
  {
   "cell_type": "code",
   "execution_count": 77,
   "metadata": {},
   "outputs": [],
   "source": [
    "import torch\n",
    "from transformers import AutoTokenizer, AutoModelForCausalLM\n",
    "import numpy as np\n",
    "from tqdm import tqdm\n",
    "\n",
    "\n",
    "class BioGPTEmbedder(object):\n",
    "    def __init__(self):\n",
    "        self.tokenizer = AutoTokenizer.from_pretrained(\"microsoft/biogpt\")\n",
    "        self.model = AutoModelForCausalLM.from_pretrained(\"microsoft/biogpt\")\n",
    "\n",
    "    def calculate(self, text_inputs):\n",
    "        X = np.zeros((len(text_inputs), 1024), dtype=np.float32)\n",
    "        for i, text in tqdm(enumerate(text_inputs)):\n",
    "            encoded_input = self.tokenizer(text, return_tensors=\"pt\")\n",
    "            with torch.no_grad():\n",
    "                hidden_states = self.model.base_model(**encoded_input).last_hidden_state\n",
    "            mean_encoding = torch.mean(hidden_states, dim=1)\n",
    "            mean_encoding_np = mean_encoding.numpy()\n",
    "            X[i, :] = mean_encoding_np\n",
    "        return X\n",
    "\n",
    "embedder = BioGPTEmbedder()"
   ]
  },
  {
   "cell_type": "markdown",
   "metadata": {},
   "source": [
    "## Basic information and annotations"
   ]
  },
  {
   "cell_type": "code",
   "execution_count": 78,
   "metadata": {},
   "outputs": [
    {
     "name": "stderr",
     "output_type": "stream",
     "text": [
      "10it [00:01,  8.08it/s]\n"
     ]
    }
   ],
   "source": [
    "gene_biotypes = {\n",
    "    \"Protein-coding related\": {\n",
    "        \"protein_coding\": \"Genes that code for proteins.\",\n",
    "        \"nonsense_mediated_decay\": \"Genes with transcripts that are subject to Nonsense-Mediated Decay.\",\n",
    "        \"non_stop_decay\": \"Transcripts that have an open reading frame but lack a stop codon.\",\n",
    "        \"ambiguous_orf\": \"Transcripts with an uncertain coding potential.\",\n",
    "        \"disrupted_domain\": \"Transcripts that contain a frameshift within their coding sequence.\"\n",
    "    },\n",
    "    \"Non-coding RNA genes\": {\n",
    "        \"lncRNA\": \"Long non-coding RNA genes.\",\n",
    "        \"miRNA\": \"MicroRNA genes, which produce small RNAs involved in gene silencing.\",\n",
    "        \"snRNA\": \"Small nuclear RNA genes, usually involved in splicing.\",\n",
    "        \"snoRNA\": \"Small nucleolar RNA genes, mainly involved in rRNA modification.\",\n",
    "        \"rRNA\": \"Ribosomal RNA genes.\",\n",
    "        \"tRNA\": \"Transfer RNA genes.\",\n",
    "        \"pseudogene\": \"Non-functional sequences that resemble functional genes.\",\n",
    "        \"Mt_tRNA\": \"Mitochondrial tRNA genes.\",\n",
    "        \"Mt_rRNA\": \"Mitochondrial rRNA genes.\"\n",
    "    },\n",
    "    \"Immunoglobulin/T-cell receptor genes\": {\n",
    "        \"IG_C_gene\": \"Immunoglobulin Constant gene.\",\n",
    "        \"IG_D_gene\": \"Immunoglobulin Diversity gene.\",\n",
    "        \"IG_J_gene\": \"Immunoglobulin Joining gene.\",\n",
    "        \"IG_V_gene\": \"Immunoglobulin Variable gene.\",\n",
    "        \"TR_C_gene\": \"T-cell receptor Constant gene.\",\n",
    "        \"TR_D_gene\": \"T-cell receptor Diversity gene.\",\n",
    "        \"TR_J_gene\": \"T-cell receptor Joining gene.\",\n",
    "        \"TR_V_gene\": \"T-cell receptor Variable gene.\"\n",
    "    },\n",
    "    \"Other types\": {\n",
    "        \"misc_RNA\": \"Miscellaneous RNA genes not classified elsewhere.\",\n",
    "        \"scaRNA\": \"Small Cajal body-specific RNA genes.\",\n",
    "        \"vaultRNA\": \"Vault RNA genes.\",\n",
    "        \"bidirectional_promoter_lncRNA\": \"Non-coding RNA genes that originate from bidirectional promoters.\",\n",
    "        \"retained_intron\": \"Transcripts that retain an intron.\"\n",
    "    },\n",
    "    \"Pseudogenes\": {\n",
    "        \"processed_pseudogene\": \"Pseudogenes derived from retrotransposition.\",\n",
    "        \"unprocessed_pseudogene\": \"Direct duplications of genes.\",\n",
    "        \"polymorphic_pseudogene\": \"Pseudogenes with some functional alleles in the population.\",\n",
    "        \"transcribed_processed_pseudogene\": \"Transcribed processed pseudogenes.\",\n",
    "        \"transcribed_unprocessed_pseudogene\": \"Transcribed unprocessed pseudogenes.\",\n",
    "        \"transcribed_unitary_pseudogene\": \"Transcribed pseudogenes with no functional counterparts.\",\n",
    "        \"unitary_pseudogene\": \"Pseudogenes with no functional counterparts in the genome.\"\n",
    "    },\n",
    "    \"Others\": {\n",
    "        \"TEC\": \"To be Experimentally Confirmed.\",\n",
    "        \"macro_lncRNA\": \"Very long non-coding RNA genes.\"\n",
    "    }\n",
    "}\n",
    "\n",
    "gene_biotypes = dict((l,w) for k,v in gene_biotypes.items() for l,w in v.items())\n",
    "\n",
    "columns = list(df.columns)\n",
    "\n",
    "basic_columns = columns[slice(0, columns.index(\"ANN[*].ERRORS\")+1)]\n",
    "\n",
    "texts = []\n",
    "\n",
    "for r in df[basic_columns].values:\n",
    "    text = \"\"\n",
    "    c = r[basic_columns.index(\"CHROM\")]\n",
    "    if c == \".\":\n",
    "        text += \"Variant with no known chromosome. \"\n",
    "    else:\n",
    "        text += \"Variant on chromosome {0}. \".format(c)\n",
    "    text += \"Reference allele is {0} and variant allele is {1}. \".format(r[basic_columns.index(\"REF\")], r[basic_columns.index(\"ALT\")])\n",
    "    text += \"Annotated gene is {0}. \".format(r[basic_columns.index(\"ANN[*].GENE\")])\n",
    "    feat = r[basic_columns.index(\"ANN[*].FEATURE\")]\n",
    "    text += \"It is reported on a {0}. \".format(feat)\n",
    "    biot = r[basic_columns.index(\"ANN[*].BIOTYPE\")]\n",
    "    if biot in gene_biotypes:\n",
    "        text += \"The biotype is {0}. \".format(gene_biotypes[biot].rstrip(\".\"))\n",
    "    eff = r[basic_columns.index(\"ANN[*].EFFECT\")].replace(\"_\", \" \")\n",
    "    imp = r[basic_columns.index(\"ANN[*].IMPACT\")].lower()\n",
    "    rnk = r[basic_columns.index(\"ANN[*].RANK\")]\n",
    "    text += \"The effect is {0} with a {1} impact ranked {2}. \".format(eff, imp, rnk)\n",
    "    hgvs = r[basic_columns.index(\"ANN[*].HGVS_P\")]\n",
    "    if hgvs != \".\":\n",
    "        text += \"The point mutation is {0}. \".format(hgvs)\n",
    "    text = text.rstrip(\" \")\n",
    "    texts += [text]\n",
    "\n",
    "\n",
    "X_basic = embedder.calculate(texts[:10])"
   ]
  },
  {
   "cell_type": "markdown",
   "metadata": {},
   "source": [
    "## Frequency"
   ]
  },
  {
   "cell_type": "code",
   "execution_count": 79,
   "metadata": {},
   "outputs": [],
   "source": [
    "population_frequencies_columns = columns[slice(columns.index(\"AF\"), columns.index(\"dbNSFP_ExAC_SAS_AF\")+1)]\n",
    "dfreq = pd.DataFrame(df[population_frequencies_columns])\n",
    "\n",
    "X_freq = np.array(dfreq)"
   ]
  },
  {
   "cell_type": "markdown",
   "metadata": {},
   "source": [
    "## Predictions"
   ]
  },
  {
   "cell_type": "code",
   "execution_count": 80,
   "metadata": {},
   "outputs": [],
   "source": [
    "prediction_scores_columns = columns[slice(columns.index(\"dbNSFP_CADD_phred\"), columns.index(\"dbNSFP_VEST4_score\")+1)]\n",
    "\n",
    "df[\"dbNSFP_Polyphen2_HDIV_pred\"].replace({'B': 0, 'P': 1, 'D': 2}, inplace=True)\n",
    "df[\"dbNSFP_SIFT_pred\"].replace({'D': 1, 'T': 0}, inplace=True)\n",
    "df[\"dbNSFP_MutationAssessor_pred\"].replace({'H': 3, 'M': 2, \"L\": 1, \"N\": 0}, inplace=True)\n",
    "df[\"dbNSFP_MutationTaster_pred\"].replace({\"A\": 2, \"D\": 1, \"N\": 0, \"P\": 0}, inplace=True)\n",
    "def calculate_value(s):\n",
    "    values = s.split(',')\n",
    "    values = [v for v in values if v != '.']\n",
    "    if not values:\n",
    "        return float('NaN')\n",
    "    mean_value = sum([1 if v == 'D' else 0 for v in values]) / len(values)\n",
    "    return mean_value\n",
    "df['dbNSFP_PROVEAN_pred'] = df['dbNSFP_PROVEAN_pred'].apply(calculate_value)\n",
    "dpred = pd.DataFrame(df[prediction_scores_columns])\n",
    "dpred.replace(\".\", np.nan, inplace=True)\n",
    "\n",
    "X_pred = np.array(dpred)"
   ]
  },
  {
   "cell_type": "markdown",
   "metadata": {},
   "source": [
    "## Other columns"
   ]
  },
  {
   "cell_type": "code",
   "execution_count": 85,
   "metadata": {},
   "outputs": [
    {
     "name": "stderr",
     "output_type": "stream",
     "text": [
      "10it [00:01,  9.72it/s]\n"
     ]
    }
   ],
   "source": [
    "other_columns = columns[slice(columns.index(\"dbNSFP_clinvar_id\"), columns.index(\"dbNSFP_Interpro_domain\")+1)]\n",
    "texts = []\n",
    "for v in df[[\"dbNSFP_clinvar_clnsig\", \"dbNSFP_clinvar_trait\", \"COSV_ID\"]].values:\n",
    "    t = \"\"\n",
    "    if v[0] != \".\":\n",
    "        t += \"The clinical relevance of the variant is {0}. \".format(v[0])\n",
    "    else:\n",
    "        t += \"The clinical relevance of the variant is not annotated. \"\n",
    "    if v[1] != \".\":\n",
    "        t += \"The traits are {0}. \".format(v[1].replace(\"_\", \" \"))\n",
    "    else:\n",
    "        t += \"No traits are known. \"\n",
    "    if v[2] != \".\":\n",
    "        t += \"The affected domains of the variant in COSMIC are {0}.\".format(v[2])\n",
    "    else:\n",
    "        t += \"No domains in COSMIC.\"\n",
    "    texts += [t]\n",
    "\n",
    "X_other = embedder.calculate(texts[:10])"
   ]
  },
  {
   "cell_type": "code",
   "execution_count": null,
   "metadata": {},
   "outputs": [],
   "source": []
  }
 ],
 "metadata": {
  "kernelspec": {
   "display_name": "biogpt",
   "language": "python",
   "name": "python3"
  },
  "language_info": {
   "codemirror_mode": {
    "name": "ipython",
    "version": 3
   },
   "file_extension": ".py",
   "mimetype": "text/x-python",
   "name": "python",
   "nbconvert_exporter": "python",
   "pygments_lexer": "ipython3",
   "version": "3.10.10"
  },
  "orig_nbformat": 4
 },
 "nbformat": 4,
 "nbformat_minor": 2
}
