{
 "cells": [
  {
   "cell_type": "code",
   "execution_count": 167,
   "metadata": {},
   "outputs": [
    {
     "name": "stdout",
     "output_type": "stream",
     "text": [
      "Compounds: 1190\n",
      "Genes:     1949\n",
      "Variants:  6986\n"
     ]
    },
    {
     "data": {
      "text/plain": [
       "(345420, 16)"
      ]
     },
     "execution_count": 167,
     "metadata": {},
     "output_type": "execute_result"
    }
   ],
   "source": [
    "import pandas as pd\n",
    "import os\n",
    "from tqdm import tqdm\n",
    "from rdkit import Chem\n",
    "from rdkit import RDLogger \n",
    "RDLogger.DisableLog('rdApp.*')\n",
    "\n",
    "\n",
    "df = pd.read_csv(\"../data/pharmgkb_processed/final_tables/pgkb_merged.csv\", low_memory=False)\n",
    "print(\"Compounds:\", len(set(df[\"cid\"])))\n",
    "print(\"Genes:    \", len(set(df[\"gid\"])))\n",
    "print(\"Variants: \", len(set(df[\"vid\"])))\n",
    "df.shape"
   ]
  },
  {
   "cell_type": "code",
   "execution_count": 168,
   "metadata": {},
   "outputs": [],
   "source": [
    "focus_genes = pd.read_csv(\"../data/of_interest/adme_gene_list.tsv\", sep=\"\\t\")\n",
    "focus_compounds = pd.read_csv(\"../data/of_interest/curated_drugs_for_gradient.tsv\", sep=\"\\t\")\n",
    "inchikeys = []\n",
    "for smi in focus_compounds[\"SMILES\"].tolist():\n",
    "    mol = Chem.MolFromSmiles(smi)\n",
    "    inchi = Chem.rdinchi.MolToInchi(mol)[0]\n",
    "    inchikey = Chem.rdinchi.InchiToInchiKey(inchi)\n",
    "    inchikeys += [inchikey]\n",
    "focus_compounds[\"inchikey\"] = inchikeys"
   ]
  },
  {
   "cell_type": "code",
   "execution_count": 169,
   "metadata": {},
   "outputs": [
    {
     "data": {
      "text/plain": [
       "(303189, 16)"
      ]
     },
     "execution_count": 169,
     "metadata": {},
     "output_type": "execute_result"
    }
   ],
   "source": [
    "df = df[df[\"gid\"].isin(focus_genes[\"PharmGKB ID\"].tolist())]\n",
    "df.shape"
   ]
  },
  {
   "cell_type": "code",
   "execution_count": 170,
   "metadata": {},
   "outputs": [
    {
     "name": "stderr",
     "output_type": "stream",
     "text": [
      "100%|██████████| 635/635 [00:00<00:00, 3943.09it/s]\n"
     ]
    }
   ],
   "source": [
    "cid2smi = {}\n",
    "\n",
    "for r in df[[\"cid\", \"smiles\"]].values:\n",
    "    if str(r[1]) != \"nan\":\n",
    "        cid2smi[r[0]] = r[1]\n",
    "\n",
    "cid2key = {}\n",
    "for k,v in tqdm(cid2smi.items()):\n",
    "    mol = Chem.MolFromSmiles(v)\n",
    "    inchi = Chem.rdinchi.MolToInchi(mol)[0]\n",
    "    inchikey = Chem.rdinchi.InchiToInchiKey(inchi)\n",
    "    cid2key[k] = inchikey"
   ]
  },
  {
   "cell_type": "code",
   "execution_count": 171,
   "metadata": {},
   "outputs": [],
   "source": [
    "hp = pd.read_csv(\"../data/other/human_proteome_with_genenames.tab\", sep=\"\\t\")\n",
    "cols = list(hp.columns)\n",
    "hp = hp[(hp[cols[0]].notnull()) & (hp[cols[2]].notnull())]\n",
    "g2p = {}\n",
    "up = pd.read_csv(\n",
    "    os.path.join(\n",
    "        \"..\", \"data\", \"other\", \"human_proteome_with_genenames.tab\"\n",
    "    ),\n",
    "    sep=\"\\t\",\n",
    ")\n",
    "for v in up[\n",
    "    [\"Entry\", \"Gene names\", \"Gene names  (primary )\", \"Gene names  (synonym )\"]\n",
    "].values:\n",
    "    p = v[0]\n",
    "    g = []\n",
    "    for x in v[1:]:\n",
    "        x = str(x)\n",
    "        if x == \"nan\":\n",
    "            continue\n",
    "        for y in x.split(\" \"):\n",
    "            g += [y]\n",
    "    for x in g:\n",
    "        g2p[x] = p\n",
    "\n",
    "gid2key = {}\n",
    "for r in df[[\"gid\", \"gene\"]].values:\n",
    "    if str(r[0]) == \"nan\" or str(r[1]) == \"nan\":\n",
    "        continue\n",
    "    if r[1] not in g2p:\n",
    "        continue\n",
    "    gid2key[r[0]] = g2p[r[1]]\n"
   ]
  },
  {
   "cell_type": "code",
   "execution_count": 172,
   "metadata": {},
   "outputs": [
    {
     "name": "stdout",
     "output_type": "stream",
     "text": [
      "(94948, 16)\n"
     ]
    }
   ],
   "source": [
    "df = df[df[\"phenotype\"].isin([\"Metabolism/PK\"])]#, \"Toxicity\", \"Dosage\"])]\n",
    "df = df[df[\"significance\"] != -1]\n",
    "df = df[df[\"evidence\"] != \"4\"]\n",
    "print(df.shape)\n",
    "\n",
    "triplets = set()\n",
    "for r in df[[\"cid\", \"gid\", \"gene\", \"vid\", \"variant\"]].values:\n",
    "    r = tuple(r)\n",
    "    if r[0] not in cid2key:\n",
    "        ckey = None\n",
    "    else:\n",
    "        ckey = cid2key[r[0]]\n",
    "    if r[1] not in gid2key:\n",
    "        gkey = None\n",
    "    else:\n",
    "        gkey = gid2key[r[1]]\n",
    "    if gkey is None or ckey is None:\n",
    "        continue\n",
    "    triplets.update([(ckey, r[0], gkey, r[2], r[1], r[4], r[3])])\n",
    "triplets = list(triplets)\n",
    "triplets = list(set(triplets))\n",
    "\n",
    "dt = pd.DataFrame(triplets, columns=[\"inchikey\", \"cid\", \"uniprot_ac\", \"gene_name\", \"gid\", \"variant\", \"vid\"])"
   ]
  },
  {
   "cell_type": "code",
   "execution_count": 177,
   "metadata": {},
   "outputs": [
    {
     "data": {
      "text/plain": [
       "10"
      ]
     },
     "execution_count": 177,
     "metadata": {},
     "output_type": "execute_result"
    }
   ],
   "source": [
    "len(set(dt[\"inchikey\"]).intersection(focus_compounds[\"inchikey\"]))"
   ]
  },
  {
   "cell_type": "code",
   "execution_count": 178,
   "metadata": {},
   "outputs": [
    {
     "data": {
      "text/plain": [
       "(32, 6)"
      ]
     },
     "execution_count": 178,
     "metadata": {},
     "output_type": "execute_result"
    }
   ],
   "source": [
    "focus_compounds.shape"
   ]
  },
  {
   "cell_type": "code",
   "execution_count": 149,
   "metadata": {},
   "outputs": [
    {
     "name": "stdout",
     "output_type": "stream",
     "text": [
      "Compounds 324\n",
      "Proteins 88\n",
      "Variants 1035\n"
     ]
    }
   ],
   "source": [
    "print(\"Compounds\", len(set(dt[\"inchikey\"])))\n",
    "print(\"Proteins\", len(set(dt[\"uniprot_ac\"])))\n",
    "print(\"Variants\", len(set(dt[\"vid\"])))"
   ]
  },
  {
   "cell_type": "code",
   "execution_count": 182,
   "metadata": {},
   "outputs": [
    {
     "data": {
      "text/plain": [
       "cid\n",
       "PA450401       301\n",
       "PA451363       294\n",
       "PA166124478    268\n",
       "PA166127652    261\n",
       "PA451581       234\n",
       "              ... \n",
       "PA166131548      1\n",
       "PA166131561      1\n",
       "PA166131580      1\n",
       "PA450644         1\n",
       "PA10005          1\n",
       "Length: 328, dtype: int64"
      ]
     },
     "execution_count": 182,
     "metadata": {},
     "output_type": "execute_result"
    }
   ],
   "source": [
    "dt.value_counts(\"cid\")"
   ]
  },
  {
   "cell_type": "code",
   "execution_count": null,
   "metadata": {},
   "outputs": [],
   "source": []
  }
 ],
 "metadata": {
  "kernelspec": {
   "display_name": "biogpt",
   "language": "python",
   "name": "python3"
  },
  "language_info": {
   "codemirror_mode": {
    "name": "ipython",
    "version": 3
   },
   "file_extension": ".py",
   "mimetype": "text/x-python",
   "name": "python",
   "nbconvert_exporter": "python",
   "pygments_lexer": "ipython3",
   "version": "3.10.10"
  },
  "orig_nbformat": 4
 },
 "nbformat": 4,
 "nbformat_minor": 2
}
