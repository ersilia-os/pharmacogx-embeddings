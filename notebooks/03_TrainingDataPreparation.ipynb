{
 "cells": [
  {
   "cell_type": "markdown",
   "metadata": {},
   "source": [
    "# Training data preparation\n",
    "\n",
    "In this notebook, we explore the PharmGKB data and prepare it for training."
   ]
  },
  {
   "cell_type": "code",
   "execution_count": 34,
   "metadata": {},
   "outputs": [
    {
     "name": "stdout",
     "output_type": "stream",
     "text": [
      "Compounds:  1190\n",
      "Genes:      1949\n",
      "Variants:   6986\n",
      "Pairs:      9790\n",
      "Triplets:   49958\n"
     ]
    }
   ],
   "source": [
    "# Imports\n",
    "import pandas as pd\n",
    "import os\n",
    "from tqdm import tqdm\n",
    "import random\n",
    "from rdkit import Chem\n",
    "from rdkit import RDLogger\n",
    "import numpy as np\n",
    "import datetime\n",
    "import string\n",
    "import json\n",
    "import warnings\n",
    "RDLogger.DisableLog('rdApp.*')\n",
    "\n",
    "import sys\n",
    "sys.path.append(\"../src\")\n",
    "\n",
    "# Read main processed PharmGKB table\n",
    "df = pd.read_csv(\"../data/pharmgkb_processed/final_tables/pgkb_merged.csv\", low_memory=False)\n",
    "\n",
    "\n",
    "def table_statistics(df):\n",
    "    pairs = set([tuple(x) for x in df[[\"cid\", \"gid\"]].values])\n",
    "    triplets = set([tuple(x) for x in df[[\"cid\", \"vid\", \"gid\"]].values])\n",
    "    print(\"Compounds: \", len(set(df[\"cid\"])))\n",
    "    print(\"Genes:     \", len(set(df[\"gid\"])))\n",
    "    print(\"Variants:  \", len(set(df[\"vid\"])))\n",
    "    print(\"Pairs:     \", len(pairs))\n",
    "    print(\"Triplets:  \", len(triplets))\n",
    "\n",
    "table_statistics(df)"
   ]
  },
  {
   "cell_type": "code",
   "execution_count": 35,
   "metadata": {},
   "outputs": [],
   "source": [
    "# Focus genes are ADME genes provided by H3D\n",
    "focus_genes = pd.read_csv(\"../data/of_interest/adme_gene_list.tsv\", sep=\"\\t\")\n",
    "\n",
    "# Focus compounds are antimalarial and antituberculosis drugs provided by H3D\n",
    "focus_compounds = pd.read_csv(\"../data/of_interest/curated_drugs_for_gradient.tsv\", sep=\"\\t\")\n",
    "inchikeys = []\n",
    "for smi in focus_compounds[\"SMILES\"].tolist():\n",
    "    mol = Chem.MolFromSmiles(smi)\n",
    "    inchi = Chem.rdinchi.MolToInchi(mol)[0]\n",
    "    inchikey = Chem.rdinchi.InchiToInchiKey(inchi)\n",
    "    inchikeys += [inchikey]\n",
    "focus_compounds[\"inchikey\"] = inchikeys"
   ]
  },
  {
   "cell_type": "code",
   "execution_count": 22,
   "metadata": {},
   "outputs": [
    {
     "name": "stdout",
     "output_type": "stream",
     "text": [
      "Compounds:  774\n",
      "Genes:      171\n",
      "Variants:   2527\n",
      "Pairs:      3140\n",
      "Triplets:   35122\n"
     ]
    }
   ],
   "source": [
    "df = df[df[\"gid\"].isin(focus_genes[\"PharmGKB ID\"].tolist())]\n",
    "table_statistics(df)"
   ]
  },
  {
   "cell_type": "code",
   "execution_count": 36,
   "metadata": {},
   "outputs": [
    {
     "name": "stderr",
     "output_type": "stream",
     "text": [
      "100%|██████████| 904/904 [00:00<00:00, 3373.53it/s]\n"
     ]
    }
   ],
   "source": [
    "# Map compounds to InChIKeys\n",
    "cid2smi = {}\n",
    "for r in df[[\"cid\", \"smiles\"]].values:\n",
    "    if str(r[1]) != \"nan\":\n",
    "        cid2smi[r[0]] = r[1]\n",
    "cid2key = {}\n",
    "for k,v in tqdm(cid2smi.items()):\n",
    "    mol = Chem.MolFromSmiles(v)\n",
    "    inchi = Chem.rdinchi.MolToInchi(mol)[0]\n",
    "    inchikey = Chem.rdinchi.InchiToInchiKey(inchi)\n",
    "    cid2key[k] = inchikey\n",
    "\n",
    "# Map genes to UniProt ACs\n",
    "hp = pd.read_csv(\"../data/other/human_proteome_with_genenames.tab\", sep=\"\\t\")\n",
    "cols = list(hp.columns)\n",
    "hp = hp[(hp[cols[0]].notnull()) & (hp[cols[2]].notnull())]\n",
    "g2p = {}\n",
    "up = pd.read_csv(\n",
    "    os.path.join(\n",
    "        \"..\", \"data\", \"other\", \"human_proteome_with_genenames.tab\"\n",
    "    ),\n",
    "    sep=\"\\t\",\n",
    ")\n",
    "for v in up[\n",
    "    [\"Entry\", \"Gene names\", \"Gene names  (primary )\", \"Gene names  (synonym )\"]\n",
    "].values:\n",
    "    p = v[0]\n",
    "    g = []\n",
    "    for x in v[1:]:\n",
    "        x = str(x)\n",
    "        if x == \"nan\":\n",
    "            continue\n",
    "        for y in x.split(\" \"):\n",
    "            g += [y]\n",
    "    for x in g:\n",
    "        g2p[x] = p\n",
    "\n",
    "gid2key = {}\n",
    "for r in df[[\"gid\", \"gene\"]].values:\n",
    "    if str(r[0]) == \"nan\" or str(r[1]) == \"nan\":\n",
    "        continue\n",
    "    if r[1] not in g2p:\n",
    "        continue\n",
    "    gid2key[r[0]] = g2p[r[1]]"
   ]
  },
  {
   "cell_type": "code",
   "execution_count": 37,
   "metadata": {},
   "outputs": [
    {
     "name": "stdout",
     "output_type": "stream",
     "text": [
      "Compounds:  859\n",
      "Genes:      1328\n",
      "Variants:   3960\n",
      "Pairs:      5686\n",
      "Triplets:   32668\n"
     ]
    }
   ],
   "source": [
    "# Filter to only consider PK relationships\n",
    "#df = df[df[\"phenotype\"].isin([\"Metabolism/PK\"])]#, \"Toxicity\", \"Dosage\"])]\n",
    "df = df[df[\"significance\"] != -1]\n",
    "df = df[df[\"evidence\"] != \"4\"]\n",
    "\n",
    "# Build a unique set of triplets\n",
    "triplets = set()\n",
    "for r in df[[\"cid\", \"chemical\", \"gid\", \"gene\", \"vid\", \"variant\"]].values:\n",
    "    r = tuple(r)\n",
    "    if r[0] not in cid2key:\n",
    "        ckey = None\n",
    "    else:\n",
    "        ckey = cid2key[r[0]]\n",
    "    if r[2] not in gid2key:\n",
    "        gkey = None\n",
    "    else:\n",
    "        gkey = gid2key[r[2]]\n",
    "    if gkey is None or ckey is None:\n",
    "        continue\n",
    "    triplets.update([(ckey, r[0], r[1], gkey, r[3], r[2], r[5], r[4])])\n",
    "triplets = list(triplets)\n",
    "triplets = list(set(triplets))\n",
    "\n",
    "dt = pd.DataFrame(triplets, columns=[\"inchikey\", \"cid\", \"chemical\", \"uniprot_ac\", \"gene\", \"gid\", \"variant\", \"vid\"])\n",
    "table_statistics(dt)"
   ]
  },
  {
   "cell_type": "code",
   "execution_count": 38,
   "metadata": {},
   "outputs": [],
   "source": [
    "from samplers import PositiveNegativeSampler\n",
    "\n",
    "ds = PositiveNegativeSampler(dt, 10).sample()"
   ]
  },
  {
   "cell_type": "code",
   "execution_count": 39,
   "metadata": {},
   "outputs": [],
   "source": [
    "from splitters import RandomPairSplitter\n",
    "\n",
    "ds_tr, ds_te = RandomPairSplitter().split(ds)"
   ]
  },
  {
   "cell_type": "code",
   "execution_count": 40,
   "metadata": {},
   "outputs": [],
   "source": [
    "from compound_structures import CompoundStructureEmbedding\n",
    "from protein_sequences import ProteinSequenceEmbedding\n",
    "from bioteque import BiotequeGeneEmbedding\n",
    "\n",
    "bge = BiotequeGeneEmbedding()\n",
    "pse = ProteinSequenceEmbedding()\n",
    "cse = CompoundStructureEmbedding()\n",
    "\n",
    "cemb_list = []\n",
    "for x in cse.available():\n",
    "    cemb_list += [(x, CompoundStructureEmbedding(x).get())]\n",
    "\n",
    "pemb_list = []\n",
    "for x in pse.available():\n",
    "    pemb_list += [(x, ProteinSequenceEmbedding(x).get())]\n",
    "\n",
    "for x in bge.available().values:\n",
    "    pemb_list += [(x, BiotequeGeneEmbedding(x[0], x[1]).get())]"
   ]
  },
  {
   "cell_type": "code",
   "execution_count": 41,
   "metadata": {},
   "outputs": [
    {
     "name": "stdout",
     "output_type": "stream",
     "text": [
      "Fitting: ersilia---esm1b\n",
      "ersilia---esm1b 10904 0.6768487510049374\n",
      "{\n",
      "    \"ersilia---esm1b\": {\n",
      "        \"auroc\": 0.6768487510049374,\n",
      "        \"n_eval\": 10904\n",
      "    },\n",
      "    \"average\": {\n",
      "        \"auroc\": 0.6768487510049374,\n",
      "        \"n_eval\": 10904\n",
      "    },\n",
      "    \"weighted_average\": {\n",
      "        \"auroc\": 0.6768487510049374,\n",
      "        \"n_eval\": 10904\n",
      "    }\n",
      "}\n"
     ]
    }
   ],
   "source": [
    "from bimodal_model import EnsembleBimodalStackedModel\n",
    "\n",
    "model = EnsembleBimodalStackedModel(cemb_list[:1], pemb_list[:1])\n",
    "model.fit(ds_tr)\n",
    "model.evaluate(ds_te)\n",
    "model_folder = model.model_folder\n",
    "model = load_ensemble_bimodal_stacked_model(model_folder)\n",
    "df = model.predict(ds_te)"
   ]
  },
  {
   "cell_type": "code",
   "execution_count": 33,
   "metadata": {},
   "outputs": [
    {
     "data": {
      "text/html": [
       "<div>\n",
       "<style scoped>\n",
       "    .dataframe tbody tr th:only-of-type {\n",
       "        vertical-align: middle;\n",
       "    }\n",
       "\n",
       "    .dataframe tbody tr th {\n",
       "        vertical-align: top;\n",
       "    }\n",
       "\n",
       "    .dataframe thead th {\n",
       "        text-align: right;\n",
       "    }\n",
       "</style>\n",
       "<table border=\"1\" class=\"dataframe\">\n",
       "  <thead>\n",
       "    <tr style=\"text-align: right;\">\n",
       "      <th></th>\n",
       "      <th>inchikey</th>\n",
       "      <th>cid</th>\n",
       "      <th>chemical</th>\n",
       "      <th>uniprot_ac</th>\n",
       "      <th>gene</th>\n",
       "      <th>gid</th>\n",
       "      <th>y</th>\n",
       "      <th>y_hat</th>\n",
       "    </tr>\n",
       "  </thead>\n",
       "  <tbody>\n",
       "    <tr>\n",
       "      <th>0</th>\n",
       "      <td>OEKWJQXRCDYSHL-FNOIDJSQSA-N</td>\n",
       "      <td>PA165374673</td>\n",
       "      <td>ticagrelor</td>\n",
       "      <td>P11509</td>\n",
       "      <td>CYP2A6</td>\n",
       "      <td>PA121</td>\n",
       "      <td>0</td>\n",
       "      <td>0.160000</td>\n",
       "    </tr>\n",
       "    <tr>\n",
       "      <th>1</th>\n",
       "      <td>NCDNCNXCDXHOMX-XGKFQTDJSA-N</td>\n",
       "      <td>PA451260</td>\n",
       "      <td>ritonavir</td>\n",
       "      <td>P05177</td>\n",
       "      <td>CYP1A2</td>\n",
       "      <td>PA27093</td>\n",
       "      <td>0</td>\n",
       "      <td>0.050000</td>\n",
       "    </tr>\n",
       "    <tr>\n",
       "      <th>2</th>\n",
       "      <td>WINHZLLDWRZWRT-ATVHPVEESA-N</td>\n",
       "      <td>PA162372840</td>\n",
       "      <td>sunitinib</td>\n",
       "      <td>P20813</td>\n",
       "      <td>CYP2B6</td>\n",
       "      <td>PA123</td>\n",
       "      <td>0</td>\n",
       "      <td>0.060000</td>\n",
       "    </tr>\n",
       "    <tr>\n",
       "      <th>3</th>\n",
       "      <td>BCEHBSKCWLPMDN-MGPLVRAMSA-N</td>\n",
       "      <td>PA10233</td>\n",
       "      <td>voriconazole</td>\n",
       "      <td>P11712</td>\n",
       "      <td>CYP2C9</td>\n",
       "      <td>PA126</td>\n",
       "      <td>1</td>\n",
       "      <td>0.336417</td>\n",
       "    </tr>\n",
       "    <tr>\n",
       "      <th>4</th>\n",
       "      <td>YASAKCUCGLMORW-UHFFFAOYSA-N</td>\n",
       "      <td>PA451283</td>\n",
       "      <td>rosiglitazone</td>\n",
       "      <td>O75469</td>\n",
       "      <td>NR1I2</td>\n",
       "      <td>PA378</td>\n",
       "      <td>0</td>\n",
       "      <td>0.040000</td>\n",
       "    </tr>\n",
       "    <tr>\n",
       "      <th>...</th>\n",
       "      <td>...</td>\n",
       "      <td>...</td>\n",
       "      <td>...</td>\n",
       "      <td>...</td>\n",
       "      <td>...</td>\n",
       "      <td>...</td>\n",
       "      <td>...</td>\n",
       "      <td>...</td>\n",
       "    </tr>\n",
       "    <tr>\n",
       "      <th>1651</th>\n",
       "      <td>OEKWJQXRCDYSHL-FNOIDJSQSA-N</td>\n",
       "      <td>PA165374673</td>\n",
       "      <td>ticagrelor</td>\n",
       "      <td>Q6N069</td>\n",
       "      <td>NAT2</td>\n",
       "      <td>PA18</td>\n",
       "      <td>0</td>\n",
       "      <td>0.130000</td>\n",
       "    </tr>\n",
       "    <tr>\n",
       "      <th>1652</th>\n",
       "      <td>RCINICONZNJXQF-MZXODVADSA-N</td>\n",
       "      <td>PA450761</td>\n",
       "      <td>paclitaxel</td>\n",
       "      <td>Q9HAW9</td>\n",
       "      <td>UGT1A8</td>\n",
       "      <td>PA37183</td>\n",
       "      <td>0</td>\n",
       "      <td>0.010000</td>\n",
       "    </tr>\n",
       "    <tr>\n",
       "      <th>1653</th>\n",
       "      <td>PMATZTZNYRCHOR-KMSBSJHKSA-N</td>\n",
       "      <td>PA449167</td>\n",
       "      <td>cyclosporine</td>\n",
       "      <td>P33527</td>\n",
       "      <td>ABCC1</td>\n",
       "      <td>PA244</td>\n",
       "      <td>0</td>\n",
       "      <td>NaN</td>\n",
       "    </tr>\n",
       "    <tr>\n",
       "      <th>1654</th>\n",
       "      <td>KTUFNOKKBVMGRW-UHFFFAOYSA-N</td>\n",
       "      <td>PA10804</td>\n",
       "      <td>imatinib</td>\n",
       "      <td>P19224</td>\n",
       "      <td>UGT1A6</td>\n",
       "      <td>PA37181</td>\n",
       "      <td>0</td>\n",
       "      <td>0.040000</td>\n",
       "    </tr>\n",
       "    <tr>\n",
       "      <th>1655</th>\n",
       "      <td>SEBFKMXJBCUCAI-HKTJVKLFSA-N</td>\n",
       "      <td>PA166129539</td>\n",
       "      <td>silibinin</td>\n",
       "      <td>O94956</td>\n",
       "      <td>SLCO2B1</td>\n",
       "      <td>PA35845</td>\n",
       "      <td>0</td>\n",
       "      <td>0.100000</td>\n",
       "    </tr>\n",
       "  </tbody>\n",
       "</table>\n",
       "<p>1656 rows × 8 columns</p>\n",
       "</div>"
      ],
      "text/plain": [
       "                         inchikey          cid       chemical uniprot_ac  \\\n",
       "0     OEKWJQXRCDYSHL-FNOIDJSQSA-N  PA165374673     ticagrelor     P11509   \n",
       "1     NCDNCNXCDXHOMX-XGKFQTDJSA-N     PA451260      ritonavir     P05177   \n",
       "2     WINHZLLDWRZWRT-ATVHPVEESA-N  PA162372840      sunitinib     P20813   \n",
       "3     BCEHBSKCWLPMDN-MGPLVRAMSA-N      PA10233   voriconazole     P11712   \n",
       "4     YASAKCUCGLMORW-UHFFFAOYSA-N     PA451283  rosiglitazone     O75469   \n",
       "...                           ...          ...            ...        ...   \n",
       "1651  OEKWJQXRCDYSHL-FNOIDJSQSA-N  PA165374673     ticagrelor     Q6N069   \n",
       "1652  RCINICONZNJXQF-MZXODVADSA-N     PA450761     paclitaxel     Q9HAW9   \n",
       "1653  PMATZTZNYRCHOR-KMSBSJHKSA-N     PA449167   cyclosporine     P33527   \n",
       "1654  KTUFNOKKBVMGRW-UHFFFAOYSA-N      PA10804       imatinib     P19224   \n",
       "1655  SEBFKMXJBCUCAI-HKTJVKLFSA-N  PA166129539      silibinin     O94956   \n",
       "\n",
       "         gene      gid  y     y_hat  \n",
       "0      CYP2A6    PA121  0  0.160000  \n",
       "1      CYP1A2  PA27093  0  0.050000  \n",
       "2      CYP2B6    PA123  0  0.060000  \n",
       "3      CYP2C9    PA126  1  0.336417  \n",
       "4       NR1I2    PA378  0  0.040000  \n",
       "...       ...      ... ..       ...  \n",
       "1651     NAT2     PA18  0  0.130000  \n",
       "1652   UGT1A8  PA37183  0  0.010000  \n",
       "1653    ABCC1    PA244  0       NaN  \n",
       "1654   UGT1A6  PA37181  0  0.040000  \n",
       "1655  SLCO2B1  PA35845  0  0.100000  \n",
       "\n",
       "[1656 rows x 8 columns]"
      ]
     },
     "execution_count": 33,
     "metadata": {},
     "output_type": "execute_result"
    }
   ],
   "source": [
    "df"
   ]
  },
  {
   "cell_type": "code",
   "execution_count": 31,
   "metadata": {},
   "outputs": [],
   "source": [
    "import matplotlib.pyplot as plt\n",
    "from sklearn.metrics import roc_curve\n",
    "\n",
    "fpr, tpr, _ = roc_curve(df[df[\"y_hat\"].notnull()][\"y\"], df[df[\"y_hat\"].notnull()][\"y_hat\"])"
   ]
  },
  {
   "cell_type": "code",
   "execution_count": 32,
   "metadata": {},
   "outputs": [
    {
     "data": {
      "text/plain": [
       "[<matplotlib.lines.Line2D at 0x3e3d98cd0>]"
      ]
     },
     "execution_count": 32,
     "metadata": {},
     "output_type": "execute_result"
    },
    {
     "data": {
      "image/png": "[encoded data removed]",
      "text/plain": [
       "<Figure size 640x480 with 1 Axes>"
      ]
     },
     "metadata": {},
     "output_type": "display_data"
    }
   ],
   "source": [
    "plt.plot(fpr, tpr)"
   ]
  },
  {
   "cell_type": "code",
   "execution_count": null,
   "metadata": {},
   "outputs": [],
   "source": []
  }
 ],
 "metadata": {
  "kernelspec": {
   "display_name": "biogpt",
   "language": "python",
   "name": "python3"
  },
  "language_info": {
   "codemirror_mode": {
    "name": "ipython",
    "version": 3
   },
   "file_extension": ".py",
   "mimetype": "text/x-python",
   "name": "python",
   "nbconvert_exporter": "python",
   "pygments_lexer": "ipython3",
   "version": "3.10.10"
  },
  "orig_nbformat": 4
 },
 "nbformat": 4,
 "nbformat_minor": 2
}
