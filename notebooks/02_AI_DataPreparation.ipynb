{
 "cells": [
  {
   "attachments": {},
   "cell_type": "markdown",
   "metadata": {},
   "source": [
    "# Prepare data for AI training\n",
    "\n",
    "This is an exploratory analysis of the PharmGKB data.\n",
    "\n",
    "* Only PK-related data is considered.\n",
    "* Only significant interactions are considered.\n",
    "* Only compounds with a valid smiles"
   ]
  },
  {
   "cell_type": "code",
   "execution_count": 75,
   "metadata": {},
   "outputs": [],
   "source": [
    "import pandas as pd\n",
    "import numpy as np\n",
    "import random\n",
    "from rdkit import Chem\n",
    "from tqdm import tqdm\n",
    "from sklearn.metrics import roc_auc_score\n",
    "import sys\n",
    "from lol import LOL\n",
    "\n",
    "sys.path.append(\"../src\")\n",
    "from compound_structures import CompoundStructureEmbedding\n",
    "from protein_sequences import ProteinSequenceEmbedding\n",
    "from bioteque import BiotequeGeneEmbedding"
   ]
  },
  {
   "cell_type": "code",
   "execution_count": 76,
   "metadata": {},
   "outputs": [
    {
     "name": "stdout",
     "output_type": "stream",
     "text": [
      "Compounds: 914\n",
      "Genes:     1825\n",
      "Variants:  6957\n"
     ]
    }
   ],
   "source": [
    "df = pd.read_csv(\"../data/pharmgkb_processed/final_tables/pgkb_merged.csv\", low_memory=False)\n",
    "print(\"Compounds:\", len(set(df[\"cid\"])))\n",
    "print(\"Genes:    \", len(set(df[\"gid\"])))\n",
    "print(\"Variants: \", len(set(df[\"vid\"])))"
   ]
  },
  {
   "cell_type": "code",
   "execution_count": 29,
   "metadata": {},
   "outputs": [
    {
     "name": "stderr",
     "output_type": "stream",
     "text": [
      "100%|██████████| 721/721 [00:00<00:00, 3603.67it/s]\n"
     ]
    }
   ],
   "source": [
    "cid2smi = {}\n",
    "\n",
    "for r in df[[\"cid\", \"smiles\"]].values:\n",
    "    if str(r[1]) != \"nan\":\n",
    "        cid2smi[r[0]] = r[1]\n",
    "\n",
    "cid2key = {}\n",
    "for k,v in tqdm(cid2smi.items()):\n",
    "    mol = Chem.MolFromSmiles(v)\n",
    "    inchi = Chem.rdinchi.MolToInchi(mol)[0]\n",
    "    inchikey = Chem.rdinchi.InchiToInchiKey(inchi)\n",
    "    cid2key[k] = inchikey"
   ]
  },
  {
   "cell_type": "code",
   "execution_count": 30,
   "metadata": {},
   "outputs": [],
   "source": [
    "hp = pd.read_csv(\"../data/other/human_proteome_with_genenames.tab\", sep=\"\\t\")\n",
    "cols = list(hp.columns)\n",
    "hp = hp[(hp[cols[0]].notnull()) & (hp[cols[2]].notnull())]\n",
    "g2p = {}\n",
    "for r in hp[[cols[0], cols[2]]].values:\n",
    "    for x in r[1].split(\" \"):\n",
    "        g2p[x] = r[0]\n",
    "\n",
    "gid2key = {}\n",
    "for r in df[[\"gid\", \"gene\"]].values:\n",
    "    if str(r[0]) == \"nan\" or str(r[1]) == \"nan\":\n",
    "        continue\n",
    "    if r[1] not in g2p:\n",
    "        continue\n",
    "    gid2key[r[0]] = g2p[r[1]]"
   ]
  },
  {
   "cell_type": "code",
   "execution_count": 80,
   "metadata": {},
   "outputs": [
    {
     "data": {
      "text/plain": [
       "phenotype\n",
       "Metabolism/PK    123239\n",
       "Toxicity          88571\n",
       "Efficacy          75688\n",
       "Dosage            34507\n",
       "Other             12819\n",
       "PD                  183\n",
       "Name: count, dtype: int64"
      ]
     },
     "execution_count": 80,
     "metadata": {},
     "output_type": "execute_result"
    }
   ],
   "source": [
    "df[\"phenotype\"].value_counts()"
   ]
  },
  {
   "cell_type": "code",
   "execution_count": 79,
   "metadata": {},
   "outputs": [
    {
     "data": {
      "text/plain": [
       "significance\n",
       " 1.0    127235\n",
       "-1.0     88453\n",
       " 0.0     29906\n",
       "Name: count, dtype: int64"
      ]
     },
     "execution_count": 79,
     "metadata": {},
     "output_type": "execute_result"
    }
   ],
   "source": [
    "df[\"significance\"].value_counts()"
   ]
  },
  {
   "cell_type": "code",
   "execution_count": 81,
   "metadata": {},
   "outputs": [],
   "source": [
    "df = df[df[\"phenotype\"].isin([\"Metabolism/PK\", \"Toxicity\", \"Dosage\"])]\n",
    "df = df[df[\"significance\"] != -1]\n",
    "df = df[df[\"evidence\"] != 4]"
   ]
  },
  {
   "cell_type": "code",
   "execution_count": 85,
   "metadata": {},
   "outputs": [
    {
     "data": {
      "text/plain": [
       "evidence\n",
       "3     38874\n",
       "1A    22841\n",
       "4      4378\n",
       "2A     1728\n",
       "1B     1431\n",
       "2B       60\n",
       "Name: count, dtype: int64"
      ]
     },
     "execution_count": 85,
     "metadata": {},
     "output_type": "execute_result"
    }
   ],
   "source": [
    "df[df[\"significance\"].isnull()].value_counts(\"evidence\")"
   ]
  },
  {
   "cell_type": "code",
   "execution_count": 34,
   "metadata": {},
   "outputs": [],
   "source": [
    "df = df[[\"cid\", \"gid\", \"vid\"]]\n",
    "df = df.drop_duplicates()"
   ]
  },
  {
   "cell_type": "code",
   "execution_count": 35,
   "metadata": {},
   "outputs": [
    {
     "data": {
      "text/plain": [
       "cid\n",
       "PA450401       351\n",
       "PA450688       342\n",
       "PA448497       332\n",
       "PA451103       319\n",
       "PA451363       310\n",
       "              ... \n",
       "PA166250364      1\n",
       "PA166256441      1\n",
       "PA166258723      1\n",
       "PA448018         1\n",
       "PA448360         1\n",
       "Name: count, Length: 658, dtype: int64"
      ]
     },
     "execution_count": 35,
     "metadata": {},
     "output_type": "execute_result"
    }
   ],
   "source": [
    "df.value_counts(\"cid\")"
   ]
  },
  {
   "cell_type": "code",
   "execution_count": 36,
   "metadata": {},
   "outputs": [],
   "source": [
    "triplets = set()\n",
    "for r in df[[\"cid\", \"gid\", \"vid\"]].values:\n",
    "    r = tuple(r)\n",
    "    if r[0] not in cid2key:\n",
    "        continue\n",
    "    if r[1] not in gid2key:\n",
    "        continue\n",
    "    triplets.update([(cid2key[r[0]], gid2key[r[1]], r[2])])\n",
    "triplets = list(triplets)\n",
    "random.shuffle(triplets)\n",
    "\n",
    "pairs = set()\n",
    "for r in df[[\"cid\", \"gid\"]].values:\n",
    "    r = tuple(r)\n",
    "    if r[0] not in cid2key:\n",
    "        continue\n",
    "    if r[1] not in gid2key:\n",
    "        continue\n",
    "    pairs.update([(cid2key[r[0]], gid2key[r[1]])])\n",
    "pairs = list(pairs)"
   ]
  },
  {
   "cell_type": "code",
   "execution_count": 37,
   "metadata": {},
   "outputs": [
    {
     "name": "stdout",
     "output_type": "stream",
     "text": [
      "Compound, Gene, Variant Triplets 23726\n",
      "Compound, Gene Pairs 2635\n"
     ]
    }
   ],
   "source": [
    "print(\"Compound, Gene, Variant Triplets\", len(triplets))\n",
    "print(\"Compound, Gene Pairs\", len(pairs))"
   ]
  },
  {
   "cell_type": "code",
   "execution_count": 38,
   "metadata": {},
   "outputs": [],
   "source": [
    "cemb = CompoundStructureEmbedding().get()\n",
    "pemb = ProteinSequenceEmbedding().get()"
   ]
  },
  {
   "cell_type": "code",
   "execution_count": 39,
   "metadata": {},
   "outputs": [],
   "source": [
    "class PairBalancer(object):\n",
    "\n",
    "    def __init__(self, pairs):\n",
    "        self.pairs = pairs\n",
    "\n",
    "    def balanced_positives_negatives(self):\n",
    "        x = list([x[0] for x in self.pairs])\n",
    "        y = list([y[1] for y in self.pairs])\n",
    "        random.shuffle(x)\n",
    "        rand_pairs = [(x_, y_) for x_, y_ in zip(x, y)]\n",
    "        all_pairs = self.pairs + rand_pairs\n",
    "        y = [1]*len(self.pairs) + [0]*(len(all_pairs)-len(self.pairs))\n",
    "        idxs = [i for i in range(len(y))]\n",
    "        random.shuffle(idxs)\n",
    "        all_pairs = [all_pairs[i] for i in idxs]\n",
    "        y = [y[i] for i in idxs]\n",
    "        return all_pairs, y\n",
    "\n",
    "all_pairs, y = PairBalancer(pairs).balanced_positives_negatives()"
   ]
  },
  {
   "cell_type": "code",
   "execution_count": 44,
   "metadata": {},
   "outputs": [],
   "source": [
    "class PairSplitter(object):\n",
    "\n",
    "    def __init__(self, pairs, y=None):\n",
    "        self.pairs = pairs\n",
    "        self.y = y\n",
    "\n",
    "    def random(self, test_size=0.2):\n",
    "        idxs = [i for i in range(len(self.pairs))]\n",
    "        random.shuffle(idxs)\n",
    "        all_pairs = [self.pairs[i] for i in idxs]\n",
    "        n = int(len(all_pairs)*(1-test_size))\n",
    "        m = len(all_pairs) - n\n",
    "        x_tr = all_pairs[:n]\n",
    "        x_te = all_pairs[-m:]\n",
    "        if self.y is not None:\n",
    "            y = [self.y[i] for i in idxs]\n",
    "            y_tr = y[:n]\n",
    "            y_te = y[-m:]\n",
    "            return x_tr, x_te, y_tr, y_te\n",
    "        else:\n",
    "            return x_tr, x_te\n",
    "\n",
    "    def leave_drugs_out(self, test_size=0.2):\n",
    "        uniq = list(set([x[0] for x in pairs]))\n",
    "        random.shuffle(uniq)\n",
    "        n = int(len(uniq)*(1-test_size))\n",
    "        u_tr = set(uniq[:n])\n",
    "        x_tr = []\n",
    "        x_te = []\n",
    "        y_tr = []\n",
    "        y_te = []\n",
    "        idxs = [i for i in range(len(self.pairs))]\n",
    "        random.shuffle(idxs)\n",
    "        all_pairs = [self.pairs[i] for i in idxs]\n",
    "        if self.y is not None:\n",
    "            y = [self.y[i] for i in idxs]\n",
    "        else:\n",
    "            y = None\n",
    "        for i, p in enumerate(all_pairs):\n",
    "            if p[0] in u_tr:\n",
    "                x_tr += [p]\n",
    "                if y is not None:\n",
    "                    y_tr += [y[i]]\n",
    "            else:\n",
    "                x_te += [p]\n",
    "                if y is not None:\n",
    "                    y_te += [y[i]]\n",
    "        if self.y is not None:\n",
    "            return x_tr, x_te, y_tr, y_te\n",
    "        else:\n",
    "            return x_tr, x_te\n",
    "        \n",
    "    def leave_genes_out(self, test_size=0.2):\n",
    "        uniq = list(set([x[1] for x in pairs]))\n",
    "        random.shuffle(uniq)\n",
    "        n = int(len(uniq)*(1-test_size))\n",
    "        u_tr = set(uniq[:n])\n",
    "        x_tr = []\n",
    "        x_te = []\n",
    "        y_tr = []\n",
    "        y_te = []\n",
    "        idxs = [i for i in range(len(self.pairs))]\n",
    "        random.shuffle(idxs)\n",
    "        all_pairs = [self.pairs[i] for i in idxs]\n",
    "        if self.y is not None:\n",
    "            y = [self.y[i] for i in idxs]\n",
    "        else:\n",
    "            y = None\n",
    "        for i, p in enumerate(all_pairs):\n",
    "            if p[1] in u_tr:\n",
    "                x_tr += [p]\n",
    "                if y is not None:\n",
    "                    y_tr += [y[i]]\n",
    "            else:\n",
    "                x_te += [p]\n",
    "                if y is not None:\n",
    "                    y_te += [y[i]]\n",
    "        if self.y is not None:\n",
    "            return x_tr, x_te, y_tr, y_te\n",
    "        else:\n",
    "            return x_tr, x_te\n",
    "\n",
    "    def leave_my_drugs_out(self, interest_list):\n",
    "        pass\n",
    "\n",
    "    def leave_my_targets_out(self, interest_list):\n",
    "        pass\n",
    "\n",
    "\n",
    "pairs_tr, pairs_te, y_tr, y_te = PairSplitter(all_pairs, y).leave_drugs_out(0.2)\n"
   ]
  },
  {
   "cell_type": "code",
   "execution_count": 45,
   "metadata": {},
   "outputs": [
    {
     "data": {
      "text/plain": [
       "0.5242395357430798"
      ]
     },
     "execution_count": 45,
     "metadata": {},
     "output_type": "execute_result"
    }
   ],
   "source": [
    "\n",
    "from sklearn.ensemble import RandomForestClassifier\n",
    "\n",
    "\n",
    "class BimodalStackedModel(object):\n",
    "\n",
    "    def __init__(self, df_A, df_B):\n",
    "        self.dict_A = dict((r[0], r[1:]) for r in df_A.values)\n",
    "        self.dict_B = dict((r[0], r[1:]) for r in df_B.values)\n",
    "        self.reducer = LOL(n_components=100)\n",
    "        self.model = RandomForestClassifier()\n",
    "\n",
    "    def fit(self, pairs, y):\n",
    "        y = np.array(y)\n",
    "        A = []\n",
    "        B = []\n",
    "        y_ = []\n",
    "        for i, t in enumerate(pairs):\n",
    "            if t[0] not in self.dict_A:\n",
    "                continue\n",
    "            if t[1] not in self.dict_B:\n",
    "                continue\n",
    "            A += [self.dict_A[t[0]]]\n",
    "            B += [self.dict_B[t[1]]]\n",
    "            y_ += [y[i]]\n",
    "        A = np.array(A)\n",
    "        B = np.array(B)\n",
    "        X = np.hstack([A, B])\n",
    "        y = np.array(y_).astype(int)\n",
    "        self.reducer.fit(X, y)\n",
    "        X = self.reducer.transform(X)\n",
    "        self.model.fit(X, y)\n",
    "\n",
    "    def predict(self, pairs):\n",
    "        A = []\n",
    "        B = []\n",
    "        idxs = []\n",
    "        for i, t in enumerate(pairs):\n",
    "            if t[0] not in self.dict_A:\n",
    "                continue\n",
    "            if t[1] not in self.dict_B:\n",
    "                continue\n",
    "            A += [self.dict_A[t[0]]]\n",
    "            B += [self.dict_B[t[1]]]\n",
    "            idxs += [i]\n",
    "        A = np.array(A)\n",
    "        B = np.array(B)\n",
    "        X = np.hstack([A, B])\n",
    "        X = self.reducer.transform(X)\n",
    "        y_ = self.model.predict_proba(X)[:,1]\n",
    "        y_hat = np.full((len(pairs),), np.nan)\n",
    "        y_hat[idxs] = y_\n",
    "        return y_hat\n",
    "    \n",
    "    def evaluate(self, pairs, y):\n",
    "        y_hat = self.predict(pairs)\n",
    "        idxs = [i for i in range(len(y_hat)) if not np.isnan(y_hat[i])]\n",
    "        y_hat = [y_hat[i] for i in idxs]\n",
    "        y = [y[i] for i in idxs]\n",
    "        return roc_auc_score(y, y_hat)\n",
    "    \n",
    "mdl = BimodalStackedModel(cemb, pemb)\n",
    "\n",
    "mdl.fit(pairs_tr, y_tr)\n",
    "mdl.evaluate(pairs_te, y_te)"
   ]
  },
  {
   "cell_type": "code",
   "execution_count": 46,
   "metadata": {},
   "outputs": [],
   "source": [
    "bge = BiotequeGeneEmbedding()\n",
    "pse = ProteinSequenceEmbedding()\n",
    "cse = CompoundStructureEmbedding()"
   ]
  },
  {
   "cell_type": "code",
   "execution_count": 50,
   "metadata": {},
   "outputs": [],
   "source": [
    "cemb_list = []\n",
    "for x in cse.available():\n",
    "    cemb_list += [(x, CompoundStructureEmbedding(x).get())]\n",
    "\n",
    "pemb_list = []\n",
    "for x in pse.available():\n",
    "    pemb_list += [(x, ProteinSequenceEmbedding(x).get())]\n",
    "\n",
    "for x in bge.available().values:\n",
    "    pemb_list += [(x, BiotequeGeneEmbedding(x[0], x[1]).get())]"
   ]
  },
  {
   "cell_type": "code",
   "execution_count": 51,
   "metadata": {},
   "outputs": [
    {
     "name": "stdout",
     "output_type": "stream",
     "text": [
      "ersilia esm1b 0.5426716608438591\n",
      "ersilia prot5 0.5580867038430529\n",
      "ersilia ['GEN-pdf-TIS' 'hpa_proteome'] 0.5062456883808022\n",
      "ersilia ['GEN-has-DOM' 'interpro'] 0.5416626851409461\n",
      "ersilia ['GEN-pab-TIS' 'hpa_proteome'] 0.5321522839905193\n",
      "ersilia ['GEN-has-MFN' 'gomf_goa_curated'] 0.5180914264873839\n",
      "ersilia ['GEN-ppi-GEN' 'string'] 0.5547526651500959\n",
      "ersilia ['GEN-ass-DIS' 'opentargets'] 0.5194402547343724\n",
      "signaturizer esm1b 0.6007481567909134\n",
      "signaturizer prot5 0.5620125375855738\n",
      "signaturizer ['GEN-pdf-TIS' 'hpa_proteome'] 0.5954956171581507\n",
      "signaturizer ['GEN-has-DOM' 'interpro'] 0.596139923027093\n",
      "signaturizer ['GEN-pab-TIS' 'hpa_proteome'] 0.5775480356376127\n",
      "signaturizer ['GEN-has-MFN' 'gomf_goa_curated'] 0.6425680840898232\n",
      "signaturizer ['GEN-ppi-GEN' 'string'] 0.6339556183318675\n",
      "signaturizer ['GEN-ass-DIS' 'opentargets'] 0.6289106545628286\n",
      "grover esm1b 0.5318039820843841\n",
      "grover prot5 0.5387878939950904\n",
      "grover ['GEN-pdf-TIS' 'hpa_proteome'] 0.5310604758514007\n",
      "grover ['GEN-has-DOM' 'interpro'] 0.5455359524444614\n",
      "grover ['GEN-pab-TIS' 'hpa_proteome'] 0.5565894697294976\n",
      "grover ['GEN-has-MFN' 'gomf_goa_curated'] 0.561741519350215\n",
      "grover ['GEN-ppi-GEN' 'string'] 0.5403974451225471\n",
      "grover ['GEN-ass-DIS' 'opentargets'] 0.5446010511227902\n"
     ]
    }
   ],
   "source": [
    "for cemb in cemb_list:\n",
    "    for pemb in pemb_list:\n",
    "        model = BimodalStackedModel(cemb[1], pemb[1])\n",
    "        model.fit(pairs_tr, y_tr)\n",
    "        print(cemb[0], pemb[0], model.evaluate(pairs_te, y_te))"
   ]
  },
  {
   "cell_type": "code",
   "execution_count": 52,
   "metadata": {},
   "outputs": [],
   "source": [
    "df = pd.read_csv(\"../data/pharmgkb_processed/final_tables/pgkb_merged.csv\", low_memory=False)"
   ]
  },
  {
   "cell_type": "code",
   "execution_count": 73,
   "metadata": {},
   "outputs": [
    {
     "name": "stdout",
     "output_type": "stream",
     "text": [
      "['ABCB1', 'APOB', 'APOC1', 'APOE', 'ASPH', 'CACNA1C', 'CALU', 'CRP', 'CYP1A1', 'CYP1A2', 'CYP2A6', 'CYP2C18', 'CYP2C19', 'CYP2C9', 'CYP3A4', 'CYP4F11', 'CYP4F2', 'DDHD1', 'DNMT3A', 'EPHA7', 'EPHX1', 'F11', 'F13A1', 'F2', 'F5', 'F7', 'FGFBP2', 'FPGS', 'GATA4', 'GGCX', 'HNF4A', 'LRP1', 'MIR133B', 'MPZ', 'MYC', 'NEDD4', 'NQO1', 'NR1I2', 'NR1I3', 'OPN1SW', 'ORM1', 'ORM2', 'POR', 'PROC', 'PROCR', 'PROS1', 'PRSS53', 'SLC15A2', 'SLCO1B3', 'STX1B', 'STX4', 'THBD', 'UGT1A1', 'VDR', 'VEGFA', 'VKORC1', 'VKORC1L1', 'nan']\n"
     ]
    }
   ],
   "source": [
    "print(sorted([str(x) for x in list(set(df[df[\"chemical\"] == \"warfarin\"][\"gene\"]))]))"
   ]
  },
  {
   "attachments": {},
   "cell_type": "markdown",
   "metadata": {},
   "source": []
  },
  {
   "cell_type": "code",
   "execution_count": 59,
   "metadata": {},
   "outputs": [],
   "source": [
    "dg = pd.read_csv(\"../data/pharmgkb_processed/gene.csv\")"
   ]
  },
  {
   "cell_type": "code",
   "execution_count": 62,
   "metadata": {},
   "outputs": [
    {
     "data": {
      "text/html": [
       "<div>\n",
       "<style scoped>\n",
       "    .dataframe tbody tr th:only-of-type {\n",
       "        vertical-align: middle;\n",
       "    }\n",
       "\n",
       "    .dataframe tbody tr th {\n",
       "        vertical-align: top;\n",
       "    }\n",
       "\n",
       "    .dataframe thead th {\n",
       "        text-align: right;\n",
       "    }\n",
       "</style>\n",
       "<table border=\"1\" class=\"dataframe\">\n",
       "  <thead>\n",
       "    <tr style=\"text-align: right;\">\n",
       "      <th></th>\n",
       "      <th>gid</th>\n",
       "      <th>gene</th>\n",
       "      <th>hgnc_id</th>\n",
       "      <th>ensembl_id</th>\n",
       "      <th>vip</th>\n",
       "      <th>variant_annotation</th>\n",
       "      <th>dosing_guideline</th>\n",
       "    </tr>\n",
       "  </thead>\n",
       "  <tbody>\n",
       "    <tr>\n",
       "      <th>4256</th>\n",
       "      <td>PA134979668</td>\n",
       "      <td>CYB5R1</td>\n",
       "      <td>HGNC:13397</td>\n",
       "      <td>ENSG00000159348</td>\n",
       "      <td>-1</td>\n",
       "      <td>-1</td>\n",
       "      <td>-1</td>\n",
       "    </tr>\n",
       "  </tbody>\n",
       "</table>\n",
       "</div>"
      ],
      "text/plain": [
       "              gid    gene     hgnc_id       ensembl_id  vip  \\\n",
       "4256  PA134979668  CYB5R1  HGNC:13397  ENSG00000159348   -1   \n",
       "\n",
       "      variant_annotation  dosing_guideline  \n",
       "4256                  -1                -1  "
      ]
     },
     "execution_count": 62,
     "metadata": {},
     "output_type": "execute_result"
    }
   ],
   "source": [
    "dg[dg[\"gene\"] == \"CYB5R1\"]"
   ]
  },
  {
   "cell_type": "code",
   "execution_count": 63,
   "metadata": {},
   "outputs": [],
   "source": [
    "d = pd.read_csv(\"../data/pharmgkb_processed/drug_labels.csv\")"
   ]
  },
  {
   "cell_type": "code",
   "execution_count": 65,
   "metadata": {},
   "outputs": [
    {
     "data": {
      "text/html": [
       "<div>\n",
       "<style scoped>\n",
       "    .dataframe tbody tr th:only-of-type {\n",
       "        vertical-align: middle;\n",
       "    }\n",
       "\n",
       "    .dataframe tbody tr th {\n",
       "        vertical-align: top;\n",
       "    }\n",
       "\n",
       "    .dataframe thead th {\n",
       "        text-align: right;\n",
       "    }\n",
       "</style>\n",
       "<table border=\"1\" class=\"dataframe\">\n",
       "  <thead>\n",
       "    <tr style=\"text-align: right;\">\n",
       "      <th></th>\n",
       "      <th>dlid</th>\n",
       "      <th>source</th>\n",
       "      <th>drug_label</th>\n",
       "      <th>prescribing_guideline</th>\n",
       "      <th>dosing_guideline</th>\n",
       "      <th>chemical</th>\n",
       "      <th>gene</th>\n",
       "      <th>variant</th>\n",
       "      <th>haplotype</th>\n",
       "    </tr>\n",
       "  </thead>\n",
       "  <tbody>\n",
       "    <tr>\n",
       "      <th>321</th>\n",
       "      <td>PA166105195</td>\n",
       "      <td>FDA</td>\n",
       "      <td>3</td>\n",
       "      <td>-1</td>\n",
       "      <td>-1</td>\n",
       "      <td>metoclopramide</td>\n",
       "      <td>CYB5R1</td>\n",
       "      <td>NaN</td>\n",
       "      <td>NaN</td>\n",
       "    </tr>\n",
       "    <tr>\n",
       "      <th>442</th>\n",
       "      <td>PA166127702</td>\n",
       "      <td>HCSC</td>\n",
       "      <td>3</td>\n",
       "      <td>-1</td>\n",
       "      <td>-1</td>\n",
       "      <td>primaquine</td>\n",
       "      <td>CYB5R1</td>\n",
       "      <td>NaN</td>\n",
       "      <td>NaN</td>\n",
       "    </tr>\n",
       "    <tr>\n",
       "      <th>461</th>\n",
       "      <td>PA166104783</td>\n",
       "      <td>FDA</td>\n",
       "      <td>4</td>\n",
       "      <td>-1</td>\n",
       "      <td>-1</td>\n",
       "      <td>rasburicase</td>\n",
       "      <td>CYB5R1</td>\n",
       "      <td>NaN</td>\n",
       "      <td>NaN</td>\n",
       "    </tr>\n",
       "    <tr>\n",
       "      <th>785</th>\n",
       "      <td>PA166163431</td>\n",
       "      <td>FDA</td>\n",
       "      <td>4</td>\n",
       "      <td>-1</td>\n",
       "      <td>-1</td>\n",
       "      <td>isosorbide mononitrate</td>\n",
       "      <td>CYB5R1</td>\n",
       "      <td>NaN</td>\n",
       "      <td>NaN</td>\n",
       "    </tr>\n",
       "    <tr>\n",
       "      <th>809</th>\n",
       "      <td>PA166170934</td>\n",
       "      <td>FDA</td>\n",
       "      <td>3</td>\n",
       "      <td>-1</td>\n",
       "      <td>-1</td>\n",
       "      <td>primaquine</td>\n",
       "      <td>CYB5R1</td>\n",
       "      <td>NaN</td>\n",
       "      <td>NaN</td>\n",
       "    </tr>\n",
       "    <tr>\n",
       "      <th>1012</th>\n",
       "      <td>PA166163430</td>\n",
       "      <td>FDA</td>\n",
       "      <td>4</td>\n",
       "      <td>-1</td>\n",
       "      <td>-1</td>\n",
       "      <td>isosorbide dinitrate</td>\n",
       "      <td>CYB5R1</td>\n",
       "      <td>NaN</td>\n",
       "      <td>NaN</td>\n",
       "    </tr>\n",
       "  </tbody>\n",
       "</table>\n",
       "</div>"
      ],
      "text/plain": [
       "             dlid source  drug_label  prescribing_guideline  dosing_guideline  \\\n",
       "321   PA166105195    FDA           3                     -1                -1   \n",
       "442   PA166127702   HCSC           3                     -1                -1   \n",
       "461   PA166104783    FDA           4                     -1                -1   \n",
       "785   PA166163431    FDA           4                     -1                -1   \n",
       "809   PA166170934    FDA           3                     -1                -1   \n",
       "1012  PA166163430    FDA           4                     -1                -1   \n",
       "\n",
       "                    chemical    gene variant haplotype  \n",
       "321           metoclopramide  CYB5R1     NaN       NaN  \n",
       "442               primaquine  CYB5R1     NaN       NaN  \n",
       "461              rasburicase  CYB5R1     NaN       NaN  \n",
       "785   isosorbide mononitrate  CYB5R1     NaN       NaN  \n",
       "809               primaquine  CYB5R1     NaN       NaN  \n",
       "1012    isosorbide dinitrate  CYB5R1     NaN       NaN  "
      ]
     },
     "execution_count": 65,
     "metadata": {},
     "output_type": "execute_result"
    }
   ],
   "source": [
    "d[d[\"gene\"] == \"CYB5R1\"]"
   ]
  },
  {
   "cell_type": "code",
   "execution_count": null,
   "metadata": {},
   "outputs": [],
   "source": []
  }
 ],
 "metadata": {
  "kernelspec": {
   "display_name": "biogpt",
   "language": "python",
   "name": "python3"
  },
  "language_info": {
   "codemirror_mode": {
    "name": "ipython",
    "version": 3
   },
   "file_extension": ".py",
   "mimetype": "text/x-python",
   "name": "python",
   "nbconvert_exporter": "python",
   "pygments_lexer": "ipython3",
   "version": "3.10.10"
  },
  "orig_nbformat": 4
 },
 "nbformat": 4,
 "nbformat_minor": 2
}
