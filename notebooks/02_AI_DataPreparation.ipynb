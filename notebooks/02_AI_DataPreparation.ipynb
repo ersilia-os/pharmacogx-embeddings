{
 "cells": [
  {
   "attachments": {},
   "cell_type": "markdown",
   "metadata": {},
   "source": [
    "# Prepare data for AI training\n",
    "\n",
    "This is an exploratory analysis of the PharmGKB data.\n",
    "\n",
    "* Only PK-related data is considered.\n",
    "* Only significant interactions are considered.\n",
    "* Only compounds with a valid smiles are considered."
   ]
  },
  {
   "cell_type": "code",
   "execution_count": 1,
   "metadata": {},
   "outputs": [],
   "source": [
    "import pandas as pd\n",
    "import numpy as np\n",
    "import random\n",
    "from rdkit import Chem\n",
    "from tqdm import tqdm\n",
    "from sklearn.metrics import roc_auc_score\n",
    "import sys\n",
    "from lol import LOL\n",
    "from rdkit import RDLogger\n",
    "\n",
    "RDLogger.DisableLog(\"rdApp.*\")\n",
    "\n",
    "sys.path.append(\"../src\")\n",
    "from compound_structures import CompoundStructureEmbedding\n",
    "from protein_sequences import ProteinSequenceEmbedding\n",
    "from bioteque import BiotequeGeneEmbedding"
   ]
  },
  {
   "cell_type": "code",
   "execution_count": 2,
   "metadata": {},
   "outputs": [
    {
     "name": "stdout",
     "output_type": "stream",
     "text": [
      "Compounds: 1190\n",
      "Genes:     1949\n",
      "Variants:  6986\n"
     ]
    }
   ],
   "source": [
    "df = pd.read_csv(\n",
    "    \"../data/pharmgkb_processed/final_tables/pgkb_merged.csv\", low_memory=False\n",
    ")\n",
    "print(\"Compounds:\", len(set(df[\"cid\"])))\n",
    "print(\"Genes:    \", len(set(df[\"gid\"])))\n",
    "print(\"Variants: \", len(set(df[\"vid\"])))"
   ]
  },
  {
   "cell_type": "code",
   "execution_count": 3,
   "metadata": {},
   "outputs": [
    {
     "name": "stdout",
     "output_type": "stream",
     "text": [
      "Genes\n",
      "G6PD\n",
      "             cid     chemical  \\\n",
      "308372  PA449415  doxycycline   \n",
      "308373  PA449415  doxycycline   \n",
      "\n",
      "                                                   smiles      gid  gene  \\\n",
      "308372  C[C@@H]1[C@H]2[C@@H]([C@H]3[C@@H](C(=O)/C(=C(\\...  PA28469  G6PD   \n",
      "308373  C[C@@H]1[C@H]2[C@@H]([C@H]3[C@@H](C(=O)/C(=C(\\...  PA28469  G6PD   \n",
      "\n",
      "             ensembl_id          vid    variant evidence  significance  \\\n",
      "308372  ENSG00000160211  PA166157860  rs1050829      NaN           0.0   \n",
      "308373  ENSG00000160211  PA166157859  rs1050828      NaN           0.0   \n",
      "\n",
      "       phenotype  did disease biogroup  caid          vaid  \n",
      "308372  Toxicity  NaN     NaN  Unknown   NaN  1.183705e+09  \n",
      "308373  Toxicity  NaN     NaN  Unknown   NaN  1.183705e+09  \n",
      "2\n"
     ]
    }
   ],
   "source": [
    "mychem = \"doxycycline\"\n",
    "\n",
    "\n",
    "def mini_chemical_report(chemical):\n",
    "    print(\"Genes\")\n",
    "    df_ = df[df[\"chemical\"] == chemical]\n",
    "    df_ = df_[df_[\"gene\"].notnull()]\n",
    "    gns = sorted(set(df_[\"gene\"]))\n",
    "    for gn in gns:\n",
    "        print(gn)\n",
    "    print(df_.head(5))\n",
    "    print(df_.shape[0])\n",
    "\n",
    "\n",
    "mini_chemical_report(mychem)"
   ]
  },
  {
   "cell_type": "code",
   "execution_count": 4,
   "metadata": {},
   "outputs": [
    {
     "name": "stderr",
     "output_type": "stream",
     "text": [
      "100%|██████████| 904/904 [00:00<00:00, 3130.60it/s]\n"
     ]
    }
   ],
   "source": [
    "cid2smi = {}\n",
    "\n",
    "for r in df[[\"cid\", \"smiles\"]].values:\n",
    "    if str(r[1]) != \"nan\":\n",
    "        cid2smi[r[0]] = r[1]\n",
    "\n",
    "cid2key = {}\n",
    "for k, v in tqdm(cid2smi.items()):\n",
    "    mol = Chem.MolFromSmiles(v)\n",
    "    inchi = Chem.rdinchi.MolToInchi(mol)[0]\n",
    "    inchikey = Chem.rdinchi.InchiToInchiKey(inchi)\n",
    "    cid2key[k] = inchikey"
   ]
  },
  {
   "cell_type": "code",
   "execution_count": 5,
   "metadata": {},
   "outputs": [],
   "source": [
    "hp = pd.read_csv(\"../data/other/human_proteome_with_genenames.tab\", sep=\"\\t\")\n",
    "cols = list(hp.columns)\n",
    "hp = hp[(hp[cols[0]].notnull()) & (hp[cols[2]].notnull())]\n",
    "g2p = {}\n",
    "for r in hp[[cols[0], cols[2]]].values:\n",
    "    for x in r[1].split(\" \"):\n",
    "        g2p[x] = r[0]\n",
    "\n",
    "gid2key = {}\n",
    "for r in df[[\"gid\", \"gene\"]].values:\n",
    "    if str(r[0]) == \"nan\" or str(r[1]) == \"nan\":\n",
    "        continue\n",
    "    if r[1] not in g2p:\n",
    "        continue\n",
    "    gid2key[r[0]] = g2p[r[1]]"
   ]
  },
  {
   "cell_type": "code",
   "execution_count": 6,
   "metadata": {},
   "outputs": [
    {
     "name": "stdout",
     "output_type": "stream",
     "text": [
      "{'SLC26A9', 'CFTR'}\n"
     ]
    }
   ],
   "source": [
    "mychem = \"ivacaftor\"\n",
    "\n",
    "print(set(df[df[\"chemical\"] == mychem][\"gene\"]))"
   ]
  },
  {
   "cell_type": "code",
   "execution_count": 7,
   "metadata": {},
   "outputs": [
    {
     "name": "stdout",
     "output_type": "stream",
     "text": [
      "{'PA166164940', 'PA166178065', 'PA166157530', 'PA166157511', 'PA166164956', 'PA166178032', 'PA166164952', 'PA166162981', 'PA166157519', 'PA166157516', 'PA166164945', 'PA166157532', 'PA166178049', 'PA166157521', 'PA166178021', 'PA166178058', 'PA166164955', 'PA166178067', 'PA166178025', 'PA166157525', 'PA166157533', 'PA166178060', 'PA166178088', 'PA166164950', 'PA166164944', 'PA166164943', 'PA166164957', 'PA166164953', 'PA166164959', 'PA166164941', 'PA166157534', 'PA166178052', 'PA166164947', 'PA166157518', 'PA166161186', 'PA166157529', 'PA166164942', 'PA166178193', 'PA166178138', 'PA166164946', 'PA166164949', 'PA166164958', 'PA166164939', 'PA166178063', 'PA166157531', 'PA166157537', 'PA166162705', 'PA166164951', 'PA166164948', 'PA166161188', 'PA166162695', nan}\n"
     ]
    }
   ],
   "source": [
    "mychem = \"ivacaftor\"\n",
    "\n",
    "print(set(df[df[\"chemical\"] == mychem][\"vid\"]))"
   ]
  },
  {
   "cell_type": "code",
   "execution_count": 8,
   "metadata": {},
   "outputs": [
    {
     "data": {
      "text/plain": [
       "Metabolism/PK    123239\n",
       "Toxicity          88571\n",
       "Efficacy          75688\n",
       "Dosage            34507\n",
       "Other             12819\n",
       "PD                  183\n",
       "Name: phenotype, dtype: int64"
      ]
     },
     "execution_count": 8,
     "metadata": {},
     "output_type": "execute_result"
    }
   ],
   "source": [
    "df[\"phenotype\"].value_counts()"
   ]
  },
  {
   "cell_type": "code",
   "execution_count": 9,
   "metadata": {},
   "outputs": [
    {
     "data": {
      "text/plain": [
       " 1.0    128558\n",
       "-1.0     88453\n",
       " 0.0     29906\n",
       "Name: significance, dtype: int64"
      ]
     },
     "execution_count": 9,
     "metadata": {},
     "output_type": "execute_result"
    }
   ],
   "source": [
    "df[\"significance\"].value_counts()"
   ]
  },
  {
   "cell_type": "code",
   "execution_count": 10,
   "metadata": {},
   "outputs": [],
   "source": [
    "df = df[df[\"phenotype\"].isin([\"Metabolism/PK\"])]  # , \"Toxicity\", \"Dosage\"])]\n",
    "df = df[df[\"significance\"] != -1]\n",
    "df = df[df[\"evidence\"] != \"4\"]"
   ]
  },
  {
   "cell_type": "code",
   "execution_count": 11,
   "metadata": {},
   "outputs": [
    {
     "data": {
      "text/plain": [
       "evidence\n",
       "3     13618\n",
       "1A    11969\n",
       "2A      974\n",
       "1B      461\n",
       "2B        2\n",
       "dtype: int64"
      ]
     },
     "execution_count": 11,
     "metadata": {},
     "output_type": "execute_result"
    }
   ],
   "source": [
    "df[df[\"significance\"].isnull()].value_counts(\"evidence\")"
   ]
  },
  {
   "cell_type": "code",
   "execution_count": 12,
   "metadata": {},
   "outputs": [],
   "source": [
    "df = df[[\"cid\", \"gid\", \"vid\"]]\n",
    "df = df.drop_duplicates()"
   ]
  },
  {
   "cell_type": "code",
   "execution_count": 13,
   "metadata": {},
   "outputs": [],
   "source": [
    "triplets = set()\n",
    "for r in df[[\"cid\", \"gid\", \"vid\"]].values:\n",
    "    r = tuple(r)\n",
    "    if r[0] not in cid2key:\n",
    "        continue\n",
    "    if r[1] not in gid2key:\n",
    "        continue\n",
    "    triplets.update([(cid2key[r[0]], gid2key[r[1]], r[2])])\n",
    "triplets = list(triplets)\n",
    "\n",
    "pairs = set()\n",
    "for r in df[[\"cid\", \"gid\"]].values:\n",
    "    r = tuple(r)\n",
    "    if r[0] not in cid2key:\n",
    "        continue\n",
    "    if r[1] not in gid2key:\n",
    "        continue\n",
    "    pairs.update([(cid2key[r[0]], gid2key[r[1]])])\n",
    "pairs = list(pairs)"
   ]
  },
  {
   "cell_type": "code",
   "execution_count": 14,
   "metadata": {},
   "outputs": [
    {
     "name": "stdout",
     "output_type": "stream",
     "text": [
      "Compound, Gene, Variant Triplets 16291\n",
      "Compound, Gene Pairs 882\n"
     ]
    }
   ],
   "source": [
    "print(\"Compound, Gene, Variant Triplets\", len(triplets))\n",
    "print(\"Compound, Gene Pairs\", len(pairs))"
   ]
  },
  {
   "cell_type": "code",
   "execution_count": 15,
   "metadata": {},
   "outputs": [],
   "source": [
    "cemb = CompoundStructureEmbedding().get()\n",
    "pemb = ProteinSequenceEmbedding().get()"
   ]
  },
  {
   "cell_type": "code",
   "execution_count": 16,
   "metadata": {},
   "outputs": [
    {
     "name": "stdout",
     "output_type": "stream",
     "text": [
      "1764\n"
     ]
    }
   ],
   "source": [
    "class PairBalancer(object):\n",
    "    def __init__(self, pairs):\n",
    "        self.pairs = pairs\n",
    "\n",
    "    def balanced_positives_negatives(self):\n",
    "        x = list([x[0] for x in self.pairs])\n",
    "        y = list([y[1] for y in self.pairs])\n",
    "        random.shuffle(x)\n",
    "        rand_pairs = [(x_, y_) for x_, y_ in zip(x, y)]\n",
    "        all_pairs = self.pairs + rand_pairs\n",
    "        y = [1] * len(self.pairs) + [0] * (len(all_pairs) - len(self.pairs))\n",
    "        idxs = [i for i in range(len(y))]\n",
    "        random.shuffle(idxs)\n",
    "        all_pairs = [all_pairs[i] for i in idxs]\n",
    "        y = [y[i] for i in idxs]\n",
    "        return all_pairs, y\n",
    "\n",
    "\n",
    "all_pairs, y = PairBalancer(pairs).balanced_positives_negatives()\n",
    "print(len(all_pairs))"
   ]
  },
  {
   "cell_type": "code",
   "execution_count": 21,
   "metadata": {},
   "outputs": [
    {
     "data": {
      "text/html": [
       "<div>\n",
       "<style scoped>\n",
       "    .dataframe tbody tr th:only-of-type {\n",
       "        vertical-align: middle;\n",
       "    }\n",
       "\n",
       "    .dataframe tbody tr th {\n",
       "        vertical-align: top;\n",
       "    }\n",
       "\n",
       "    .dataframe thead th {\n",
       "        text-align: right;\n",
       "    }\n",
       "</style>\n",
       "<table border=\"1\" class=\"dataframe\">\n",
       "  <thead>\n",
       "    <tr style=\"text-align: right;\">\n",
       "      <th></th>\n",
       "      <th>cid</th>\n",
       "      <th>gid</th>\n",
       "      <th>vid</th>\n",
       "    </tr>\n",
       "  </thead>\n",
       "  <tbody>\n",
       "    <tr>\n",
       "      <th>17</th>\n",
       "      <td>PA451605</td>\n",
       "      <td>PA35844</td>\n",
       "      <td>PA166230183</td>\n",
       "    </tr>\n",
       "    <tr>\n",
       "      <th>25</th>\n",
       "      <td>PA449061</td>\n",
       "      <td>PA31591</td>\n",
       "      <td>PA166232961</td>\n",
       "    </tr>\n",
       "    <tr>\n",
       "      <th>29</th>\n",
       "      <td>PA450401</td>\n",
       "      <td>PA134991624</td>\n",
       "      <td>PA166233022</td>\n",
       "    </tr>\n",
       "    <tr>\n",
       "      <th>43</th>\n",
       "      <td>PA166163161</td>\n",
       "      <td>PA134865839</td>\n",
       "      <td>PA166154579</td>\n",
       "    </tr>\n",
       "    <tr>\n",
       "      <th>48</th>\n",
       "      <td>PA166186245</td>\n",
       "      <td>PA24696</td>\n",
       "      <td>PA166154482</td>\n",
       "    </tr>\n",
       "    <tr>\n",
       "      <th>...</th>\n",
       "      <td>...</td>\n",
       "      <td>...</td>\n",
       "      <td>...</td>\n",
       "    </tr>\n",
       "    <tr>\n",
       "      <th>329357</th>\n",
       "      <td>PA451690</td>\n",
       "      <td>PA128</td>\n",
       "      <td>PA166178882</td>\n",
       "    </tr>\n",
       "    <tr>\n",
       "      <th>329358</th>\n",
       "      <td>PA451690</td>\n",
       "      <td>PA128</td>\n",
       "      <td>PA166156076</td>\n",
       "    </tr>\n",
       "    <tr>\n",
       "      <th>329359</th>\n",
       "      <td>PA451690</td>\n",
       "      <td>PA128</td>\n",
       "      <td>PA166169720</td>\n",
       "    </tr>\n",
       "    <tr>\n",
       "      <th>329360</th>\n",
       "      <td>PA451690</td>\n",
       "      <td>PA128</td>\n",
       "      <td>PA166243646</td>\n",
       "    </tr>\n",
       "    <tr>\n",
       "      <th>329361</th>\n",
       "      <td>PA451690</td>\n",
       "      <td>PA128</td>\n",
       "      <td>NaN</td>\n",
       "    </tr>\n",
       "  </tbody>\n",
       "</table>\n",
       "<p>17772 rows × 3 columns</p>\n",
       "</div>"
      ],
      "text/plain": [
       "                cid          gid          vid\n",
       "17         PA451605      PA35844  PA166230183\n",
       "25         PA449061      PA31591  PA166232961\n",
       "29         PA450401  PA134991624  PA166233022\n",
       "43      PA166163161  PA134865839  PA166154579\n",
       "48      PA166186245      PA24696  PA166154482\n",
       "...             ...          ...          ...\n",
       "329357     PA451690        PA128  PA166178882\n",
       "329358     PA451690        PA128  PA166156076\n",
       "329359     PA451690        PA128  PA166169720\n",
       "329360     PA451690        PA128  PA166243646\n",
       "329361     PA451690        PA128          NaN\n",
       "\n",
       "[17772 rows x 3 columns]"
      ]
     },
     "execution_count": 21,
     "metadata": {},
     "output_type": "execute_result"
    }
   ],
   "source": [
    "df"
   ]
  },
  {
   "cell_type": "code",
   "execution_count": 17,
   "metadata": {},
   "outputs": [],
   "source": [
    "class PairSplitter(object):\n",
    "    def __init__(self, pairs, y=None):\n",
    "        self.pairs = pairs\n",
    "        self.y = y\n",
    "\n",
    "    def random(self, test_size=0.2):\n",
    "        idxs = [i for i in range(len(self.pairs))]\n",
    "        random.shuffle(idxs)\n",
    "        all_pairs = [self.pairs[i] for i in idxs]\n",
    "        n = int(len(all_pairs) * (1 - test_size))\n",
    "        m = len(all_pairs) - n\n",
    "        x_tr = all_pairs[:n]\n",
    "        x_te = all_pairs[-m:]\n",
    "        if self.y is not None:\n",
    "            y = [self.y[i] for i in idxs]\n",
    "            y_tr = y[:n]\n",
    "            y_te = y[-m:]\n",
    "            return x_tr, x_te, y_tr, y_te\n",
    "        else:\n",
    "            return x_tr, x_te\n",
    "\n",
    "    def leave_drugs_out(self, test_size=0.2):\n",
    "        uniq = list(set([x[0] for x in pairs]))\n",
    "        random.shuffle(uniq)\n",
    "        n = int(len(uniq) * (1 - test_size))\n",
    "        u_tr = set(uniq[:n])\n",
    "        x_tr = []\n",
    "        x_te = []\n",
    "        y_tr = []\n",
    "        y_te = []\n",
    "        idxs = [i for i in range(len(self.pairs))]\n",
    "        random.shuffle(idxs)\n",
    "        all_pairs = [self.pairs[i] for i in idxs]\n",
    "        if self.y is not None:\n",
    "            y = [self.y[i] for i in idxs]\n",
    "        else:\n",
    "            y = None\n",
    "        for i, p in enumerate(all_pairs):\n",
    "            if p[0] in u_tr:\n",
    "                x_tr += [p]\n",
    "                if y is not None:\n",
    "                    y_tr += [y[i]]\n",
    "            else:\n",
    "                x_te += [p]\n",
    "                if y is not None:\n",
    "                    y_te += [y[i]]\n",
    "        if self.y is not None:\n",
    "            return x_tr, x_te, y_tr, y_te\n",
    "        else:\n",
    "            return x_tr, x_te\n",
    "\n",
    "    def leave_genes_out(self, test_size=0.2):\n",
    "        uniq = list(set([x[1] for x in pairs]))\n",
    "        random.shuffle(uniq)\n",
    "        n = int(len(uniq) * (1 - test_size))\n",
    "        u_tr = set(uniq[:n])\n",
    "        x_tr = []\n",
    "        x_te = []\n",
    "        y_tr = []\n",
    "        y_te = []\n",
    "        idxs = [i for i in range(len(self.pairs))]\n",
    "        random.shuffle(idxs)\n",
    "        all_pairs = [self.pairs[i] for i in idxs]\n",
    "        if self.y is not None:\n",
    "            y = [self.y[i] for i in idxs]\n",
    "        else:\n",
    "            y = None\n",
    "        for i, p in enumerate(all_pairs):\n",
    "            if p[1] in u_tr:\n",
    "                x_tr += [p]\n",
    "                if y is not None:\n",
    "                    y_tr += [y[i]]\n",
    "            else:\n",
    "                x_te += [p]\n",
    "                if y is not None:\n",
    "                    y_te += [y[i]]\n",
    "        if self.y is not None:\n",
    "            return x_tr, x_te, y_tr, y_te\n",
    "        else:\n",
    "            return x_tr, x_te\n",
    "\n",
    "    def leave_my_drugs_out(self, interest_list):\n",
    "        pass\n",
    "\n",
    "    def leave_my_targets_out(self, interest_list):\n",
    "        pass\n",
    "\n",
    "\n",
    "pairs_tr, pairs_te, y_tr, y_te = PairSplitter(all_pairs, y).leave_drugs_out(0.2)"
   ]
  },
  {
   "cell_type": "code",
   "execution_count": 19,
   "metadata": {},
   "outputs": [
    {
     "name": "stdout",
     "output_type": "stream",
     "text": [
      "186\n"
     ]
    }
   ],
   "source": [
    "print(len(set([x[1] for x in triplets])))"
   ]
  },
  {
   "cell_type": "code",
   "execution_count": 55,
   "metadata": {},
   "outputs": [
    {
     "data": {
      "text/plain": [
       "0.5586413961343593"
      ]
     },
     "execution_count": 55,
     "metadata": {},
     "output_type": "execute_result"
    }
   ],
   "source": [
    "from sklearn.ensemble import RandomForestClassifier\n",
    "\n",
    "\n",
    "class BimodalStackedModel(object):\n",
    "    def __init__(self, df_A, df_B):\n",
    "        self.dict_A = dict((r[0], r[1:]) for r in df_A.values)\n",
    "        self.dict_B = dict((r[0], r[1:]) for r in df_B.values)\n",
    "        self.reducer = LOL(n_components=100)\n",
    "        self.model = RandomForestClassifier()\n",
    "\n",
    "    def fit(self, pairs, y):\n",
    "        y = np.array(y)\n",
    "        A = []\n",
    "        B = []\n",
    "        y_ = []\n",
    "        for i, t in enumerate(pairs):\n",
    "            if t[0] not in self.dict_A:\n",
    "                continue\n",
    "            if t[1] not in self.dict_B:\n",
    "                continue\n",
    "            A += [self.dict_A[t[0]]]\n",
    "            B += [self.dict_B[t[1]]]\n",
    "            y_ += [y[i]]\n",
    "        A = np.array(A)\n",
    "        B = np.array(B)\n",
    "        X = np.hstack([A, B])\n",
    "        y = np.array(y_).astype(int)\n",
    "        self.reducer.fit(X, y)\n",
    "        X = self.reducer.transform(X)\n",
    "        self.model.fit(X, y)\n",
    "\n",
    "    def predict(self, pairs):\n",
    "        A = []\n",
    "        B = []\n",
    "        idxs = []\n",
    "        for i, t in enumerate(pairs):\n",
    "            if t[0] not in self.dict_A:\n",
    "                continue\n",
    "            if t[1] not in self.dict_B:\n",
    "                continue\n",
    "            A += [self.dict_A[t[0]]]\n",
    "            B += [self.dict_B[t[1]]]\n",
    "            idxs += [i]\n",
    "        A = np.array(A)\n",
    "        B = np.array(B)\n",
    "        X = np.hstack([A, B])\n",
    "        X = self.reducer.transform(X)\n",
    "        y_ = self.model.predict_proba(X)[:, 1]\n",
    "        y_hat = np.full((len(pairs),), np.nan)\n",
    "        y_hat[idxs] = y_\n",
    "        return y_hat\n",
    "\n",
    "    def evaluate(self, pairs, y):\n",
    "        y_hat = self.predict(pairs)\n",
    "        idxs = [i for i in range(len(y_hat)) if not np.isnan(y_hat[i])]\n",
    "        y_hat = [y_hat[i] for i in idxs]\n",
    "        y = [y[i] for i in idxs]\n",
    "        return roc_auc_score(y, y_hat)\n",
    "\n",
    "\n",
    "mdl = BimodalStackedModel(cemb, pemb)\n",
    "\n",
    "mdl.fit(pairs_tr, y_tr)\n",
    "mdl.evaluate(pairs_te, y_te)"
   ]
  },
  {
   "cell_type": "code",
   "execution_count": 56,
   "metadata": {},
   "outputs": [],
   "source": [
    "bge = BiotequeGeneEmbedding()\n",
    "pse = ProteinSequenceEmbedding()\n",
    "cse = CompoundStructureEmbedding()"
   ]
  },
  {
   "cell_type": "code",
   "execution_count": 57,
   "metadata": {},
   "outputs": [],
   "source": [
    "cemb_list = []\n",
    "for x in cse.available():\n",
    "    cemb_list += [(x, CompoundStructureEmbedding(x).get())]\n",
    "\n",
    "pemb_list = []\n",
    "for x in pse.available():\n",
    "    pemb_list += [(x, ProteinSequenceEmbedding(x).get())]\n",
    "\n",
    "for x in bge.available().values:\n",
    "    pemb_list += [(x, BiotequeGeneEmbedding(x[0], x[1]).get())]"
   ]
  },
  {
   "cell_type": "code",
   "execution_count": 58,
   "metadata": {},
   "outputs": [
    {
     "name": "stdout",
     "output_type": "stream",
     "text": [
      "ersilia esm1b 0.5660536686057422\n",
      "ersilia prot5 0.5450600487896415\n",
      "ersilia ['GEN-pdf-TIS' 'hpa_proteome'] 0.6181554103122731\n",
      "ersilia ['GEN-ass-PWY' 'reactome'] 0.582785570105067\n",
      "ersilia ['GEN-cex-GEN' 'coexpressdb'] 0.5686554532952501\n",
      "ersilia ['GEN-has-DOM' 'interpro'] 0.5805011520737328\n",
      "ersilia ['GEN-pab-TIS' 'hpa_proteome'] 0.5874095196314981\n",
      "ersilia ['GEN-has-MFN' 'gomf_goa_curated'] 0.569848167016282\n",
      "ersilia ['GEN-upr-CLL' 'gdsc1000_mrna'] 0.5633004499826929\n",
      "ersilia ['GEN-ppi-GEN' 'hi_union'] 0.36403508771929827\n",
      "ersilia ['GEN-ppi-GEN' 'string'] 0.5604885057471265\n",
      "ersilia ['GEN-ass-DIS' 'opentargets'] 0.5691861330159202\n",
      "ersilia ['GEN-ass-DIS' 'disgenet_curated'] 0.5643796992481203\n",
      "ersilia ['GEN-has-CMP' 'jensencompartmentcurated'] 0.5212366230677764\n",
      "signaturizer esm1b 0.6270495756172839\n",
      "signaturizer prot5 0.6080970293209876\n",
      "signaturizer ['GEN-pdf-TIS' 'hpa_proteome'] 0.6824661963550852\n",
      "signaturizer ['GEN-ass-PWY' 'reactome'] 0.6058926954019926\n",
      "signaturizer ['GEN-cex-GEN' 'coexpressdb'] 0.5798053527980536\n",
      "signaturizer ['GEN-has-DOM' 'interpro'] 0.5889976958525346\n",
      "signaturizer ['GEN-pab-TIS' 'hpa_proteome'] 0.6210371376811594\n",
      "signaturizer ['GEN-has-MFN' 'gomf_goa_curated'] 0.6565896219194856\n",
      "signaturizer ['GEN-upr-CLL' 'gdsc1000_mrna'] 0.625133499466002\n",
      "signaturizer ['GEN-ppi-GEN' 'hi_union'] 0.4375\n",
      "signaturizer ['GEN-ppi-GEN' 'string'] 0.619053481729538\n",
      "signaturizer ['GEN-ass-DIS' 'opentargets'] 0.6322188449848024\n",
      "signaturizer ['GEN-ass-DIS' 'disgenet_curated'] 0.6104986431478968\n",
      "signaturizer ['GEN-has-CMP' 'jensencompartmentcurated'] 0.5588048315321043\n",
      "grover esm1b 0.6138358410493827\n",
      "grover prot5 0.5436439043209876\n",
      "grover ['GEN-pdf-TIS' 'hpa_proteome'] 0.6277189888300999\n",
      "grover ['GEN-ass-PWY' 'reactome'] 0.5272257445788268\n",
      "grover ['GEN-cex-GEN' 'coexpressdb'] 0.5283590159502568\n",
      "grover ['GEN-has-DOM' 'interpro'] 0.5707085253456221\n",
      "grover ['GEN-pab-TIS' 'hpa_proteome'] 0.5502717391304348\n",
      "grover ['GEN-has-MFN' 'gomf_goa_curated'] 0.5483443032807797\n",
      "grover ['GEN-upr-CLL' 'gdsc1000_mrna'] 0.5423193307226771\n",
      "grover ['GEN-ppi-GEN' 'hi_union'] 0.47916666666666663\n",
      "grover ['GEN-ppi-GEN' 'string'] 0.606126268098099\n",
      "grover ['GEN-ass-DIS' 'opentargets'] 0.5182624113475177\n",
      "grover ['GEN-ass-DIS' 'disgenet_curated'] 0.5659769335142468\n",
      "grover ['GEN-has-CMP' 'jensencompartmentcurated'] 0.5322754168908015\n"
     ]
    }
   ],
   "source": [
    "R = []\n",
    "for cemb in cemb_list:\n",
    "    for pemb in pemb_list:\n",
    "        model = BimodalStackedModel(cemb[1], pemb[1])\n",
    "        model.fit(pairs_tr, y_tr)\n",
    "        print(cemb[0], pemb[0], model.evaluate(pairs_te, y_te))\n",
    "        R += [model.predict(pairs_te)]"
   ]
  },
  {
   "cell_type": "code",
   "execution_count": 59,
   "metadata": {},
   "outputs": [
    {
     "name": "stderr",
     "output_type": "stream",
     "text": [
      "/Users/mduranfrigola/miniconda3/envs/biogpt/lib/python3.10/site-packages/numpy/lib/nanfunctions.py:1577: RuntimeWarning: All-NaN slice encountered\n",
      "  result = np.apply_along_axis(_nanquantile_1d, axis, a, q,\n"
     ]
    },
    {
     "data": {
      "text/plain": [
       "0.641747982735973"
      ]
     },
     "execution_count": 59,
     "metadata": {},
     "output_type": "execute_result"
    }
   ],
   "source": [
    "y_hat = np.array(R)\n",
    "y_hat = np.nanpercentile(y_hat, 75, axis=0)\n",
    "\n",
    "idxs = [i for i in range(len(y_hat)) if not np.isnan(y_hat[i])]\n",
    "y_hat = [y_hat[i] for i in idxs]\n",
    "y_ = [y_te[i] for i in idxs]\n",
    "roc_auc_score(y_, y_hat)"
   ]
  },
  {
   "cell_type": "code",
   "execution_count": 60,
   "metadata": {},
   "outputs": [
    {
     "data": {
      "text/plain": [
       "[<matplotlib.lines.Line2D at 0x308562290>]"
      ]
     },
     "execution_count": 60,
     "metadata": {},
     "output_type": "execute_result"
    },
    {
     "data": {
      "image/png": "[encoded data removed]",
      "text/plain": [
       "<Figure size 640x480 with 1 Axes>"
      ]
     },
     "metadata": {},
     "output_type": "display_data"
    }
   ],
   "source": [
    "%matplotlib inline\n",
    "from sklearn.metrics import roc_curve\n",
    "import matplotlib.pyplot as plt\n",
    "\n",
    "fpr, tpr, _ = roc_curve(y_, y_hat)\n",
    "plt.plot(fpr, tpr)"
   ]
  }
 ],
 "metadata": {
  "kernelspec": {
   "display_name": "biogpt",
   "language": "python",
   "name": "python3"
  },
  "language_info": {
   "codemirror_mode": {
    "name": "ipython",
    "version": 3
   },
   "file_extension": ".py",
   "mimetype": "text/x-python",
   "name": "python",
   "nbconvert_exporter": "python",
   "pygments_lexer": "ipython3",
   "version": "3.10.10"
  },
  "orig_nbformat": 4
 },
 "nbformat": 4,
 "nbformat_minor": 2
}
