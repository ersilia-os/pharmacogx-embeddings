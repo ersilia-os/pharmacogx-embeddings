{
 "cells": [
  {
   "attachments": {},
   "cell_type": "markdown",
   "metadata": {},
   "source": [
    "# Prepare data for AI training\n",
    "\n",
    "This is an exploratory analysis of the PharmGKB data.\n",
    "\n",
    "* Only PK-related data is considered.\n",
    "* Only significant interactions are considered.\n",
    "* Only compounds with a valid smiles"
   ]
  },
  {
   "cell_type": "code",
   "execution_count": 105,
   "metadata": {},
   "outputs": [],
   "source": [
    "import os\n",
    "import pandas as pd\n",
    "\n",
    "df = pd.read_csv(\"../data/pharmgkb_processed/final_tables/pgkb_merged.csv\", low_memory=False)"
   ]
  },
  {
   "cell_type": "code",
   "execution_count": 106,
   "metadata": {},
   "outputs": [
    {
     "name": "stdout",
     "output_type": "stream",
     "text": [
      "Compounds: 914\n",
      "Genes:     1825\n",
      "Variants:  6957\n"
     ]
    }
   ],
   "source": [
    "print(\"Compounds:\", len(set(df[\"cid\"])))\n",
    "print(\"Genes:    \", len(set(df[\"gid\"])))\n",
    "print(\"Variants: \", len(set(df[\"vid\"])))"
   ]
  },
  {
   "cell_type": "code",
   "execution_count": 118,
   "metadata": {},
   "outputs": [
    {
     "name": "stderr",
     "output_type": "stream",
     "text": [
      "100%|██████████| 721/721 [00:00<00:00, 3673.77it/s]\n"
     ]
    }
   ],
   "source": [
    "from rdkit import Chem\n",
    "from tqdm import tqdm\n",
    "\n",
    "cid2smi = {}\n",
    "\n",
    "for r in df[[\"cid\", \"smiles\"]].values:\n",
    "    if str(r[1]) != \"nan\":\n",
    "        cid2smi[r[0]] = r[1]\n",
    "\n",
    "cid2key = {}\n",
    "for k,v in tqdm(cid2smi.items()):\n",
    "    mol = Chem.MolFromSmiles(v)\n",
    "    inchi = Chem.rdinchi.MolToInchi(mol)[0]\n",
    "    inchikey = Chem.rdinchi.InchiToInchiKey(inchi)\n",
    "    cid2key[k] = inchikey"
   ]
  },
  {
   "cell_type": "code",
   "execution_count": 133,
   "metadata": {},
   "outputs": [],
   "source": [
    "hp = pd.read_csv(\"../data/other/human_proteome_with_genenames.tab\", sep=\"\\t\")\n",
    "cols = list(hp.columns)\n",
    "hp = hp[(hp[cols[0]].notnull()) & (hp[cols[2]].notnull())]\n",
    "g2p = {}\n",
    "for r in hp[[cols[0], cols[2]]].values:\n",
    "    for x in r[1].split(\" \"):\n",
    "        g2p[x] = r[0]\n",
    "\n",
    "gid2key = {}\n",
    "for r in df[[\"gid\", \"gene\"]].values:\n",
    "    if str(r[0]) == \"nan\" or str(r[1]) == \"nan\":\n",
    "        continue\n",
    "    if r[1] not in g2p:\n",
    "        continue\n",
    "    gid2key[r[0]] = g2p[r[1]]"
   ]
  },
  {
   "cell_type": "code",
   "execution_count": 136,
   "metadata": {},
   "outputs": [
    {
     "data": {
      "text/plain": [
       "phenotype\n",
       "Metabolism/PK    123239\n",
       "Toxicity          88571\n",
       "Efficacy          75688\n",
       "Dosage            34507\n",
       "Other             12819\n",
       "PD                  183\n",
       "Name: count, dtype: int64"
      ]
     },
     "execution_count": 136,
     "metadata": {},
     "output_type": "execute_result"
    }
   ],
   "source": [
    "df[\"phenotype\"].value_counts()"
   ]
  },
  {
   "cell_type": "code",
   "execution_count": 137,
   "metadata": {},
   "outputs": [
    {
     "data": {
      "text/plain": [
       "significance\n",
       " 1.0    127235\n",
       "-1.0     88453\n",
       " 0.0     29906\n",
       "Name: count, dtype: int64"
      ]
     },
     "execution_count": 137,
     "metadata": {},
     "output_type": "execute_result"
    }
   ],
   "source": [
    "df[\"significance\"].value_counts()"
   ]
  },
  {
   "cell_type": "code",
   "execution_count": 138,
   "metadata": {},
   "outputs": [],
   "source": [
    "df = df[df[\"phenotype\"].isin([\"Metabolism/PK\", \"Toxicity\", \"Dosage\"])]\n",
    "df = df[df[\"significance\"] != -1]"
   ]
  },
  {
   "cell_type": "code",
   "execution_count": 140,
   "metadata": {},
   "outputs": [],
   "source": [
    "df = df[[\"cid\", \"gid\", \"vid\"]]\n",
    "df = df.drop_duplicates()"
   ]
  },
  {
   "cell_type": "code",
   "execution_count": 141,
   "metadata": {},
   "outputs": [
    {
     "data": {
      "text/plain": [
       "cid\n",
       "PA450401       351\n",
       "PA450688       342\n",
       "PA448497       332\n",
       "PA451103       319\n",
       "PA451363       310\n",
       "              ... \n",
       "PA166250364      1\n",
       "PA166256441      1\n",
       "PA166258723      1\n",
       "PA448018         1\n",
       "PA448360         1\n",
       "Name: count, Length: 658, dtype: int64"
      ]
     },
     "execution_count": 141,
     "metadata": {},
     "output_type": "execute_result"
    }
   ],
   "source": [
    "df.value_counts(\"cid\")"
   ]
  },
  {
   "cell_type": "code",
   "execution_count": 151,
   "metadata": {},
   "outputs": [
    {
     "ename": "AttributeError",
     "evalue": "'list' object has no attribute 'shuffle'",
     "output_type": "error",
     "traceback": [
      "\u001b[0;31m---------------------------------------------------------------------------\u001b[0m",
      "\u001b[0;31mAttributeError\u001b[0m                            Traceback (most recent call last)",
      "Cell \u001b[0;32mIn[151], line 11\u001b[0m\n\u001b[1;32m      9\u001b[0m     triplets\u001b[39m.\u001b[39mupdate([(cid2key[r[\u001b[39m0\u001b[39m]], gid2key[r[\u001b[39m1\u001b[39m]], r[\u001b[39m2\u001b[39m])])\n\u001b[1;32m     10\u001b[0m triplets \u001b[39m=\u001b[39m \u001b[39mlist\u001b[39m(triplets)\n\u001b[0;32m---> 11\u001b[0m triplets\u001b[39m.\u001b[39;49mshuffle()\n\u001b[1;32m     13\u001b[0m pairs \u001b[39m=\u001b[39m \u001b[39mset\u001b[39m()\n\u001b[1;32m     14\u001b[0m \u001b[39mfor\u001b[39;00m r \u001b[39min\u001b[39;00m df[[\u001b[39m\"\u001b[39m\u001b[39mcid\u001b[39m\u001b[39m\"\u001b[39m, \u001b[39m\"\u001b[39m\u001b[39mgid\u001b[39m\u001b[39m\"\u001b[39m]]\u001b[39m.\u001b[39mvalues:\n",
      "\u001b[0;31mAttributeError\u001b[0m: 'list' object has no attribute 'shuffle'"
     ]
    }
   ],
   "source": [
    "import random\n",
    "triplets = set()\n",
    "for r in df[[\"cid\", \"gid\", \"vid\"]].values:\n",
    "    r = tuple(r)\n",
    "    if r[0] not in cid2key:\n",
    "        continue\n",
    "    if r[1] not in gid2key:\n",
    "        continue\n",
    "    triplets.update([(cid2key[r[0]], gid2key[r[1]], r[2])])\n",
    "triplets = list(triplets)\n",
    "random.shuffle(triplets)\n",
    "\n",
    "pairs = set()\n",
    "for r in df[[\"cid\", \"gid\"]].values:\n",
    "    r = tuple(r)\n",
    "    if r[0] not in cid2key:\n",
    "        continue\n",
    "    if r[1] not in gid2key:\n",
    "        continue\n",
    "    pairs.update([(cid2key[r[0]], gid2key[r[1]])])\n",
    "pairs = list(pairs)\n",
    "random.shuffle(pairs)"
   ]
  },
  {
   "cell_type": "code",
   "execution_count": 146,
   "metadata": {},
   "outputs": [
    {
     "name": "stdout",
     "output_type": "stream",
     "text": [
      "Compound, Gene, Variant Triplets 23726\n",
      "Compound, Gene Pairs 2635\n"
     ]
    }
   ],
   "source": [
    "print(\"Compound, Gene, Variant Triplets\", len(triplets))\n",
    "print(\"Compound, Gene Pairs\", len(pairs))"
   ]
  },
  {
   "cell_type": "code",
   "execution_count": 149,
   "metadata": {},
   "outputs": [],
   "source": [
    "pairs = list(pairs)"
   ]
  },
  {
   "cell_type": "code",
   "execution_count": null,
   "metadata": {},
   "outputs": [],
   "source": []
  }
 ],
 "metadata": {
  "kernelspec": {
   "display_name": "biogpt",
   "language": "python",
   "name": "python3"
  },
  "language_info": {
   "codemirror_mode": {
    "name": "ipython",
    "version": 3
   },
   "file_extension": ".py",
   "mimetype": "text/x-python",
   "name": "python",
   "nbconvert_exporter": "python",
   "pygments_lexer": "ipython3",
   "version": "3.10.10"
  },
  "orig_nbformat": 4
 },
 "nbformat": 4,
 "nbformat_minor": 2
}
